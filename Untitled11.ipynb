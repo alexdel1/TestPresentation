{
  "nbformat": 4,
  "nbformat_minor": 0,
  "metadata": {
    "colab": {
      "provenance": []
    },
    "kernelspec": {
      "name": "python3",
      "display_name": "Python 3"
    },
    "language_info": {
      "name": "python"
    },
    "widgets": {
      "application/vnd.jupyter.widget-state+json": {
        "68c7a8e3ca5a4c118b94282a8788e9be": {
          "model_module": "@jupyter-widgets/controls",
          "model_name": "TextModel",
          "model_module_version": "1.5.0",
          "state": {
            "_dom_classes": [],
            "_model_module": "@jupyter-widgets/controls",
            "_model_module_version": "1.5.0",
            "_model_name": "TextModel",
            "_view_count": null,
            "_view_module": "@jupyter-widgets/controls",
            "_view_module_version": "1.5.0",
            "_view_name": "TextView",
            "continuous_update": true,
            "description": "Input:",
            "description_tooltip": null,
            "disabled": false,
            "layout": "IPY_MODEL_bb9906926671452bb4941aedacc8bf2a",
            "placeholder": "Type something",
            "style": "IPY_MODEL_948fe7a46a8f4fd08f65d8b0d3b914d6",
            "value": "#Hello, world!"
          }
        },
        "bb9906926671452bb4941aedacc8bf2a": {
          "model_module": "@jupyter-widgets/base",
          "model_name": "LayoutModel",
          "model_module_version": "1.2.0",
          "state": {
            "_model_module": "@jupyter-widgets/base",
            "_model_module_version": "1.2.0",
            "_model_name": "LayoutModel",
            "_view_count": null,
            "_view_module": "@jupyter-widgets/base",
            "_view_module_version": "1.2.0",
            "_view_name": "LayoutView",
            "align_content": null,
            "align_items": null,
            "align_self": null,
            "border": null,
            "bottom": null,
            "display": null,
            "flex": null,
            "flex_flow": null,
            "grid_area": null,
            "grid_auto_columns": null,
            "grid_auto_flow": null,
            "grid_auto_rows": null,
            "grid_column": null,
            "grid_gap": null,
            "grid_row": null,
            "grid_template_areas": null,
            "grid_template_columns": null,
            "grid_template_rows": null,
            "height": null,
            "justify_content": null,
            "justify_items": null,
            "left": null,
            "margin": null,
            "max_height": null,
            "max_width": null,
            "min_height": null,
            "min_width": null,
            "object_fit": null,
            "object_position": null,
            "order": null,
            "overflow": null,
            "overflow_x": null,
            "overflow_y": null,
            "padding": null,
            "right": null,
            "top": null,
            "visibility": null,
            "width": null
          }
        },
        "948fe7a46a8f4fd08f65d8b0d3b914d6": {
          "model_module": "@jupyter-widgets/controls",
          "model_name": "DescriptionStyleModel",
          "model_module_version": "1.5.0",
          "state": {
            "_model_module": "@jupyter-widgets/controls",
            "_model_module_version": "1.5.0",
            "_model_name": "DescriptionStyleModel",
            "_view_count": null,
            "_view_module": "@jupyter-widgets/base",
            "_view_module_version": "1.2.0",
            "_view_name": "StyleView",
            "description_width": ""
          }
        },
        "3343630b14644a33aa332badfaa5a481": {
          "model_module": "@jupyter-widgets/output",
          "model_name": "OutputModel",
          "model_module_version": "1.0.0",
          "state": {
            "_dom_classes": [],
            "_model_module": "@jupyter-widgets/output",
            "_model_module_version": "1.0.0",
            "_model_name": "OutputModel",
            "_view_count": null,
            "_view_module": "@jupyter-widgets/output",
            "_view_module_version": "1.0.0",
            "_view_name": "OutputView",
            "layout": "IPY_MODEL_ddb31e9d1d6a406bb322d47e15c3698f",
            "msg_id": "",
            "outputs": [
              {
                "output_type": "display_data",
                "data": {
                  "text/plain": "<IPython.core.display.Markdown object>",
                  "text/markdown": "# #Hello, world!"
                },
                "metadata": {}
              }
            ]
          }
        },
        "ddb31e9d1d6a406bb322d47e15c3698f": {
          "model_module": "@jupyter-widgets/base",
          "model_name": "LayoutModel",
          "model_module_version": "1.2.0",
          "state": {
            "_model_module": "@jupyter-widgets/base",
            "_model_module_version": "1.2.0",
            "_model_name": "LayoutModel",
            "_view_count": null,
            "_view_module": "@jupyter-widgets/base",
            "_view_module_version": "1.2.0",
            "_view_name": "LayoutView",
            "align_content": null,
            "align_items": null,
            "align_self": null,
            "border": null,
            "bottom": null,
            "display": null,
            "flex": null,
            "flex_flow": null,
            "grid_area": null,
            "grid_auto_columns": null,
            "grid_auto_flow": null,
            "grid_auto_rows": null,
            "grid_column": null,
            "grid_gap": null,
            "grid_row": null,
            "grid_template_areas": null,
            "grid_template_columns": null,
            "grid_template_rows": null,
            "height": null,
            "justify_content": null,
            "justify_items": null,
            "left": null,
            "margin": null,
            "max_height": null,
            "max_width": null,
            "min_height": null,
            "min_width": null,
            "object_fit": null,
            "object_position": null,
            "order": null,
            "overflow": null,
            "overflow_x": null,
            "overflow_y": null,
            "padding": null,
            "right": null,
            "top": null,
            "visibility": null,
            "width": null
          }
        }
      }
    }
  },
  "cells": [
    {
      "cell_type": "code",
      "source": [
        "\n",
        "\n",
        "%%html\n",
        "<h1>JavaScript Variable Example</h1>\n",
        "\n",
        "    <!-- This is where we will display the value of the JavaScript variable -->\n",
        "    <p>Variable Value: <span id=\"variable-display\"></span></p>\n",
        "\n",
        "    <script>\n",
        "        // Declare a JavaScript variable\n",
        "        var myVariable = \"Hello, world!\";\n",
        "\n",
        "        // Display the variable's value in the HTML page\n",
        "        document.getElementById(\"variable-display\").textContent = myVariable;\n",
        "    </script>"
      ],
      "metadata": {
        "colab": {
          "base_uri": "https://localhost:8080/",
          "height": 100
        },
        "id": "68dPgwtAnigk",
        "outputId": "69bcdf80-b063-4934-85e7-f9aa402d76d6"
      },
      "execution_count": null,
      "outputs": [
        {
          "output_type": "display_data",
          "data": {
            "text/plain": [
              "<IPython.core.display.HTML object>"
            ],
            "text/html": [
              "<h1>JavaScript Variable Example</h1>\n",
              "\n",
              "    <!-- This is where we will display the value of the JavaScript variable -->\n",
              "    <p>Variable Value: <span id=\"variable-display\"></span></p>\n",
              "\n",
              "    <script>\n",
              "        // Declare a JavaScript variable\n",
              "        var myVariable = \"Hello, world!\";\n",
              "\n",
              "        // Display the variable's value in the HTML page\n",
              "        document.getElementById(\"variable-display\").textContent = myVariable;\n",
              "    </script>\n"
            ]
          },
          "metadata": {}
        }
      ]
    },
    {
      "cell_type": "markdown",
      "source": [
        "<p>Variable Value: <span id=\"variable-display\"></span></p>"
      ],
      "metadata": {
        "id": "A8jPjds8nr36"
      }
    },
    {
      "cell_type": "code",
      "execution_count": null,
      "metadata": {
        "colab": {
          "base_uri": "https://localhost:8080/",
          "height": 155
        },
        "id": "ZntR7f23kXz_",
        "outputId": "446b2391-66ef-4cf6-8fd2-41d15a4d0d30"
      },
      "outputs": [
        {
          "output_type": "display_data",
          "data": {
            "text/plain": [
              "<IPython.core.display.Markdown object>"
            ],
            "text/markdown": "# Chapter 1 - Introduction"
          },
          "metadata": {}
        },
        {
          "output_type": "display_data",
          "data": {
            "text/plain": [
              "<IPython.core.display.Markdown object>"
            ],
            "text/markdown": "## Section 1.1 - Overview"
          },
          "metadata": {}
        },
        {
          "output_type": "display_data",
          "data": {
            "text/plain": [
              "<IPython.core.display.Markdown object>"
            ],
            "text/markdown": "### Subsection 1.1.1 - Details"
          },
          "metadata": {}
        }
      ],
      "source": [
        "\n",
        "from IPython.display import display, Markdown\n",
        "\n",
        "# Define a function to create headers dynamically\n",
        "def create_toc_header(level, title):\n",
        "    # Markdown syntax for headers\n",
        "    header = '#' * level + ' ' + title\n",
        "    display(Markdown(header))\n",
        "\n",
        "# Example usage:\n",
        "create_toc_header(1, 'Chapter 1 - Introduction')\n",
        "create_toc_header(2, 'Section 1.1 - Overview')\n",
        "create_toc_header(3, 'Subsection 1.1.1 - Details')"
      ]
    },
    {
      "cell_type": "markdown",
      "source": [
        "# New section $a$\n",
        "\n",
        "```\n",
        "[# This is formatted as code](https://)\n",
        "\n",
        "> Add blockquote\n",
        "\n",
        "---\n",
        "\n",
        "\n",
        "\n",
        "\n",
        "```\n",
        "\n"
      ],
      "metadata": {
        "id": "uZ8Z6dktkeqn"
      }
    },
    {
      "cell_type": "code",
      "source": [
        "\n",
        "from IPython.display import display, Markdown\n",
        "\n",
        "# Define a function to create headers dynamically\n",
        "def create_toc_header(level, title):\n",
        "    # Markdown syntax for headers\n",
        "    header = '#' * level + ' ' + title\n",
        "    display(Markdown(header))\n",
        "\n",
        "# Example usage:\n",
        "create_toc_header(1, 'Chapter 1 - Introduction')\n",
        "create_toc_header(2, 'Section 1.1 - Overview')\n",
        "create_toc_header(3, 'Subsection 1.1.1 - Details')"
      ],
      "metadata": {
        "colab": {
          "base_uri": "https://localhost:8080/",
          "height": 189
        },
        "id": "ZDZKXHQYkgfa",
        "outputId": "973124ac-ab99-4523-a6e0-b64073f171b3"
      },
      "execution_count": null,
      "outputs": [
        {
          "output_type": "display_data",
          "data": {
            "text/plain": [
              "<IPython.core.display.Markdown object>"
            ],
            "text/markdown": "# Chapter 1 - Introduction"
          },
          "metadata": {}
        },
        {
          "output_type": "display_data",
          "data": {
            "text/plain": [
              "<IPython.core.display.Markdown object>"
            ],
            "text/markdown": "## Section 1.1 - Overview"
          },
          "metadata": {}
        },
        {
          "output_type": "display_data",
          "data": {
            "text/plain": [
              "<IPython.core.display.Markdown object>"
            ],
            "text/markdown": "### Subsection 1.1.1 - Details"
          },
          "metadata": {}
        }
      ]
    },
    {
      "cell_type": "code",
      "source": [
        "a=1"
      ],
      "metadata": {
        "id": "H5R_vLn8oQNp"
      },
      "execution_count": null,
      "outputs": []
    },
    {
      "cell_type": "code",
      "source": [
        "\n",
        "from google.colab import output\n",
        "\n",
        "?output"
      ],
      "metadata": {
        "id": "7_ug6cq5lCFG"
      },
      "execution_count": null,
      "outputs": []
    },
    {
      "cell_type": "markdown",
      "source": [
        "%%javascript\n",
        "var myVariable = \"Hello, world!\";\n",
        "\n",
        "        // Display the variable's value in the HTML page\n",
        "        document.getElementById(\"variable-display\").textContent = myVariable;"
      ],
      "metadata": {
        "id": "u8scPx9CqpUE"
      }
    },
    {
      "cell_type": "code",
      "source": [
        "%%javascript\n",
        "var myVariable = \"#Hello, world!\";\n",
        "\n",
        "        // Display the variable's value in the HTML page\n",
        "        document.getElementById(\"variable-display\").textContent = myVariable;"
      ],
      "metadata": {
        "colab": {
          "base_uri": "https://localhost:8080/",
          "height": 17
        },
        "id": "C5cpiSt-qyUX",
        "outputId": "551082b8-f172-4645-fac9-c90c1218616b"
      },
      "execution_count": null,
      "outputs": [
        {
          "output_type": "display_data",
          "data": {
            "text/plain": [
              "<IPython.core.display.Javascript object>"
            ],
            "application/javascript": [
              "var myVariable = \"#Hello, world!\";\n",
              "\n",
              "        // Display the variable's value in the HTML page\n",
              "        document.getElementById(\"variable-display\").textContent = myVariable;\n"
            ]
          },
          "metadata": {}
        }
      ]
    },
    {
      "cell_type": "code",
      "source": [
        "\n",
        "%%html\n",
        "<p>#Variable Value: <span id=\"variable-display\"></span></p>"
      ],
      "metadata": {
        "colab": {
          "base_uri": "https://localhost:8080/",
          "height": 46
        },
        "id": "fJBEgTWysTp9",
        "outputId": "6b6d329e-671b-4e6c-a7b6-2028d0b4a8e1"
      },
      "execution_count": null,
      "outputs": [
        {
          "output_type": "display_data",
          "data": {
            "text/plain": [
              "<IPython.core.display.HTML object>"
            ],
            "text/html": [
              "<p>#Variable Value: <span id=\"variable-display\"></span></p>\n"
            ]
          },
          "metadata": {}
        }
      ]
    },
    {
      "cell_type": "code",
      "source": [
        "\n",
        "%%html\n",
        "<p>Variable Value: <span id=\"variable-display\"></span></p>\n",
        "<script>\n",
        "    var myVariable = \"#Hello, world!\";\n",
        "    document.getElementById(\"variable-display\").textContent = myVariable;\n",
        "</script>"
      ],
      "metadata": {
        "colab": {
          "base_uri": "https://localhost:8080/",
          "height": 46
        },
        "id": "CEyFIxabsoLy",
        "outputId": "67dc2319-cf15-41e3-cd6c-9dce41b0c601"
      },
      "execution_count": null,
      "outputs": [
        {
          "output_type": "display_data",
          "data": {
            "text/plain": [
              "<IPython.core.display.HTML object>"
            ],
            "text/html": [
              "<p>Variable Value: <span id=\"variable-display\"></span></p>\n",
              "<script>\n",
              "    var myVariable = \"#Hello, world!\";\n",
              "    document.getElementById(\"variable-display\").textContent = myVariable;\n",
              "</script>\n"
            ]
          },
          "metadata": {}
        }
      ]
    },
    {
      "cell_type": "markdown",
      "source": [
        "%%html\n",
        "<p>Variable Value: <span id=\"variable-display\"></span></p>"
      ],
      "metadata": {
        "id": "fgwngWOUq1kQ"
      }
    },
    {
      "cell_type": "code",
      "source": [
        "\n",
        "%%html\n",
        "<script src=\"https://cdn.jsdelivr.net/npm/marked/marked.min.js\"></script>\n",
        "\n",
        "<div id=\"markdown-container\"></div>\n",
        "\n",
        "<script>\n",
        "    // JavaScript variable\n",
        "    var myVariable = \"#Hello, **world**! This is a Markdown rendered with Marked.js.\";\n",
        "\n",
        "    // Convert the Markdown to HTML using Marked.js\n",
        "    var markdown = myVariable;\n",
        "    var htmlContent = marked(markdown);\n",
        "\n",
        "    // Insert the rendered HTML into the container\n",
        "    document.getElementById(\"markdown-container\").innerHTML = htmlContent;\n",
        "</script>"
      ],
      "metadata": {
        "colab": {
          "base_uri": "https://localhost:8080/",
          "height": 17
        },
        "id": "RwxfpclZufLT",
        "outputId": "2d21c634-dbe5-4467-9138-b86e9e7e954b"
      },
      "execution_count": null,
      "outputs": [
        {
          "output_type": "display_data",
          "data": {
            "text/plain": [
              "<IPython.core.display.HTML object>"
            ],
            "text/html": [
              "<script src=\"https://cdn.jsdelivr.net/npm/marked/marked.min.js\"></script>\n",
              "\n",
              "<div id=\"markdown-container\"></div>\n",
              "\n",
              "<script>\n",
              "    // JavaScript variable\n",
              "    var myVariable = \"#Hello, **world**! This is a Markdown rendered with Marked.js.\";\n",
              "\n",
              "    // Convert the Markdown to HTML using Marked.js\n",
              "    var markdown = myVariable;\n",
              "    var htmlContent = marked(markdown);\n",
              "\n",
              "    // Insert the rendered HTML into the container\n",
              "    document.getElementById(\"markdown-container\").innerHTML = htmlContent;\n",
              "</script>\n"
            ]
          },
          "metadata": {}
        }
      ]
    },
    {
      "cell_type": "code",
      "source": [
        "\n",
        "import ipywidgets as widgets\n",
        "from IPython.display import display, Markdown\n",
        "\n",
        "# Create a text input widget\n",
        "input_box = widgets.Text(\n",
        "    value='Hello, world!',\n",
        "    placeholder='Type something',\n",
        "    description='Input:',\n",
        "    disabled=False\n",
        ")\n",
        "\n",
        "# Create a Markdown output widget\n",
        "markdown_output = widgets.Output()\n",
        "\n",
        "# Function to update the Markdown content dynamically\n",
        "def update_markdown(change):\n",
        "    with markdown_output:\n",
        "        markdown_output.clear_output()\n",
        "        display(Markdown(f\"# {change['new']}\"))\n",
        "\n",
        "# Link the input box value to the update function\n",
        "input_box.observe(update_markdown, names='value')\n",
        "\n",
        "# Display the input box and Markdown output\n",
        "display(input_box, markdown_output)\n",
        "\n",
        "# Initial Markdown display\n",
        "update_markdown({'new': input_box.value})"
      ],
      "metadata": {
        "colab": {
          "base_uri": "https://localhost:8080/",
          "height": 124,
          "referenced_widgets": [
            "68c7a8e3ca5a4c118b94282a8788e9be",
            "bb9906926671452bb4941aedacc8bf2a",
            "948fe7a46a8f4fd08f65d8b0d3b914d6",
            "3343630b14644a33aa332badfaa5a481",
            "ddb31e9d1d6a406bb322d47e15c3698f"
          ]
        },
        "id": "9MrEKbzjvgSB",
        "outputId": "16e905c6-5049-4ed3-c3f0-b1f3f84eb7cf"
      },
      "execution_count": null,
      "outputs": [
        {
          "output_type": "display_data",
          "data": {
            "text/plain": [
              "Text(value='Hello, world!', description='Input:', placeholder='Type something')"
            ],
            "application/vnd.jupyter.widget-view+json": {
              "version_major": 2,
              "version_minor": 0,
              "model_id": "68c7a8e3ca5a4c118b94282a8788e9be"
            }
          },
          "metadata": {}
        },
        {
          "output_type": "display_data",
          "data": {
            "text/plain": [
              "Output()"
            ],
            "application/vnd.jupyter.widget-view+json": {
              "version_major": 2,
              "version_minor": 0,
              "model_id": "3343630b14644a33aa332badfaa5a481"
            }
          },
          "metadata": {}
        }
      ]
    },
    {
      "cell_type": "markdown",
      "source": [
        "\\begin{equation}\n",
        "    E = mc^2 \\label{eq:einstein}\n",
        "\\end{equation}"
      ],
      "metadata": {
        "id": "kQ8tHliLyTim"
      }
    },
    {
      "cell_type": "markdown",
      "source": [
        "$$\n",
        "\\begin{align}\n",
        "    E &= mc^2 \\label{eq:einstein} \\\\\n",
        "    a &= b + c \\label{eq:abc}\n",
        "\\end{align}\n",
        "$$"
      ],
      "metadata": {
        "id": "Yljsim98ylVw"
      }
    },
    {
      "cell_type": "markdown",
      "source": [
        "$$\n",
        "\\newcounter{mycounter} \\setcounter{mycounter}{0}\n",
        "$$\n",
        "\n",
        "Text before counter increment: $\\arabic{mycounter}$\n",
        "\n",
        "$$\n",
        "\\stepcounter{mycounter}\n",
        "$$\n",
        "\n",
        "Text after counter increment: $\\arabic{mycounter}$"
      ],
      "metadata": {
        "id": "yJZgDa6byzFG"
      }
    },
    {
      "cell_type": "code",
      "source": [
        "\n",
        "import IPython.display as display\n",
        "from IPython.display import Markdown\n",
        "\n",
        "# Generate the HTML content with headings\n",
        "content = \"\"\"\n",
        "<h1>Section 1</h1>\n",
        "<p>This is section 1.</p>\n",
        "<h2>Subsection 1.1</h2>\n",
        "<p>This is subsection 1.1.</p>\n",
        "<h1>Section 2</h1>\n",
        "<p>This is section 2.</p>\n",
        "<h2>Subsection 2.1</h2>\n",
        "<p>This is subsection 2.1.</p>\n",
        "\"\"\"\n",
        "\n",
        "display.display(Markdown(content))"
      ],
      "metadata": {
        "colab": {
          "base_uri": "https://localhost:8080/",
          "height": 310
        },
        "id": "q_BsU9wdySuB",
        "outputId": "1f027b7f-f046-4729-879b-32eb014cf8c4"
      },
      "execution_count": null,
      "outputs": [
        {
          "output_type": "display_data",
          "data": {
            "text/plain": [
              "<IPython.core.display.Markdown object>"
            ],
            "text/markdown": "\n<h1>Section 1</h1>\n<p>This is section 1.</p>\n<h2>Subsection 1.1</h2>\n<p>This is subsection 1.1.</p>\n<h1>Section 2</h1>\n<p>This is section 2.</p>\n<h2>Subsection 2.1</h2>\n<p>This is subsection 2.1.</p>\n"
          },
          "metadata": {}
        }
      ]
    },
    {
      "cell_type": "code",
      "source": [
        "\n",
        "from IPython.display import display, Javascript\n",
        "\n",
        "script = \"\"\"\n",
        "function generateTOC() {\n",
        "    let toc = document.createElement('div');\n",
        "    toc.id = 'toc';\n",
        "    toc.innerHTML = '<h2>Table of Contents</h2>';\n",
        "    document.body.prepend(toc);\n",
        "\n",
        "    let headings = document.querySelectorAll('h1, h2, h3, h4, h5, h6');\n",
        "    headings.forEach(heading => {\n",
        "        let link = document.createElement('a');\n",
        "        link.href = '#' + heading.id;\n",
        "        link.innerHTML = heading.innerText;\n",
        "        toc.appendChild(link);\n",
        "        toc.appendChild(document.createElement('br'));\n",
        "    });\n",
        "}\n",
        "\n",
        "window.addEventListener('load', generateTOC);\n",
        "\"\"\"\n",
        "\n",
        "display(Javascript(script))"
      ],
      "metadata": {
        "colab": {
          "base_uri": "https://localhost:8080/",
          "height": 17
        },
        "id": "X31rsWPHz3Qq",
        "outputId": "f4b7a546-1114-4462-8b2a-72470efeb8a9"
      },
      "execution_count": null,
      "outputs": [
        {
          "output_type": "display_data",
          "data": {
            "text/plain": [
              "<IPython.core.display.Javascript object>"
            ],
            "application/javascript": [
              "\n",
              "function generateTOC() {\n",
              "    let toc = document.createElement('div');\n",
              "    toc.id = 'toc';\n",
              "    toc.innerHTML = '<h2>Table of Contents</h2>';\n",
              "    document.body.prepend(toc);\n",
              "\n",
              "    let headings = document.querySelectorAll('h1, h2, h3, h4, h5, h6');\n",
              "    headings.forEach(heading => {\n",
              "        let link = document.createElement('a');\n",
              "        link.href = '#' + heading.id;\n",
              "        link.innerHTML = heading.innerText;\n",
              "        toc.appendChild(link);\n",
              "        toc.appendChild(document.createElement('br'));\n",
              "    });\n",
              "}\n",
              "\n",
              "window.addEventListener('load', generateTOC);\n"
            ]
          },
          "metadata": {}
        }
      ]
    },
    {
      "cell_type": "code",
      "source": [
        "\n",
        "!pip install nbformat"
      ],
      "metadata": {
        "colab": {
          "base_uri": "https://localhost:8080/"
        },
        "id": "8LQlG6Lc0_xS",
        "outputId": "80d532f2-7ede-4ef6-d30e-41dac4b4d0c7"
      },
      "execution_count": null,
      "outputs": [
        {
          "output_type": "stream",
          "name": "stdout",
          "text": [
            "Requirement already satisfied: nbformat in /usr/local/lib/python3.10/dist-packages (5.10.4)\n",
            "Requirement already satisfied: fastjsonschema>=2.15 in /usr/local/lib/python3.10/dist-packages (from nbformat) (2.20.0)\n",
            "Requirement already satisfied: jsonschema>=2.6 in /usr/local/lib/python3.10/dist-packages (from nbformat) (4.23.0)\n",
            "Requirement already satisfied: jupyter-core!=5.0.*,>=4.12 in /usr/local/lib/python3.10/dist-packages (from nbformat) (5.7.2)\n",
            "Requirement already satisfied: traitlets>=5.1 in /usr/local/lib/python3.10/dist-packages (from nbformat) (5.7.1)\n",
            "Requirement already satisfied: attrs>=22.2.0 in /usr/local/lib/python3.10/dist-packages (from jsonschema>=2.6->nbformat) (24.2.0)\n",
            "Requirement already satisfied: jsonschema-specifications>=2023.03.6 in /usr/local/lib/python3.10/dist-packages (from jsonschema>=2.6->nbformat) (2024.10.1)\n",
            "Requirement already satisfied: referencing>=0.28.4 in /usr/local/lib/python3.10/dist-packages (from jsonschema>=2.6->nbformat) (0.35.1)\n",
            "Requirement already satisfied: rpds-py>=0.7.1 in /usr/local/lib/python3.10/dist-packages (from jsonschema>=2.6->nbformat) (0.21.0)\n",
            "Requirement already satisfied: platformdirs>=2.5 in /usr/local/lib/python3.10/dist-packages (from jupyter-core!=5.0.*,>=4.12->nbformat) (4.3.6)\n"
          ]
        }
      ]
    },
    {
      "cell_type": "code",
      "source": [
        "\n",
        "from IPython.display import display, Javascript\n",
        "import os\n",
        "\n",
        "def get_notebook_path():\n",
        "    display(Javascript('google.colab.kernel.proxyPort(9000);'))\n",
        "    notebook_path = os.path.abspath('/content/drive/My Drive/Notebooks')\n",
        "    return notebook_path\n",
        "\n",
        "notebook_path = get_notebook_path()\n",
        "print(\"Current notebook path:\", notebook_path)"
      ],
      "metadata": {
        "colab": {
          "base_uri": "https://localhost:8080/",
          "height": 54
        },
        "id": "jr2pf_D52MMl",
        "outputId": "e63c0a09-1d3e-4d05-d021-88e1a79fe161"
      },
      "execution_count": null,
      "outputs": [
        {
          "output_type": "display_data",
          "data": {
            "text/plain": [
              "<IPython.core.display.Javascript object>"
            ],
            "application/javascript": [
              "google.colab.kernel.proxyPort(9000);"
            ]
          },
          "metadata": {}
        },
        {
          "output_type": "stream",
          "name": "stdout",
          "text": [
            "Current notebook path: /content/drive/My Drive/Notebooks\n"
          ]
        }
      ]
    },
    {
      "cell_type": "code",
      "source": [
        "\n",
        "import nbformat\n",
        "\n",
        "def generate_toc(notebook_path):\n",
        "    # Load the notebook\n",
        "    with open(notebook_path, 'r') as f:\n",
        "        notebook = nbformat.read(f, as_version=4)\n",
        "\n",
        "    toc = []\n",
        "    # Iterate through the cells to find markdown ones\n",
        "    for cell in notebook.cells:\n",
        "        if cell.cell_type == 'markdown':\n",
        "            lines = cell.source.splitlines()\n",
        "            for line in lines:\n",
        "                # Detect headers (markdown headers start with #)\n",
        "                if line.startswith('#'):\n",
        "                    level = line.count('#')\n",
        "                    header_text = line.strip('#').strip()\n",
        "                    toc.append(('  ' * (level - 1)) + f'- {header_text}')\n",
        "\n",
        "    return '\\n'.join(toc)\n",
        "\n",
        "# Call the function to generate the TOC\n",
        "toc = generate_toc(notebook_path+'/Untitled11.ipynb')\n",
        "print(toc)"
      ],
      "metadata": {
        "colab": {
          "base_uri": "https://localhost:8080/",
          "height": 578
        },
        "id": "M3TabmQX1Bl7",
        "outputId": "712987b5-74d2-437d-9346-e32ff0235518"
      },
      "execution_count": null,
      "outputs": [
        {
          "output_type": "error",
          "ename": "FileNotFoundError",
          "evalue": "[Errno 2] No such file or directory: '/content/drive/My Drive/Notebooks/Untitled11.ipynb'",
          "traceback": [
            "\u001b[0;31m---------------------------------------------------------------------------\u001b[0m",
            "\u001b[0;31mFileNotFoundError\u001b[0m                         Traceback (most recent call last)",
            "\u001b[0;32m<ipython-input-37-320953a8be7d>\u001b[0m in \u001b[0;36m<cell line: 23>\u001b[0;34m()\u001b[0m\n\u001b[1;32m     21\u001b[0m \u001b[0;34m\u001b[0m\u001b[0m\n\u001b[1;32m     22\u001b[0m \u001b[0;31m# Call the function to generate the TOC\u001b[0m\u001b[0;34m\u001b[0m\u001b[0;34m\u001b[0m\u001b[0m\n\u001b[0;32m---> 23\u001b[0;31m \u001b[0mtoc\u001b[0m \u001b[0;34m=\u001b[0m \u001b[0mgenerate_toc\u001b[0m\u001b[0;34m(\u001b[0m\u001b[0mnotebook_path\u001b[0m\u001b[0;34m+\u001b[0m\u001b[0;34m'/Untitled11.ipynb'\u001b[0m\u001b[0;34m)\u001b[0m\u001b[0;34m\u001b[0m\u001b[0;34m\u001b[0m\u001b[0m\n\u001b[0m\u001b[1;32m     24\u001b[0m \u001b[0mprint\u001b[0m\u001b[0;34m(\u001b[0m\u001b[0mtoc\u001b[0m\u001b[0;34m)\u001b[0m\u001b[0;34m\u001b[0m\u001b[0;34m\u001b[0m\u001b[0m\n",
            "\u001b[0;32m<ipython-input-37-320953a8be7d>\u001b[0m in \u001b[0;36mgenerate_toc\u001b[0;34m(notebook_path)\u001b[0m\n\u001b[1;32m      3\u001b[0m \u001b[0;32mdef\u001b[0m \u001b[0mgenerate_toc\u001b[0m\u001b[0;34m(\u001b[0m\u001b[0mnotebook_path\u001b[0m\u001b[0;34m)\u001b[0m\u001b[0;34m:\u001b[0m\u001b[0;34m\u001b[0m\u001b[0;34m\u001b[0m\u001b[0m\n\u001b[1;32m      4\u001b[0m     \u001b[0;31m# Load the notebook\u001b[0m\u001b[0;34m\u001b[0m\u001b[0;34m\u001b[0m\u001b[0m\n\u001b[0;32m----> 5\u001b[0;31m     \u001b[0;32mwith\u001b[0m \u001b[0mopen\u001b[0m\u001b[0;34m(\u001b[0m\u001b[0mnotebook_path\u001b[0m\u001b[0;34m,\u001b[0m \u001b[0;34m'r'\u001b[0m\u001b[0;34m)\u001b[0m \u001b[0;32mas\u001b[0m \u001b[0mf\u001b[0m\u001b[0;34m:\u001b[0m\u001b[0;34m\u001b[0m\u001b[0;34m\u001b[0m\u001b[0m\n\u001b[0m\u001b[1;32m      6\u001b[0m         \u001b[0mnotebook\u001b[0m \u001b[0;34m=\u001b[0m \u001b[0mnbformat\u001b[0m\u001b[0;34m.\u001b[0m\u001b[0mread\u001b[0m\u001b[0;34m(\u001b[0m\u001b[0mf\u001b[0m\u001b[0;34m,\u001b[0m \u001b[0mas_version\u001b[0m\u001b[0;34m=\u001b[0m\u001b[0;36m4\u001b[0m\u001b[0;34m)\u001b[0m\u001b[0;34m\u001b[0m\u001b[0;34m\u001b[0m\u001b[0m\n\u001b[1;32m      7\u001b[0m \u001b[0;34m\u001b[0m\u001b[0m\n",
            "\u001b[0;31mFileNotFoundError\u001b[0m: [Errno 2] No such file or directory: '/content/drive/My Drive/Notebooks/Untitled11.ipynb'"
          ]
        }
      ]
    }
  ]
}