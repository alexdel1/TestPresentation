{
  "nbformat": 4,
  "nbformat_minor": 0,
  "metadata": {
    "colab": {
      "provenance": [],
      "authorship_tag": "ABX9TyPVCbcZEb9bxxykV+q8zbWL",
      "include_colab_link": true
    },
    "kernelspec": {
      "name": "python3",
      "display_name": "Python 3"
    },
    "language_info": {
      "name": "python"
    },
    "widgets": {
      "application/vnd.jupyter.widget-state+json": {
        "ff81c94e709247a1b34720aced1f31da": {
          "model_module": "@jupyter-widgets/controls",
          "model_name": "IntSliderModel",
          "model_module_version": "1.5.0",
          "state": {
            "_dom_classes": [],
            "_model_module": "@jupyter-widgets/controls",
            "_model_module_version": "1.5.0",
            "_model_name": "IntSliderModel",
            "_view_count": null,
            "_view_module": "@jupyter-widgets/controls",
            "_view_module_version": "1.5.0",
            "_view_name": "IntSliderView",
            "continuous_update": true,
            "description": "Slider",
            "description_tooltip": null,
            "disabled": false,
            "layout": "IPY_MODEL_27a22972917247558aac9bf3fbe11260",
            "max": 100,
            "min": 0,
            "orientation": "horizontal",
            "readout": true,
            "readout_format": "d",
            "step": 1,
            "style": "IPY_MODEL_928bae39a30c408d84cb4a30f4a112b3",
            "value": 95
          }
        },
        "27a22972917247558aac9bf3fbe11260": {
          "model_module": "@jupyter-widgets/base",
          "model_name": "LayoutModel",
          "model_module_version": "1.2.0",
          "state": {
            "_model_module": "@jupyter-widgets/base",
            "_model_module_version": "1.2.0",
            "_model_name": "LayoutModel",
            "_view_count": null,
            "_view_module": "@jupyter-widgets/base",
            "_view_module_version": "1.2.0",
            "_view_name": "LayoutView",
            "align_content": null,
            "align_items": null,
            "align_self": null,
            "border": null,
            "bottom": null,
            "display": null,
            "flex": null,
            "flex_flow": null,
            "grid_area": null,
            "grid_auto_columns": null,
            "grid_auto_flow": null,
            "grid_auto_rows": null,
            "grid_column": null,
            "grid_gap": null,
            "grid_row": null,
            "grid_template_areas": null,
            "grid_template_columns": null,
            "grid_template_rows": null,
            "height": null,
            "justify_content": null,
            "justify_items": null,
            "left": null,
            "margin": null,
            "max_height": null,
            "max_width": null,
            "min_height": null,
            "min_width": null,
            "object_fit": null,
            "object_position": null,
            "order": null,
            "overflow": null,
            "overflow_x": null,
            "overflow_y": null,
            "padding": null,
            "right": null,
            "top": null,
            "visibility": null,
            "width": null
          }
        },
        "928bae39a30c408d84cb4a30f4a112b3": {
          "model_module": "@jupyter-widgets/controls",
          "model_name": "SliderStyleModel",
          "model_module_version": "1.5.0",
          "state": {
            "_model_module": "@jupyter-widgets/controls",
            "_model_module_version": "1.5.0",
            "_model_name": "SliderStyleModel",
            "_view_count": null,
            "_view_module": "@jupyter-widgets/base",
            "_view_module_version": "1.2.0",
            "_view_name": "StyleView",
            "description_width": "",
            "handle_color": null
          }
        }
      }
    }
  },
  "cells": [
    {
      "cell_type": "markdown",
      "metadata": {
        "id": "view-in-github",
        "colab_type": "text"
      },
      "source": [
        "<a href=\"https://colab.research.google.com/github/alexdel1/TestPresentation/blob/main/RepresentationGroupesAbeliens.ipynb\" target=\"_parent\"><img src=\"https://colab.research.google.com/assets/colab-badge.svg\" alt=\"Open In Colab\"/></a>"
      ]
    },
    {
      "cell_type": "markdown",
      "source": [
        "\n",
        "#This is markdown\n",
        "\n",
        "## An empty div with class `foobar`\n",
        "\n",
        "<div class='foobar'></div>"
      ],
      "metadata": {
        "id": "QYZx5EIAY6io"
      }
    },
    {
      "cell_type": "markdown",
      "source": [
        "\n",
        "\n",
        "---\n",
        "title: New Issue\n",
        "labels: bug, enhancement\n",
        "---\n",
        "<!--#\n",
        "NOUN=mother\n",
        "ATTRIBUTION=Mark Wahlberg\n",
        "$-->\n",
        "\n",
        "\"Say hi to your {{ NOUN }} for me,\" {{ ATTRIBUTION }}"
      ],
      "metadata": {
        "id": "F27AieC2haFQ"
      }
    },
    {
      "cell_type": "markdown",
      "source": [
        "[gole]: 1\n",
        "\n",
        "If you want to search for something on the web, [gole] is a nice place.\n",
        "\n",
        "You can also use [gole] to host some stuff and make a"
      ],
      "metadata": {
        "id": "RJNaGAERhx_5"
      }
    },
    {
      "cell_type": "markdown",
      "source": [
        "[kal]:1\n",
        "\n",
        "test [kal]"
      ],
      "metadata": {
        "id": "Qtp6InqPiASV"
      }
    },
    {
      "cell_type": "code",
      "source": [],
      "metadata": {
        "id": "sFVESCsDhuOM"
      },
      "execution_count": null,
      "outputs": []
    },
    {
      "cell_type": "code",
      "source": [],
      "metadata": {
        "id": "8wqxuKUfhpDk"
      },
      "execution_count": null,
      "outputs": []
    },
    {
      "cell_type": "code",
      "source": [],
      "metadata": {
        "id": "dpSsTMbIhZMo"
      },
      "execution_count": null,
      "outputs": []
    },
    {
      "cell_type": "markdown",
      "source": [
        "This is my [random value] located somewhere in my Markdown document.\n",
        "\n",
        "[random value]: variable value"
      ],
      "metadata": {
        "id": "mC9EdwnHg8Pl"
      }
    },
    {
      "cell_type": "markdown",
      "source": [
        "\n",
        "{% capture nameOfVariableToCapture %}any markdown here...{% endcapture %}\n",
        "Content before variable.\n",
        "{{ nameOfVariableToCapture }}\n",
        "Content after variable."
      ],
      "metadata": {
        "id": "uIJN_9MogoOo"
      }
    },
    {
      "cell_type": "code",
      "source": [
        "a='hello'"
      ],
      "metadata": {
        "id": "RIMw3QyScV4r"
      },
      "execution_count": null,
      "outputs": []
    },
    {
      "cell_type": "markdown",
      "source": [
        "In a markdown cell, a is {{a}}"
      ],
      "metadata": {
        "id": "KS3sJ6mAcfYD"
      }
    },
    {
      "cell_type": "code",
      "source": [
        "%%html\n",
        "<!DOCTYPE html>\n",
        "<html lang=\"en\">\n",
        "<head>\n",
        "    <meta charset=\"UTF-8\">\n",
        "    <meta name=\"viewport\" content=\"width=device-width, initial-scale=1.0\">\n",
        "    <title>Increment Variable</title>\n",
        "</head>\n",
        "<body>\n",
        "\n",
        "    <p>Current Value: <span id=\"value\">0</span></p>\n",
        "    <button onclick=\"incrementValue()\">Increment</button>\n",
        "\n",
        "    <script>\n",
        "        // Initialize the variable\n",
        "        let count = 0;\n",
        "\n",
        "        // Function to increment the variable\n",
        "        function incrementValue() {\n",
        "            count++; // Increment the variable\n",
        "            document.getElementById(\"value\").textContent = count; // Update the displayed value\n",
        "        }\n",
        "    </script>\n",
        "\n",
        "</body>\n",
        "</html>"
      ],
      "metadata": {
        "colab": {
          "base_uri": "https://localhost:8080/",
          "height": 68
        },
        "id": "NzUcF6Xfdi7c",
        "outputId": "65abe86b-ccae-4c20-b096-83cd2032d93f"
      },
      "execution_count": null,
      "outputs": [
        {
          "output_type": "display_data",
          "data": {
            "text/plain": [
              "<IPython.core.display.HTML object>"
            ],
            "text/html": [
              "<!DOCTYPE html>\n",
              "<html lang=\"en\">\n",
              "<head>\n",
              "    <meta charset=\"UTF-8\">\n",
              "    <meta name=\"viewport\" content=\"width=device-width, initial-scale=1.0\">\n",
              "    <title>Increment Variable</title>\n",
              "</head>\n",
              "<body>\n",
              "\n",
              "    <p>Current Value: <span id=\"value\">0</span></p>\n",
              "    <button onclick=\"incrementValue()\">Increment</button>\n",
              "\n",
              "    <script>\n",
              "        // Initialize the variable\n",
              "        let count = 0;\n",
              "\n",
              "        // Function to increment the variable\n",
              "        function incrementValue() {\n",
              "            count++; // Increment the variable\n",
              "            document.getElementById(\"value\").textContent = count; // Update the displayed value\n",
              "        }\n",
              "    </script>\n",
              "\n",
              "</body>\n",
              "</html>\n"
            ]
          },
          "metadata": {}
        }
      ]
    },
    {
      "cell_type": "markdown",
      "source": [],
      "metadata": {
        "id": "j8B4pZrydg5l"
      }
    },
    {
      "cell_type": "code",
      "source": [
        "\n",
        "from IPython.display import Markdown as md\n",
        "a = 'hello'\n",
        "md(\"# The data consists of {} observations. Bla, Bla, ....\".format(a))"
      ],
      "metadata": {
        "colab": {
          "base_uri": "https://localhost:8080/",
          "height": 144
        },
        "id": "89d0aTy8cu11",
        "outputId": "a0db20b8-fda4-4ee5-dfcc-2137a3157aa4"
      },
      "execution_count": null,
      "outputs": [
        {
          "output_type": "execute_result",
          "data": {
            "text/plain": [
              "<IPython.core.display.Markdown object>"
            ],
            "text/markdown": "# The data consists of hello observations. Bla, Bla, ...."
          },
          "metadata": {},
          "execution_count": 44
        }
      ]
    },
    {
      "cell_type": "markdown",
      "source": [],
      "metadata": {
        "id": "XTBRb00hcUxc"
      }
    },
    {
      "cell_type": "code",
      "source": [
        "\n",
        "from IPython.display import display, Javascript\n",
        "from ipywidgets import IntSlider\n",
        "\n",
        "# Create the slider widget\n",
        "slider = IntSlider(description='Slider')\n",
        "\n",
        "# Display the widget\n",
        "display(slider)\n",
        "\n",
        "# Insert the widget into a specific HTML element using JavaScript\n",
        "display(Javascript('document.querySelector(\".foobar\").appendChild(document.querySelector(\".widget-area\"))'))"
      ],
      "metadata": {
        "colab": {
          "base_uri": "https://localhost:8080/",
          "height": 69,
          "referenced_widgets": [
            "ff81c94e709247a1b34720aced1f31da",
            "27a22972917247558aac9bf3fbe11260",
            "928bae39a30c408d84cb4a30f4a112b3"
          ]
        },
        "id": "pd18qZsHb26R",
        "outputId": "90b4c762-3d0d-40bf-bb8f-dd6603c26a80"
      },
      "execution_count": null,
      "outputs": [
        {
          "output_type": "display_data",
          "data": {
            "text/plain": [
              "IntSlider(value=0, description='Slider')"
            ],
            "application/vnd.jupyter.widget-view+json": {
              "version_major": 2,
              "version_minor": 0,
              "model_id": "ff81c94e709247a1b34720aced1f31da"
            }
          },
          "metadata": {}
        },
        {
          "output_type": "display_data",
          "data": {
            "text/plain": [
              "<IPython.core.display.Javascript object>"
            ],
            "application/javascript": [
              "document.querySelector(\".foobar\").appendChild(document.querySelector(\".widget-area\"))"
            ]
          },
          "metadata": {}
        }
      ]
    },
    {
      "cell_type": "code",
      "source": [
        "\n",
        "from IPython.display import display, Markdown\n",
        "\n",
        "# Initialize the variable\n",
        "count_var = 0\n",
        "\n",
        "# Function to increment and display the variable\n",
        "def increment_var():\n",
        "    global count_var\n",
        "    count_var += 1\n",
        "    latex_code = f\"Value of the variable after incrementing: ${count_var}$\"\n",
        "    display(Markdown(latex_code))\n",
        "\n",
        "# Display the initial value\n",
        "display(Markdown(r\"#Initial value of the variable: ${count_var}$\"))\n",
        "\n",
        "# Increment the variable and display\n",
        "increment_var()\n",
        "increment_var()"
      ],
      "metadata": {
        "colab": {
          "base_uri": "https://localhost:8080/",
          "height": 172
        },
        "id": "IdVpQH5hWclO",
        "outputId": "ee66e95c-3e4b-4015-95f9-e8101417122a"
      },
      "execution_count": null,
      "outputs": [
        {
          "output_type": "display_data",
          "data": {
            "text/plain": [
              "<IPython.core.display.Markdown object>"
            ],
            "text/markdown": "#Initial value of the variable: ${count_var}$"
          },
          "metadata": {}
        },
        {
          "output_type": "display_data",
          "data": {
            "text/plain": [
              "<IPython.core.display.Markdown object>"
            ],
            "text/markdown": "Value of the variable after incrementing: $1$"
          },
          "metadata": {}
        },
        {
          "output_type": "display_data",
          "data": {
            "text/plain": [
              "<IPython.core.display.Markdown object>"
            ],
            "text/markdown": "Value of the variable after incrementing: $2$"
          },
          "metadata": {}
        }
      ]
    },
    {
      "cell_type": "code",
      "source": [],
      "metadata": {
        "id": "PJSsd83ZY5Vt"
      },
      "execution_count": null,
      "outputs": []
    },
    {
      "cell_type": "code",
      "source": [
        "from IPython.display import display, Markdown, Latex\n",
        "display(Markdown('#*some markdown* $\\phi$'))\n",
        "# If you particularly want to display maths, this is more direct:\n",
        "display(Latex('\\phi'))"
      ],
      "metadata": {
        "colab": {
          "base_uri": "https://localhost:8080/",
          "height": 104
        },
        "id": "_KYtoZMvPxS_",
        "outputId": "ebdd2e3f-082f-44ab-d9f9-367332725f76"
      },
      "execution_count": null,
      "outputs": [
        {
          "output_type": "display_data",
          "data": {
            "text/plain": [
              "<IPython.core.display.Markdown object>"
            ],
            "text/markdown": "#*some markdown* $\\phi$"
          },
          "metadata": {}
        },
        {
          "output_type": "display_data",
          "data": {
            "text/plain": [
              "<IPython.core.display.Latex object>"
            ],
            "text/latex": "\\phi"
          },
          "metadata": {}
        }
      ]
    },
    {
      "cell_type": "markdown",
      "source": [
        "Initial value of the variable: ${count_var}$"
      ],
      "metadata": {
        "id": "nqePwoFZWk7R"
      }
    },
    {
      "cell_type": "code",
      "source": [
        "\n",
        "from IPython.display import display, Markdown, Latex\n",
        "\n",
        "# This will create a proper Markdown header with LaTeX math in the content.\n",
        "display(Markdown('## Some Markdown Title with Inline Math'))\n",
        "display(Latex('$\\phi$'))"
      ],
      "metadata": {
        "colab": {
          "base_uri": "https://localhost:8080/",
          "height": 112
        },
        "id": "Uqd83SNQRs1q",
        "outputId": "fce9a02a-4ca6-4cdc-b61c-47eca76502cb"
      },
      "execution_count": null,
      "outputs": [
        {
          "output_type": "display_data",
          "data": {
            "text/plain": [
              "<IPython.core.display.Markdown object>"
            ],
            "text/markdown": "## Some Markdown Title with Inline Math"
          },
          "metadata": {}
        },
        {
          "output_type": "display_data",
          "data": {
            "text/plain": [
              "<IPython.core.display.Latex object>"
            ],
            "text/latex": "$\\phi$"
          },
          "metadata": {}
        }
      ]
    },
    {
      "cell_type": "markdown",
      "source": [
        "$\\newcommand{\\countvar}{0}$  \n",
        "Value of the variable: $\\countvar$\n",
        "\n",
        "$\\renewcommand{\\countvar}{\\the\\numexpr\\countvar+1\\relax}$  \n",
        "Value of the variable after incrementing: $\\countvar$\n",
        "\n",
        "$\\renewcommand{\\countvar}{\\the\\numexpr\\countvar+1\\relax}$  \n",
        "Value of the variable after another increment: $\\countvar$"
      ],
      "metadata": {
        "id": "TREiLLTOWLj7"
      }
    },
    {
      "cell_type": "code",
      "source": [
        "from IPython.display import Javascript\n",
        "\n",
        "def insert_markdown_cell(content):\n",
        "    \"\"\"\n",
        "    Insert a new Markdown cell into the notebook.\n",
        "\n",
        "    Args:\n",
        "        content (str): Markdown content to insert.\n",
        "    \"\"\"\n",
        "    js_code = f\"\"\"\n",
        "    var content = `{content}`;\n",
        "    var cell = Jupyter.notebook.insert_cell_at_bottom('markdown');\n",
        "    cell.set_text(content);\n",
        "    cell.render();\n",
        "    \"\"\"\n",
        "    display(Javascript(js_code))\n",
        "\n",
        "# Dynamically generate Markdown content\n",
        "chapter_title = \"## Chapter 1: Introduction to $\\phi$\"\n",
        "section_title = \"### Section 1.1: The Golden Ratio\"\n",
        "\n",
        "# Insert the generated Markdown as a new cell\n",
        "insert_markdown_cell(f\"{chapter_title}\\n\\n{section_title}\\n\\nSome content about the golden ratio.\")"
      ],
      "metadata": {
        "colab": {
          "base_uri": "https://localhost:8080/",
          "height": 17
        },
        "id": "vqW33GmOTn5p",
        "outputId": "7a6abcf9-0858-4c51-8d95-bb6e4a95a321"
      },
      "execution_count": null,
      "outputs": [
        {
          "output_type": "display_data",
          "data": {
            "text/plain": [
              "<IPython.core.display.Javascript object>"
            ],
            "application/javascript": [
              "\n",
              "    var content = `## Chapter 1: Introduction to $\\phi$\n",
              "\n",
              "### Section 1.1: The Golden Ratio\n",
              "\n",
              "Some content about the golden ratio.`;\n",
              "    var cell = Jupyter.notebook.insert_cell_at_bottom('markdown');\n",
              "    cell.set_text(content);\n",
              "    cell.render();\n",
              "    "
            ]
          },
          "metadata": {}
        }
      ]
    },
    {
      "cell_type": "code",
      "source": [
        "\n",
        "from IPython.display import Markdown, display\n",
        "\n",
        "def insert_markdown_cell(content):\n",
        "  \"\"\"\n",
        "  Inserts a new Markdown cell into the notebook.\n",
        "\n",
        "  Args:\n",
        "    content (str): Markdown content to insert.\n",
        "  \"\"\"\n",
        "  display(Markdown(content))\n",
        "\n",
        "# Dynamically generate Markdown content\n",
        "chapter_title = \"## Chapter 1: Introduction to $\\phi$\"\n",
        "section_title = \"### Section 1.1: The Golden Ratio\"\n",
        "\n",
        "# Insert the generated Markdown as a new cell\n",
        "insert_markdown_cell(f\"{chapter_title}\\n\\n{section_title}\\n\\nSome content about the golden ratio.\")"
      ],
      "metadata": {
        "colab": {
          "base_uri": "https://localhost:8080/",
          "height": 133
        },
        "id": "MPcRBLaAUcdq",
        "outputId": "e1f6b67a-1a97-4bb0-a18d-a7ca13c5c1bf"
      },
      "execution_count": null,
      "outputs": [
        {
          "output_type": "display_data",
          "data": {
            "text/plain": [
              "<IPython.core.display.Markdown object>"
            ],
            "text/markdown": "## Chapter 1: Introduction to $\\phi$\n\n### Section 1.1: The Golden Ratio\n\nSome content about the golden ratio."
          },
          "metadata": {}
        }
      ]
    },
    {
      "cell_type": "markdown",
      "source": [
        "$\\newcommand{\\countvar}{0}$  \n",
        "$\\newcommand{\\increment}{\\renewcommand{\\countvar}{\\the\\numexpr\\countvar+1\\relax}}$  \n",
        "\n",
        "$\\increment$  \n",
        "Value of the variable: $\\countvar$\n",
        "\n",
        "$\\increment$  \n",
        "Value of the variable after incrementing: $\\countvar$"
      ],
      "metadata": {
        "id": "G8zp7As5U9P8"
      }
    },
    {
      "cell_type": "markdown",
      "source": [
        "Nom : Alexandre Delode \\\n",
        "Date : 05/12/2024 \\\n",
        "Module : Séminaire ( AMU M1 Mathématiques EADS ) \\\n",
        "Prof. : Puschnigg \\\n",
        "Réf : B. Steinberg, Representation theory of finite groups \\"
      ],
      "metadata": {
        "id": "1o3elo1AoCId"
      }
    },
    {
      "cell_type": "markdown",
      "source": [
        "#####Macros Latex et Bibliothèques Python"
      ],
      "metadata": {
        "id": "Ir1YwcFZ1YQ1"
      }
    },
    {
      "cell_type": "markdown",
      "source": [
        "\n",
        "**Macros Latex:**\n",
        "\n",
        "$\\def\\GL{\\mathbb{GL}}\\def\\RR{\\mathbb{R}}$"
      ],
      "metadata": {
        "id": "8R_lrLFa0u3n"
      }
    },
    {
      "cell_type": "code",
      "source": [
        "%%javascript\n",
        "console.log(\"Hello from JavaScript in Colab!\");\n",
        "window.MathJax = {\n",
        "  tex: {\n",
        "    tags: 'ams'\n",
        "  }\n",
        "};"
      ],
      "metadata": {
        "colab": {
          "base_uri": "https://localhost:8080/",
          "height": 17
        },
        "id": "BZCqtaOaGXuv",
        "outputId": "93b478b7-227e-43bd-b813-889ab1892e7b"
      },
      "execution_count": null,
      "outputs": [
        {
          "output_type": "display_data",
          "data": {
            "text/plain": [
              "<IPython.core.display.Javascript object>"
            ],
            "application/javascript": [
              "console.log(\"Hello from JavaScript in Colab!\");\n",
              "window.MathJax = {\n",
              "  tex: {\n",
              "    tags: 'ams'\n",
              "  }\n",
              "};\n"
            ]
          },
          "metadata": {}
        }
      ]
    },
    {
      "cell_type": "markdown",
      "source": [
        "\\begin{equation}\n",
        "   E = mc^2\n",
        "\\end{equation}"
      ],
      "metadata": {
        "id": "C99Oxb4kGrOB"
      }
    },
    {
      "cell_type": "markdown",
      "source": [
        "\n",
        "In equation $$\\eqref{eq:ret} $$, we find the value of an\n",
        "interesting integral:\n",
        "$$\n",
        "\\begin{equation}\n",
        "  \\int_0^\\infty \\frac{x^3}{e^x-1}\\,dx = \\frac{\\pi^4}{15} \\label{rer}\n",
        "\\end{equation}\n",
        "$$"
      ],
      "metadata": {
        "id": "gxW7Jrp6HEUC"
      }
    },
    {
      "cell_type": "code",
      "source": [
        "%%javascript\n",
        "let c=0;\n",
        "c++;"
      ],
      "metadata": {
        "colab": {
          "base_uri": "https://localhost:8080/",
          "height": 17
        },
        "id": "3OIWbdGjGqoQ",
        "outputId": "dcca8d19-cc62-42f3-b4c6-dc3a898aee21"
      },
      "execution_count": null,
      "outputs": [
        {
          "output_type": "display_data",
          "data": {
            "text/plain": [
              "<IPython.core.display.Javascript object>"
            ],
            "application/javascript": [
              "let c=0;\n",
              "c++;\n"
            ]
          },
          "metadata": {}
        }
      ]
    },
    {
      "cell_type": "code",
      "source": [
        "\n",
        "\n",
        "%%javascript\n",
        "let myVariable = \"Hello, world!\";\n",
        "document.getElementById(\"myParagraph\").textContent = myVariable;"
      ],
      "metadata": {
        "id": "Li7P9Lc9F4iS",
        "colab": {
          "base_uri": "https://localhost:8080/",
          "height": 17
        },
        "outputId": "5f666786-fba1-4269-9211-4f69c5e32cb6"
      },
      "execution_count": null,
      "outputs": [
        {
          "output_type": "display_data",
          "data": {
            "text/plain": [
              "<IPython.core.display.Javascript object>"
            ],
            "application/javascript": [
              "let myVariable = \"Hello, world!\";\n",
              "document.getElementById(\"myParagraph\").textContent = myVariable;\n"
            ]
          },
          "metadata": {}
        }
      ]
    },
    {
      "cell_type": "markdown",
      "source": [
        "\n",
        "<p id=\"myParagraph\"></p>"
      ],
      "metadata": {
        "id": "IeeNhYIvGW5a"
      }
    },
    {
      "cell_type": "code",
      "source": [
        "from IPython.display import HTML\n",
        "HTML('''\n",
        "    <p id=\"myParagraph\"></p>\n",
        "    <script>\n",
        "        let myVariable = \"####Hello, world!\";\n",
        "        document.getElementById(\"myParagraph\").textContent = myVariable;\n",
        "    </script>\n",
        "''')"
      ],
      "metadata": {
        "colab": {
          "base_uri": "https://localhost:8080/",
          "height": 46
        },
        "id": "1IMwQ1nbPFB0",
        "outputId": "caa563ae-8e3b-46db-f759-e24e1a849d67"
      },
      "execution_count": null,
      "outputs": [
        {
          "output_type": "execute_result",
          "data": {
            "text/plain": [
              "<IPython.core.display.HTML object>"
            ],
            "text/html": [
              "\n",
              "    <p id=\"myParagraph\"></p>\n",
              "    <script>\n",
              "        let myVariable = \"####Hello, world!\";\n",
              "        document.getElementById(\"myParagraph\").textContent = myVariable;\n",
              "    </script>\n"
            ]
          },
          "metadata": {},
          "execution_count": 28
        }
      ]
    },
    {
      "cell_type": "markdown",
      "source": [],
      "metadata": {
        "id": "FkkMTifTY0t0"
      }
    },
    {
      "cell_type": "markdown",
      "source": [],
      "metadata": {
        "id": "SKkeyM_7Rq79"
      }
    },
    {
      "cell_type": "markdown",
      "source": [],
      "metadata": {
        "id": "L3zX-P2iB9zJ"
      }
    },
    {
      "cell_type": "markdown",
      "source": [
        "Test: Maintenant $\\GL(n, \\RR)$ fonctionne directement dans le markdown."
      ],
      "metadata": {
        "id": "DClj_uWx0mJF"
      }
    },
    {
      "cell_type": "code",
      "source": [],
      "metadata": {
        "id": "NroFDApQzAmm"
      },
      "execution_count": null,
      "outputs": []
    },
    {
      "cell_type": "markdown",
      "source": [
        "#**Représentation des groupes abéliens**"
      ],
      "metadata": {
        "id": "IXNzyyCEm66t"
      }
    },
    {
      "cell_type": "markdown",
      "source": [
        "# New section"
      ],
      "metadata": {
        "id": "rk8i0p3XQJxJ"
      }
    },
    {
      "cell_type": "markdown",
      "source": [
        "##1.Rappel des précédentes présentations"
      ],
      "metadata": {
        "id": "CLMb6lzgpg4r"
      }
    },
    {
      "cell_type": "markdown",
      "source": [
        "##1.Rappel groupe abélien fini"
      ],
      "metadata": {
        "id": "8v-uZ66Ir8m0"
      }
    },
    {
      "cell_type": "markdown",
      "source": [
        "###1.Définition"
      ],
      "metadata": {
        "id": "9cNSqHXPyKdG"
      }
    },
    {
      "cell_type": "markdown",
      "source": [
        "#### 1. Groupe"
      ],
      "metadata": {
        "id": "vdHzs-Vdz30p"
      }
    },
    {
      "cell_type": "markdown",
      "source": [
        "#### 1. Abélien"
      ],
      "metadata": {
        "id": "Y2_9NDRbz70_"
      }
    },
    {
      "cell_type": "markdown",
      "source": [
        "####Fini"
      ],
      "metadata": {
        "id": "Pkxt3tiE0Arn"
      }
    },
    {
      "cell_type": "markdown",
      "source": [
        "###Exemples"
      ],
      "metadata": {
        "id": "jykNHFcRyY6A"
      }
    },
    {
      "cell_type": "code",
      "source": [],
      "metadata": {
        "id": "F2MK-lPgyJuy"
      },
      "execution_count": null,
      "outputs": []
    },
    {
      "cell_type": "markdown",
      "source": [
        "###Contre exemples"
      ],
      "metadata": {
        "id": "W4psNfYtsRkH"
      }
    },
    {
      "cell_type": "markdown",
      "source": [
        "Le groupe linéaire général $\\left( \\mathbb{GL}(n, K)  \\right)$, constitué des matrices inversibles $\\left( n \\times n \\right)$ à coefficients dans un corps \\( K \\), **n'est pas abélien** pour \\( n > 1 \\). \\"
      ],
      "metadata": {
        "id": "IzB3oENTvM7u"
      }
    },
    {
      "cell_type": "markdown",
      "source": [
        "###Théorème de structure des groupes abéliens de type fini"
      ],
      "metadata": {
        "id": "cwgb_9xsyoXi"
      }
    },
    {
      "cell_type": "code",
      "source": [],
      "metadata": {
        "id": "2CqOSRBVpgFz"
      },
      "execution_count": null,
      "outputs": []
    },
    {
      "cell_type": "code",
      "source": [],
      "metadata": {
        "id": "w42rHCKnmuoI"
      },
      "execution_count": null,
      "outputs": []
    },
    {
      "cell_type": "markdown",
      "source": [],
      "metadata": {
        "id": "a_R2riXNbt3b"
      }
    },
    {
      "cell_type": "markdown",
      "source": [
        "h\n",
        "\n",
        "\n",
        "\n",
        "\n",
        "\n",
        "\n",
        "\n",
        "\n",
        "d\n",
        "\n",
        "s\n",
        "\n",
        "s\n",
        "s\n",
        "ss\n",
        "\n",
        "\n",
        "\n",
        "\n",
        "\n",
        "\n",
        "\n",
        "\n",
        "\n",
        "\n",
        "\n",
        "\n",
        "\n",
        "\n",
        "\n",
        "\n",
        "\n",
        "\n",
        "sssss"
      ],
      "metadata": {
        "id": "ESZbPoYXqWdC"
      }
    },
    {
      "cell_type": "markdown",
      "source": [],
      "metadata": {
        "id": "fvdppK37cOSt"
      }
    },
    {
      "cell_type": "markdown",
      "source": [],
      "metadata": {
        "id": "jMv6me8HyCXZ"
      }
    },
    {
      "cell_type": "markdown",
      "source": [],
      "metadata": {
        "id": "XTE9g4vEyf2c"
      }
    },
    {
      "cell_type": "markdown",
      "source": [
        "##Théorème de représentation des groupes abéliens de type fini"
      ],
      "metadata": {
        "id": "xJmDQKG81OZC"
      }
    },
    {
      "cell_type": "markdown",
      "source": [
        "##Applications en mathématiques"
      ],
      "metadata": {
        "id": "1otcm4wUbrgz"
      }
    },
    {
      "cell_type": "markdown",
      "source": [
        "Voir exos steinberg et agreg"
      ],
      "metadata": {
        "id": "AM5TIEeFth8z"
      }
    },
    {
      "cell_type": "markdown",
      "source": [
        "##Applications dans d'autres domaines"
      ],
      "metadata": {
        "id": "IC0vfat0sx-6"
      }
    },
    {
      "cell_type": "markdown",
      "source": [
        "###Statistique"
      ],
      "metadata": {
        "id": "7Vt13-LYkfph"
      }
    },
    {
      "cell_type": "markdown",
      "source": [
        "###Physique"
      ],
      "metadata": {
        "id": "Gnu0UhpUtFiq"
      }
    },
    {
      "cell_type": "markdown",
      "source": [
        "###Économie"
      ],
      "metadata": {
        "id": "UqIgy1uAtLB0"
      }
    },
    {
      "cell_type": "markdown",
      "source": [
        "###Ingénieurie"
      ],
      "metadata": {
        "id": "NS6NYafkklbv"
      }
    },
    {
      "cell_type": "markdown",
      "source": [
        "###Cybersécurité"
      ],
      "metadata": {
        "id": "UyhV29TXtPkh"
      }
    },
    {
      "cell_type": "markdown",
      "source": [
        "###Automatique"
      ],
      "metadata": {
        "id": "eKZxqnidtdiS"
      }
    },
    {
      "cell_type": "code",
      "source": [],
      "metadata": {
        "id": "k1LyISavqUt2"
      },
      "execution_count": null,
      "outputs": []
    }
  ]
}