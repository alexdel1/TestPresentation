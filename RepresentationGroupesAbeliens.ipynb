{
  "metadata": {
    "kernelspec": {
      "display_name": "Python 3 (ipykernel)",
      "language": "python",
      "name": "python3"
    },
    "language_info": {
      "codemirror_mode": {
        "name": "ipython",
        "version": 3
      },
      "file_extension": ".py",
      "mimetype": "text/x-python",
      "name": "python",
      "nbconvert_exporter": "python",
      "pygments_lexer": "ipython3",
      "version": "3.10.14"
    },
    "colab": {
      "provenance": [],
      "include_colab_link": true
    }
  },
  "nbformat_minor": 0,
  "nbformat": 4,
  "cells": [
    {
      "cell_type": "markdown",
      "metadata": {
        "id": "view-in-github",
        "colab_type": "text"
      },
      "source": [
        "<a href=\"https://colab.research.google.com/github/alexdel1/TestPresentation/blob/main/RepresentationGroupesAbeliens.ipynb\" target=\"_parent\"><img src=\"https://colab.research.google.com/assets/colab-badge.svg\" alt=\"Open In Colab\"/></a>"
      ]
    },
    {
      "cell_type": "markdown",
      "source": [
        "<a href=\"https://colab.research.google.com/github/alexdel1/TestPresentation/blob/main/RepresentationGroupesAbeliens.ipynb\" target=\"_parent\"><img src=\"https://colab.research.google.com/assets/colab-badge.svg\" alt=\"Open In Colab\"/></a>  \n",
        "[![Binder](https://mybinder.org/badge_logo.svg)](https://mybinder.org/v2/gh/alexdel1/TestPresentation/HEAD)  \n",
        "[![nbviewer](https://raw.githubusercontent.com/jupyter/design/master/logos/Badges/nbviewer_badge.svg)](https://nbviewer.org/github/alexdel1/TestPresentation/blob/main/RepresentationGroupesAbeliens.ipynb)"
      ],
      "metadata": {
        "id": "ua-LyZzaoo4C"
      }
    },
    {
      "cell_type": "markdown",
      "source": [
        "\n",
        "\n",
        "Rappel : Menu View : \\\n",
        "Toggle zen mode (not available im jupyter lab)\\\n",
        ": Appearance :\\\n",
        "Table of Contents (tick numbered AND untick first header) \\\n",
        "only simple interface\n",
        "\n",
        "Menu Settings : Jupyter dark\n",
        "\n",
        "Test regularly on Binder-JupyterLab-Zoom \\\n",
        "Make a back-up pdf(slide) and html"
      ],
      "metadata": {
        "id": "view-in-github"
      }
    },
    {
      "cell_type": "code",
      "source": [
        "#!jupyter server list"
      ],
      "metadata": {
        "trusted": true,
        "id": "eXGh5oR0ki01"
      },
      "outputs": [],
      "execution_count": null
    },
    {
      "cell_type": "code",
      "source": [
        "#!jupyter server list | grep -oP 'token=\\K[^ ]+'"
      ],
      "metadata": {
        "trusted": true,
        "id": "v0TN3Wshki09"
      },
      "outputs": [],
      "execution_count": null
    },
    {
      "cell_type": "markdown",
      "source": [
        "empty cell to drag the output to get the token for zoom"
      ],
      "metadata": {
        "id": "qWPbnxC2ki1A"
      }
    },
    {
      "cell_type": "markdown",
      "source": [
        "Nom : Alexandre Delode \\\n",
        "Date : 05/12/2024 \\\n",
        "Module : Séminaire ( AMU M1 Mathématiques EADS ) \\\n",
        "Prof. : Puschnigg \\\n",
        "Réf : B. Steinberg, Representation theory of finite groups"
      ],
      "metadata": {
        "id": "1o3elo1AoCId"
      }
    },
    {
      "cell_type": "markdown",
      "source": [
        "##### Macros Latex et Bibliothèques Python"
      ],
      "metadata": {
        "id": "Ir1YwcFZ1YQ1"
      }
    },
    {
      "cell_type": "markdown",
      "source": [
        "\n",
        "**Macros Latex:**\n",
        "\n",
        "$\n",
        "\\def\\GL{\\mathbb{GL}}\n",
        "\\def\\RR{\\mathbb{R}}\n",
        "\\def\\ZZ{\\mathbb{Z}}\n",
        "$\n",
        "\n",
        "```latex\n",
        "$\n",
        "\\def\\GL{\\mathbb{GL}}\n",
        "\\def\\RR{\\mathbb{R}}\n",
        "\\def\\ZZ{\\mathbb{Z}}\n",
        "$\n",
        "```"
      ],
      "metadata": {
        "id": "8R_lrLFa0u3n"
      }
    },
    {
      "cell_type": "markdown",
      "source": [
        "Test: Maintenant $\\GL(n, \\RR)$ fonctionne directement dans le markdown."
      ],
      "metadata": {
        "id": "DClj_uWx0mJF"
      }
    },
    {
      "cell_type": "code",
      "source": [
        "!node --version\n",
        "!npm --version\n",
        "!jupyter lab --version"
      ],
      "metadata": {
        "trusted": true,
        "colab": {
          "base_uri": "https://localhost:8080/"
        },
        "id": "jGsrTJiVki1M",
        "outputId": "448235fa-b569-4c9e-a6bf-a46b3031dd89"
      },
      "outputs": [
        {
          "output_type": "stream",
          "name": "stdout",
          "text": [
            "v18.20.5\n",
            "10.8.2\n",
            "\u001b[1G\u001b[0Kusage: jupyter [-h] [--version] [--config-dir] [--data-dir] [--runtime-dir] [--paths] [--json]\n",
            "               [--debug]\n",
            "               [subcommand]\n",
            "\n",
            "Jupyter: Interactive Computing\n",
            "\n",
            "positional arguments:\n",
            "  subcommand     the subcommand to launch\n",
            "\n",
            "options:\n",
            "  -h, --help     show this help message and exit\n",
            "  --version      show the versions of core jupyter packages and exit\n",
            "  --config-dir   show Jupyter config dir\n",
            "  --data-dir     show Jupyter data dir\n",
            "  --runtime-dir  show Jupyter runtime dir\n",
            "  --paths        show all Jupyter paths. Add --json for machine-readable format.\n",
            "  --json         output paths as machine-readable json\n",
            "  --debug        output debug information about paths\n",
            "\n",
            "Available subcommands: bundlerextension console dejavu execute kernel kernelspec migrate nbclassic\n",
            "nbconvert nbextension notebook run server serverextension troubleshoot trust\n",
            "\n",
            "Jupyter command `jupyter-lab` not found.\n"
          ]
        }
      ],
      "execution_count": null
    },
    {
      "cell_type": "markdown",
      "source": [
        "# **Représentation des groupes abéliens** <!-- omit in toc -->"
      ],
      "metadata": {
        "id": "IXNzyyCEm66t"
      }
    },
    {
      "cell_type": "markdown",
      "source": [
        "## Rappel de la théorie de la représentation des groupes"
      ],
      "metadata": {
        "id": "CLMb6lzgpg4r"
      }
    },
    {
      "cell_type": "markdown",
      "source": [
        "## Rappel groupe abélien fini"
      ],
      "metadata": {
        "id": "8v-uZ66Ir8m0"
      }
    },
    {
      "cell_type": "markdown",
      "source": [
        "### Définition"
      ],
      "metadata": {
        "id": "9cNSqHXPyKdG"
      }
    },
    {
      "cell_type": "markdown",
      "source": [
        "#### Groupe"
      ],
      "metadata": {
        "id": "vdHzs-Vdz30p"
      }
    },
    {
      "cell_type": "markdown",
      "source": [
        "Loi de composition interne (LCI) :\n",
        "* un symetrique pour chaque élément\n",
        "* associative\n",
        "* un élément neutre"
      ],
      "metadata": {
        "id": "RVGElhH16RmQ"
      }
    },
    {
      "cell_type": "markdown",
      "source": [
        "#### Abélien"
      ],
      "metadata": {
        "id": "Y2_9NDRbz70_"
      }
    },
    {
      "cell_type": "markdown",
      "source": [
        "\n",
        "$$ x \\cdot y = y \\cdot x \\,\\,\\,\\,\\, \\forall x, y \\in G $$"
      ],
      "metadata": {
        "id": "1cPftcZi7pLU"
      }
    },
    {
      "cell_type": "markdown",
      "source": [
        "#### Fini"
      ],
      "metadata": {
        "id": "Pkxt3tiE0Arn"
      }
    },
    {
      "cell_type": "markdown",
      "source": [
        "$$\\mathrm{card}(G)<\\infty$$"
      ],
      "metadata": {
        "id": "5DaZLuqUJPiu"
      }
    },
    {
      "cell_type": "markdown",
      "source": [
        "<details>\n",
        "<summary>À ne pas confondre avec de \"type fini\"</summary>\n",
        "\n",
        "$$\\forall x \\in G, \\, \\exists x_1, x_2, \\dots, x_s \\in G \\text{ et } \\exists n_1, n_2, \\dots, n_s \\in \\mathbb{Z} \\text{ tel que } x = n_1 x_1 + n_2 x_2 + \\cdots + n_s x_s$$\n",
        "où $ s $ est un nombre fini fixé.\n",
        "\n",
        "\n",
        "Une autre définition équivalente est que le rang défini ci-dessous doit être fini :\n",
        "\n",
        "$$\\mathrm{rang}(G) = \\min \\left( |X| \\mid \\langle X \\rangle = G\\right) $$\n",
        "</details>"
      ],
      "metadata": {
        "id": "Zh41IfHEFzd2"
      }
    },
    {
      "cell_type": "markdown",
      "source": [
        "### Exemples"
      ],
      "metadata": {
        "id": "jykNHFcRyY6A"
      }
    },
    {
      "cell_type": "markdown",
      "source": [
        "Si $G$ est un groupe abélien et $\\sim$ est compatible, alors $G /\\sim$ est aussi abélien."
      ],
      "metadata": {
        "id": "-5KfLz5I2mRv"
      }
    },
    {
      "cell_type": "markdown",
      "source": [
        "Un groupe cyclique est un groupe qui est à la fois fini et monogène."
      ],
      "metadata": {
        "id": "dMvq-Ubp3Arm"
      }
    },
    {
      "cell_type": "markdown",
      "source": [
        "Tout groupe cyclique est abélien. (Ex : $\\ZZ / n \\ZZ$)"
      ],
      "metadata": {
        "id": "v_Rmr6bm3SAu"
      }
    },
    {
      "cell_type": "markdown",
      "source": [
        "Tout sous-groupe d'un groupe abélien fini est abélien et fini."
      ],
      "metadata": {
        "id": "5cMktSzm3Hz8"
      }
    },
    {
      "cell_type": "markdown",
      "source": [
        "Tout produit direct d'une famille finie de groupes abéliens finis est un groupe abélien fini."
      ],
      "metadata": {
        "id": "OuoH6j8V46q4"
      }
    },
    {
      "cell_type": "markdown",
      "source": [
        "### Contre exemples"
      ],
      "metadata": {
        "id": "W4psNfYtsRkH"
      }
    },
    {
      "cell_type": "markdown",
      "source": [
        "Le groupe linéaire général $\\left( \\mathbb{GL}(n, K)  \\right)$, constitué des matrices inversibles $\\left( n \\times n \\right)$ à coefficients dans un corps \\( K \\), **n'est pas abélien** pour \\( n > 1 \\). \\"
      ],
      "metadata": {
        "id": "IzB3oENTvM7u"
      }
    },
    {
      "cell_type": "markdown",
      "source": [
        "### Théorème de structure des groupes abéliens finis"
      ],
      "metadata": {
        "id": "cwgb_9xsyoXi"
      }
    },
    {
      "cell_type": "markdown",
      "source": [
        "## Théorème de représentation des groupes abéliens finis"
      ],
      "metadata": {
        "id": "xJmDQKG81OZC"
      }
    },
    {
      "cell_type": "markdown",
      "source": [
        "## Applications en mathématiques"
      ],
      "metadata": {
        "id": "1otcm4wUbrgz"
      }
    },
    {
      "cell_type": "markdown",
      "source": [
        "Voir exos steinberg et agreg"
      ],
      "metadata": {
        "id": "AM5TIEeFth8z"
      }
    },
    {
      "cell_type": "markdown",
      "source": [
        "## Applications dans d'autres domaines"
      ],
      "metadata": {
        "id": "IC0vfat0sx-6"
      }
    },
    {
      "cell_type": "markdown",
      "source": [
        "### Statistique"
      ],
      "metadata": {
        "id": "7Vt13-LYkfph"
      }
    },
    {
      "cell_type": "markdown",
      "source": [
        "### Physique"
      ],
      "metadata": {
        "id": "Gnu0UhpUtFiq"
      }
    },
    {
      "cell_type": "markdown",
      "source": [
        "### Économie"
      ],
      "metadata": {
        "id": "UqIgy1uAtLB0"
      }
    },
    {
      "cell_type": "markdown",
      "source": [
        "### Ingénieurie"
      ],
      "metadata": {
        "id": "NS6NYafkklbv"
      }
    },
    {
      "cell_type": "markdown",
      "source": [
        "### Cybersécurité"
      ],
      "metadata": {
        "id": "UyhV29TXtPkh"
      }
    },
    {
      "cell_type": "markdown",
      "source": [
        "### Automatique"
      ],
      "metadata": {
        "id": "eKZxqnidtdiS"
      }
    },
    {
      "cell_type": "code",
      "source": [],
      "metadata": {
        "collapsed": true,
        "jupyter": {
          "outputs_hidden": true
        },
        "trusted": true,
        "id": "2wWhklmMki13"
      },
      "outputs": [],
      "execution_count": null
    }
  ]
}