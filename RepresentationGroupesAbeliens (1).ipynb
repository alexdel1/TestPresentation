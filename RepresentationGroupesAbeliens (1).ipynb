{
 "cells": [
  {
   "cell_type": "markdown",
   "metadata": {
    "colab_type": "text",
    "id": "view-in-github"
   },
   "source": [
    "<a href=\"https://colab.research.google.com/github/alexdel1/TestPresentation/blob/main/RepresentationGroupesAbeliens.ipynb\" target=\"_parent\"><img src=\"https://colab.research.google.com/assets/colab-badge.svg\" alt=\"Open In Colab\"/></a>\n",
    "[![Binder](https://mybinder.org/badge_logo.svg)](https://mybinder.org/v2/gh/alexdel1/TestPresentation/HEAD)\n",
    "Rappel : Menu View :\n",
    "Toggle zen mode\n",
    "Table of Contents (un"
   ]
  },
  {
   "cell_type": "markdown",
   "metadata": {
    "id": "1o3elo1AoCId"
   },
   "source": [
    "Nom : Alexandre Delode \\\n",
    "Date : 05/12/2024 \\\n",
    "Module : Séminaire ( AMU M1 Mathématiques EADS ) \\\n",
    "Prof. : Puschnigg \\\n",
    "Réf : B. Steinberg, Representation theory of finite groups \\"
   ]
  },
  {
   "cell_type": "markdown",
   "metadata": {
    "id": "Ir1YwcFZ1YQ1"
   },
   "source": [
    "##### Macros Latex et Bibliothèques Python"
   ]
  },
  {
   "cell_type": "markdown",
   "metadata": {
    "id": "8R_lrLFa0u3n"
   },
   "source": [
    "\n",
    "**Macros Latex:**\n",
    "\n",
    "$\\def\\GL{\\mathbb{GL}}\\def\\RR{\\mathbb{R}}$"
   ]
  },
  {
   "cell_type": "markdown",
   "metadata": {
    "id": "DClj_uWx0mJF"
   },
   "source": [
    "Test: Maintenant $\\GL(n, \\RR)$ fonctionne directement dans le markdown."
   ]
  },
  {
   "cell_type": "markdown",
   "metadata": {
    "id": "IXNzyyCEm66t"
   },
   "source": [
    "# **Représentation des groupes abéliens** <!-- omit in toc -->"
   ]
  },
  {
   "cell_type": "markdown",
   "metadata": {
    "id": "CLMb6lzgpg4r"
   },
   "source": [
    "## Rappel de la théorie de la représentation des groupes"
   ]
  },
  {
   "cell_type": "markdown",
   "metadata": {
    "id": "8v-uZ66Ir8m0"
   },
   "source": [
    "## Rappel groupe abélien fini"
   ]
  },
  {
   "cell_type": "markdown",
   "metadata": {
    "id": "9cNSqHXPyKdG"
   },
   "source": [
    "### Définition"
   ]
  },
  {
   "cell_type": "markdown",
   "metadata": {
    "id": "vdHzs-Vdz30p"
   },
   "source": [
    "#### Groupe"
   ]
  },
  {
   "cell_type": "markdown",
   "metadata": {
    "id": "Y2_9NDRbz70_"
   },
   "source": [
    "#### Abélien"
   ]
  },
  {
   "cell_type": "markdown",
   "metadata": {
    "id": "Pkxt3tiE0Arn"
   },
   "source": [
    "#### Fini"
   ]
  },
  {
   "cell_type": "markdown",
   "metadata": {
    "id": "jykNHFcRyY6A"
   },
   "source": [
    "### Exemples"
   ]
  },
  {
   "cell_type": "markdown",
   "metadata": {
    "id": "W4psNfYtsRkH"
   },
   "source": [
    "### Contre exemples"
   ]
  },
  {
   "cell_type": "markdown",
   "metadata": {
    "id": "IzB3oENTvM7u",
    "jupyter": {
     "source_hidden": true
    }
   },
   "source": [
    "Le groupe linéaire général $\\left( \\mathbb{GL}(n, K)  \\right)$, constitué des matrices inversibles $\\left( n \\times n \\right)$ à coefficients dans un corps \\( K \\), **n'est pas abélien** pour \\( n > 1 \\). \\"
   ]
  },
  {
   "cell_type": "markdown",
   "metadata": {
    "id": "cwgb_9xsyoXi",
    "jupyter": {
     "source_hidden": true
    }
   },
   "source": [
    "### Théorème de structure des groupes abéliens de type fini"
   ]
  },
  {
   "cell_type": "markdown",
   "metadata": {
    "id": "xJmDQKG81OZC"
   },
   "source": [
    "## Théorème de représentation des groupes abéliens de type fini"
   ]
  },
  {
   "cell_type": "markdown",
   "metadata": {
    "id": "1otcm4wUbrgz"
   },
   "source": [
    "## Applications en mathématiques"
   ]
  },
  {
   "cell_type": "markdown",
   "metadata": {
    "id": "AM5TIEeFth8z"
   },
   "source": [
    "Voir exos steinberg et agreg"
   ]
  },
  {
   "cell_type": "markdown",
   "metadata": {
    "id": "IC0vfat0sx-6"
   },
   "source": [
    "## Applications dans d'autres domaines"
   ]
  },
  {
   "cell_type": "markdown",
   "metadata": {
    "id": "7Vt13-LYkfph"
   },
   "source": [
    "### Statistique"
   ]
  },
  {
   "cell_type": "markdown",
   "metadata": {
    "id": "Gnu0UhpUtFiq"
   },
   "source": [
    "### Physique"
   ]
  },
  {
   "cell_type": "markdown",
   "metadata": {
    "id": "UqIgy1uAtLB0"
   },
   "source": [
    "### Économie"
   ]
  },
  {
   "cell_type": "markdown",
   "metadata": {
    "id": "NS6NYafkklbv"
   },
   "source": [
    "### Ingénieurie"
   ]
  },
  {
   "cell_type": "markdown",
   "metadata": {
    "id": "UyhV29TXtPkh"
   },
   "source": [
    "### Cybersécurité"
   ]
  },
  {
   "cell_type": "markdown",
   "metadata": {
    "id": "eKZxqnidtdiS"
   },
   "source": [
    "### Automatique"
   ]
  },
  {
   "cell_type": "code",
   "execution_count": null,
   "metadata": {},
   "outputs": [],
   "source": []
  }
 ],
 "metadata": {
  "colab": {
   "authorship_tag": "ABX9TyPVCbcZEb9bxxykV+q8zbWL",
   "include_colab_link": true,
   "provenance": []
  },
  "kernelspec": {
   "display_name": "Python 3 (ipykernel)",
   "language": "python",
   "name": "python3"
  },
  "language_info": {
   "codemirror_mode": {
    "name": "ipython",
    "version": 3
   },
   "file_extension": ".py",
   "mimetype": "text/x-python",
   "name": "python",
   "nbconvert_exporter": "python",
   "pygments_lexer": "ipython3",
   "version": "3.10.14"
  },
  "widgets": {
   "application/vnd.jupyter.widget-state+json": {
    "27a22972917247558aac9bf3fbe11260": {
     "model_module": "@jupyter-widgets/base",
     "model_module_version": "1.2.0",
     "model_name": "LayoutModel",
     "state": {
      "_model_module": "@jupyter-widgets/base",
      "_model_module_version": "1.2.0",
      "_model_name": "LayoutModel",
      "_view_count": null,
      "_view_module": "@jupyter-widgets/base",
      "_view_module_version": "1.2.0",
      "_view_name": "LayoutView",
      "align_content": null,
      "align_items": null,
      "align_self": null,
      "border": null,
      "bottom": null,
      "display": null,
      "flex": null,
      "flex_flow": null,
      "grid_area": null,
      "grid_auto_columns": null,
      "grid_auto_flow": null,
      "grid_auto_rows": null,
      "grid_column": null,
      "grid_gap": null,
      "grid_row": null,
      "grid_template_areas": null,
      "grid_template_columns": null,
      "grid_template_rows": null,
      "height": null,
      "justify_content": null,
      "justify_items": null,
      "left": null,
      "margin": null,
      "max_height": null,
      "max_width": null,
      "min_height": null,
      "min_width": null,
      "object_fit": null,
      "object_position": null,
      "order": null,
      "overflow": null,
      "overflow_x": null,
      "overflow_y": null,
      "padding": null,
      "right": null,
      "top": null,
      "visibility": null,
      "width": null
     }
    },
    "928bae39a30c408d84cb4a30f4a112b3": {
     "model_module": "@jupyter-widgets/controls",
     "model_module_version": "1.5.0",
     "model_name": "SliderStyleModel",
     "state": {
      "_model_module": "@jupyter-widgets/controls",
      "_model_module_version": "1.5.0",
      "_model_name": "SliderStyleModel",
      "_view_count": null,
      "_view_module": "@jupyter-widgets/base",
      "_view_module_version": "1.2.0",
      "_view_name": "StyleView",
      "description_width": "",
      "handle_color": null
     }
    },
    "ff81c94e709247a1b34720aced1f31da": {
     "model_module": "@jupyter-widgets/controls",
     "model_module_version": "1.5.0",
     "model_name": "IntSliderModel",
     "state": {
      "_dom_classes": [],
      "_model_module": "@jupyter-widgets/controls",
      "_model_module_version": "1.5.0",
      "_model_name": "IntSliderModel",
      "_view_count": null,
      "_view_module": "@jupyter-widgets/controls",
      "_view_module_version": "1.5.0",
      "_view_name": "IntSliderView",
      "continuous_update": true,
      "description": "Slider",
      "description_tooltip": null,
      "disabled": false,
      "layout": "IPY_MODEL_27a22972917247558aac9bf3fbe11260",
      "max": 100,
      "min": 0,
      "orientation": "horizontal",
      "readout": true,
      "readout_format": "d",
      "step": 1,
      "style": "IPY_MODEL_928bae39a30c408d84cb4a30f4a112b3",
      "value": 95
     }
    }
   }
  }
 },
 "nbformat": 4,
 "nbformat_minor": 4
}
