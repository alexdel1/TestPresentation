{
  "nbformat": 4,
  "nbformat_minor": 0,
  "metadata": {
    "colab": {
      "provenance": [],
      "authorship_tag": "ABX9TyM3uG16W8Xf9Npiam+p7LBj",
      "include_colab_link": true
    },
    "kernelspec": {
      "name": "python3",
      "display_name": "Python 3"
    },
    "language_info": {
      "name": "python"
    }
  },
  "cells": [
    {
      "cell_type": "markdown",
      "metadata": {
        "id": "view-in-github",
        "colab_type": "text"
      },
      "source": [
        "<a href=\"https://colab.research.google.com/github/alexdel1/TestPresentation/blob/main/testgraphviz.ipynb\" target=\"_parent\"><img src=\"https://colab.research.google.com/assets/colab-badge.svg\" alt=\"Open In Colab\"/></a>"
      ]
    },
    {
      "cell_type": "code",
      "execution_count": 1,
      "metadata": {
        "colab": {
          "base_uri": "https://localhost:8080/"
        },
        "id": "eoHkYvFzKViJ",
        "outputId": "dc0c5f45-1ded-48ab-edd1-18254a79fee6"
      },
      "outputs": [
        {
          "output_type": "stream",
          "name": "stdout",
          "text": [
            "Reading package lists... Done\n",
            "Building dependency tree... Done\n",
            "Reading state information... Done\n",
            "graphviz is already the newest version (2.42.2-6ubuntu0.1).\n",
            "0 upgraded, 0 newly installed, 0 to remove and 49 not upgraded.\n",
            "Requirement already satisfied: graphviz in /usr/local/lib/python3.10/dist-packages (0.20.3)\n"
          ]
        }
      ],
      "source": [
        "\n",
        "!apt-get install graphviz\n",
        "!pip install graphviz"
      ]
    },
    {
      "cell_type": "code",
      "source": [
        "\n",
        "from graphviz import Digraph"
      ],
      "metadata": {
        "id": "hL0AWhNUKnlT"
      },
      "execution_count": 2,
      "outputs": []
    },
    {
      "cell_type": "code",
      "source": [
        "\n",
        "# Create a directed graph\n",
        "dot = Digraph()\n",
        "\n",
        "# Add nodes\n",
        "dot.node('A', 'Node A')\n",
        "dot.node('B', 'Node B')\n",
        "dot.node('C', 'Node C')\n",
        "\n",
        "# Add edges\n",
        "dot.edge('A', 'B', label='Edge A-B')\n",
        "dot.edge('B', 'C', label='Edge B-C')\n",
        "\n",
        "# Render the graph\n",
        "dot.render('graph', format='png', cleanup=True)  # Saves the graph to a file\n",
        "dot.view()  # Displays the graph"
      ],
      "metadata": {
        "colab": {
          "base_uri": "https://localhost:8080/",
          "height": 35
        },
        "id": "O2IuhzubKrFp",
        "outputId": "e66280b2-507f-4ac3-8667-6aca21f01968"
      },
      "execution_count": 3,
      "outputs": [
        {
          "output_type": "execute_result",
          "data": {
            "text/plain": [
              "'graph.pdf'"
            ],
            "application/vnd.google.colaboratory.intrinsic+json": {
              "type": "string"
            }
          },
          "metadata": {},
          "execution_count": 3
        }
      ]
    },
    {
      "cell_type": "code",
      "source": [
        "\n",
        "from IPython.display import Image\n",
        "\n",
        "# Display the graph inline\n",
        "Image(dot.pipe(format='png'))"
      ],
      "metadata": {
        "colab": {
          "base_uri": "https://localhost:8080/",
          "height": 358
        },
        "id": "RQEG7LuiK07O",
        "outputId": "19b3c819-6d07-414a-f04a-44f26cc20ada"
      },
      "execution_count": 66,
      "outputs": [
        {
          "output_type": "execute_result",
          "data": {
            "image/png": "[encoded data removed]",
            "text/plain": [
              "<IPython.core.display.Image object>"
            ]
          },
          "metadata": {},
          "execution_count": 66
        }
      ]
    },
    {
      "cell_type": "code",
      "source": [
        "import networkx as nx\n",
        "G = nx.Graph()"
      ],
      "metadata": {
        "id": "EWV5dwf3Lpf_"
      },
      "execution_count": 5,
      "outputs": []
    },
    {
      "cell_type": "code",
      "source": [
        "!sudo apt update\n",
        "!sudo apt install graphviz graphviz-dev"
      ],
      "metadata": {
        "colab": {
          "base_uri": "https://localhost:8080/"
        },
        "id": "zuMO4z7GPOry",
        "outputId": "6b050f76-2a64-4020-8495-d08377570116"
      },
      "execution_count": 26,
      "outputs": [
        {
          "output_type": "stream",
          "name": "stdout",
          "text": [
            "\u001b[33m\r0% [Working]\u001b[0m\r            \rHit:1 http://archive.ubuntu.com/ubuntu jammy InRelease\n",
            "\u001b[33m\r0% [Waiting for headers] [Connecting to security.ubuntu.com (185.125.190.83)] [\u001b[0m\r                                                                               \rGet:2 http://archive.ubuntu.com/ubuntu jammy-updates InRelease [128 kB]\n",
            "\u001b[33m\r0% [2 InRelease 5,484 B/128 kB 4%] [Connecting to security.ubuntu.com (185.125.\u001b[0m\r                                                                               \rGet:3 https://cloud.r-project.org/bin/linux/ubuntu jammy-cran40/ InRelease [3,626 B]\n",
            "Hit:4 https://developer.download.nvidia.com/compute/cuda/repos/ubuntu2204/x86_64  InRelease\n",
            "Get:5 http://archive.ubuntu.com/ubuntu jammy-backports InRelease [127 kB]\n",
            "Get:6 http://security.ubuntu.com/ubuntu jammy-security InRelease [129 kB]\n",
            "Get:7 https://r2u.stat.illinois.edu/ubuntu jammy InRelease [6,555 B]\n",
            "Hit:8 https://ppa.launchpadcontent.net/deadsnakes/ppa/ubuntu jammy InRelease\n",
            "Get:9 http://archive.ubuntu.com/ubuntu jammy-updates/universe amd64 Packages [1,513 kB]\n",
            "Hit:10 https://ppa.launchpadcontent.net/graphics-drivers/ppa/ubuntu jammy InRelease\n",
            "Hit:11 https://ppa.launchpadcontent.net/ubuntugis/ppa/ubuntu jammy InRelease\n",
            "Get:12 http://archive.ubuntu.com/ubuntu jammy-updates/main amd64 Packages [2,738 kB]\n",
            "Get:13 http://archive.ubuntu.com/ubuntu jammy-backports/universe amd64 Packages [33.8 kB]\n",
            "Get:14 https://r2u.stat.illinois.edu/ubuntu jammy/main all Packages [8,514 kB]\n",
            "Get:15 http://security.ubuntu.com/ubuntu jammy-security/universe amd64 Packages [1,224 kB]\n",
            "Get:16 https://r2u.stat.illinois.edu/ubuntu jammy/main amd64 Packages [2,621 kB]\n",
            "Get:17 http://security.ubuntu.com/ubuntu jammy-security/main amd64 Packages [2,454 kB]\n",
            "Fetched 19.5 MB in 3s (6,727 kB/s)\n",
            "Reading package lists... Done\n",
            "Building dependency tree... Done\n",
            "Reading state information... Done\n",
            "57 packages can be upgraded. Run 'apt list --upgradable' to see them.\n",
            "\u001b[1;33mW: \u001b[0mSkipping acquire of configured file 'main/source/Sources' as repository 'https://r2u.stat.illinois.edu/ubuntu jammy InRelease' does not seem to provide it (sources.list entry misspelt?)\u001b[0m\n",
            "Reading package lists... Done\n",
            "Building dependency tree... Done\n",
            "Reading state information... Done\n",
            "Note, selecting 'libgraphviz-dev' instead of 'graphviz-dev'\n",
            "graphviz is already the newest version (2.42.2-6ubuntu0.1).\n",
            "The following additional packages will be installed:\n",
            "  libgail-common libgail18 libgtk2.0-0 libgtk2.0-bin libgtk2.0-common\n",
            "  libgvc6-plugins-gtk librsvg2-common libxdot4\n",
            "Suggested packages:\n",
            "  gvfs\n",
            "The following NEW packages will be installed:\n",
            "  libgail-common libgail18 libgraphviz-dev libgtk2.0-0 libgtk2.0-bin\n",
            "  libgtk2.0-common libgvc6-plugins-gtk librsvg2-common libxdot4\n",
            "0 upgraded, 9 newly installed, 0 to remove and 57 not upgraded.\n",
            "Need to get 2,434 kB of archives.\n",
            "After this operation, 7,681 kB of additional disk space will be used.\n",
            "Get:1 http://archive.ubuntu.com/ubuntu jammy-updates/main amd64 libgtk2.0-common all 2.24.33-2ubuntu2.1 [125 kB]\n",
            "Get:2 http://archive.ubuntu.com/ubuntu jammy-updates/main amd64 libgtk2.0-0 amd64 2.24.33-2ubuntu2.1 [2,038 kB]\n",
            "Get:3 http://archive.ubuntu.com/ubuntu jammy-updates/main amd64 libgail18 amd64 2.24.33-2ubuntu2.1 [15.9 kB]\n",
            "Get:4 http://archive.ubuntu.com/ubuntu jammy-updates/main amd64 libgail-common amd64 2.24.33-2ubuntu2.1 [132 kB]\n",
            "Get:5 http://archive.ubuntu.com/ubuntu jammy-updates/universe amd64 libxdot4 amd64 2.42.2-6ubuntu0.1 [16.4 kB]\n",
            "Get:6 http://archive.ubuntu.com/ubuntu jammy-updates/universe amd64 libgvc6-plugins-gtk amd64 2.42.2-6ubuntu0.1 [22.5 kB]\n",
            "Get:7 http://archive.ubuntu.com/ubuntu jammy-updates/universe amd64 libgraphviz-dev amd64 2.42.2-6ubuntu0.1 [58.5 kB]\n",
            "Get:8 http://archive.ubuntu.com/ubuntu jammy-updates/main amd64 libgtk2.0-bin amd64 2.24.33-2ubuntu2.1 [7,936 B]\n",
            "Get:9 http://archive.ubuntu.com/ubuntu jammy-updates/main amd64 librsvg2-common amd64 2.52.5+dfsg-3ubuntu0.2 [17.7 kB]\n",
            "Fetched 2,434 kB in 0s (8,125 kB/s)\n",
            "debconf: unable to initialize frontend: Dialog\n",
            "debconf: (No usable dialog-like program is installed, so the dialog based frontend cannot be used. at /usr/share/perl5/Debconf/FrontEnd/Dialog.pm line 78, <> line 9.)\n",
            "debconf: falling back to frontend: Readline\n",
            "debconf: unable to initialize frontend: Readline\n",
            "debconf: (This frontend requires a controlling tty.)\n",
            "debconf: falling back to frontend: Teletype\n",
            "dpkg-preconfigure: unable to re-open stdin: \n",
            "Selecting previously unselected package libgtk2.0-common.\n",
            "(Reading database ... 123630 files and directories currently installed.)\n",
            "Preparing to unpack .../0-libgtk2.0-common_2.24.33-2ubuntu2.1_all.deb ...\n",
            "Unpacking libgtk2.0-common (2.24.33-2ubuntu2.1) ...\n",
            "Selecting previously unselected package libgtk2.0-0:amd64.\n",
            "Preparing to unpack .../1-libgtk2.0-0_2.24.33-2ubuntu2.1_amd64.deb ...\n",
            "Unpacking libgtk2.0-0:amd64 (2.24.33-2ubuntu2.1) ...\n",
            "Selecting previously unselected package libgail18:amd64.\n",
            "Preparing to unpack .../2-libgail18_2.24.33-2ubuntu2.1_amd64.deb ...\n",
            "Unpacking libgail18:amd64 (2.24.33-2ubuntu2.1) ...\n",
            "Selecting previously unselected package libgail-common:amd64.\n",
            "Preparing to unpack .../3-libgail-common_2.24.33-2ubuntu2.1_amd64.deb ...\n",
            "Unpacking libgail-common:amd64 (2.24.33-2ubuntu2.1) ...\n",
            "Selecting previously unselected package libxdot4:amd64.\n",
            "Preparing to unpack .../4-libxdot4_2.42.2-6ubuntu0.1_amd64.deb ...\n",
            "Unpacking libxdot4:amd64 (2.42.2-6ubuntu0.1) ...\n",
            "Selecting previously unselected package libgvc6-plugins-gtk.\n",
            "Preparing to unpack .../5-libgvc6-plugins-gtk_2.42.2-6ubuntu0.1_amd64.deb ...\n",
            "Unpacking libgvc6-plugins-gtk (2.42.2-6ubuntu0.1) ...\n",
            "Selecting previously unselected package libgraphviz-dev:amd64.\n",
            "Preparing to unpack .../6-libgraphviz-dev_2.42.2-6ubuntu0.1_amd64.deb ...\n",
            "Unpacking libgraphviz-dev:amd64 (2.42.2-6ubuntu0.1) ...\n",
            "Selecting previously unselected package libgtk2.0-bin.\n",
            "Preparing to unpack .../7-libgtk2.0-bin_2.24.33-2ubuntu2.1_amd64.deb ...\n",
            "Unpacking libgtk2.0-bin (2.24.33-2ubuntu2.1) ...\n",
            "Selecting previously unselected package librsvg2-common:amd64.\n",
            "Preparing to unpack .../8-librsvg2-common_2.52.5+dfsg-3ubuntu0.2_amd64.deb ...\n",
            "Unpacking librsvg2-common:amd64 (2.52.5+dfsg-3ubuntu0.2) ...\n",
            "Setting up libxdot4:amd64 (2.42.2-6ubuntu0.1) ...\n",
            "Setting up librsvg2-common:amd64 (2.52.5+dfsg-3ubuntu0.2) ...\n",
            "Setting up libgtk2.0-common (2.24.33-2ubuntu2.1) ...\n",
            "Setting up libgtk2.0-0:amd64 (2.24.33-2ubuntu2.1) ...\n",
            "Setting up libgvc6-plugins-gtk (2.42.2-6ubuntu0.1) ...\n",
            "Setting up libgail18:amd64 (2.24.33-2ubuntu2.1) ...\n",
            "Setting up libgtk2.0-bin (2.24.33-2ubuntu2.1) ...\n",
            "Setting up libgail-common:amd64 (2.24.33-2ubuntu2.1) ...\n",
            "Setting up libgraphviz-dev:amd64 (2.42.2-6ubuntu0.1) ...\n",
            "Processing triggers for libc-bin (2.35-0ubuntu3.4) ...\n",
            "/sbin/ldconfig.real: /usr/local/lib/libur_loader.so.0 is not a symbolic link\n",
            "\n",
            "/sbin/ldconfig.real: /usr/local/lib/libtcm_debug.so.1 is not a symbolic link\n",
            "\n",
            "/sbin/ldconfig.real: /usr/local/lib/libtbbbind_2_5.so.3 is not a symbolic link\n",
            "\n",
            "/sbin/ldconfig.real: /usr/local/lib/libtbbmalloc_proxy.so.2 is not a symbolic link\n",
            "\n",
            "/sbin/ldconfig.real: /usr/local/lib/libur_adapter_opencl.so.0 is not a symbolic link\n",
            "\n",
            "/sbin/ldconfig.real: /usr/local/lib/libtbbbind_2_0.so.3 is not a symbolic link\n",
            "\n",
            "/sbin/ldconfig.real: /usr/local/lib/libtbbbind.so.3 is not a symbolic link\n",
            "\n",
            "/sbin/ldconfig.real: /usr/local/lib/libtbb.so.12 is not a symbolic link\n",
            "\n",
            "/sbin/ldconfig.real: /usr/local/lib/libtcm.so.1 is not a symbolic link\n",
            "\n",
            "/sbin/ldconfig.real: /usr/local/lib/libur_adapter_level_zero.so.0 is not a symbolic link\n",
            "\n",
            "/sbin/ldconfig.real: /usr/local/lib/libtbbmalloc.so.2 is not a symbolic link\n",
            "\n",
            "/sbin/ldconfig.real: /usr/local/lib/libhwloc.so.15 is not a symbolic link\n",
            "\n",
            "/sbin/ldconfig.real: /usr/local/lib/libumf.so.0 is not a symbolic link\n",
            "\n",
            "Processing triggers for man-db (2.10.2-1) ...\n",
            "Processing triggers for libgdk-pixbuf-2.0-0:amd64 (2.42.8+dfsg-1ubuntu0.3) ...\n"
          ]
        }
      ]
    },
    {
      "cell_type": "code",
      "source": [
        "#!apt-get install pygraphviz\n",
        "!pip install pygraphviz"
      ],
      "metadata": {
        "colab": {
          "base_uri": "https://localhost:8080/"
        },
        "collapsed": true,
        "id": "evV8jX9hNaZY",
        "outputId": "321b5a93-31c5-43ab-98be-67d4210da1d4"
      },
      "execution_count": 27,
      "outputs": [
        {
          "output_type": "stream",
          "name": "stdout",
          "text": [
            "Collecting pygraphviz\n",
            "  Using cached pygraphviz-1.14.tar.gz (106 kB)\n",
            "  Installing build dependencies ... \u001b[?25l\u001b[?25hdone\n",
            "  Getting requirements to build wheel ... \u001b[?25l\u001b[?25hdone\n",
            "  Preparing metadata (pyproject.toml) ... \u001b[?25l\u001b[?25hdone\n",
            "Building wheels for collected packages: pygraphviz\n",
            "  Building wheel for pygraphviz (pyproject.toml) ... \u001b[?25l\u001b[?25hdone\n",
            "  Created wheel for pygraphviz: filename=pygraphviz-1.14-cp310-cp310-linux_x86_64.whl size=168639 sha256=1928831d302b8eaad0040854bda9de3c10cde45983d4fadc256923fa60985f73\n",
            "  Stored in directory: /root/.cache/pip/wheels/61/ab/cd/e24a22c32830b8b4948c8887d8714d399f0f806f206a034698\n",
            "Successfully built pygraphviz\n",
            "Installing collected packages: pygraphviz\n",
            "Successfully installed pygraphviz-1.14\n"
          ]
        }
      ]
    },
    {
      "cell_type": "code",
      "source": [
        "\n",
        "import networkx as nx\n",
        "from networkx.drawing.nx_agraph import write_dot, to_agraph\n",
        "import matplotlib.pyplot as plt\n",
        "\n",
        "# Créer un graphe simple avec NetworkX\n",
        "G = nx.DiGraph()\n",
        "G.add_node(\"A\", color=\"red\", shape=\"circle\")\n",
        "G.add_node(\"B\", color=\"blue\", shape=\"box\")\n",
        "G.add_edge(\"A\", \"B\", label=\"1.0\", weight=1.0)\n",
        "G.add_edge(\"B\", \"A\", label=\"2.0\", weight=2.0)\n",
        "\n",
        "# Convertir le graphe en PyGraphviz AGraph\n",
        "A = to_agraph(G)\n",
        "\n",
        "# Personnaliser le style\n",
        "A.graph_attr.update(rankdir=\"LR\")  # Orientation de gauche à droite\n",
        "A.node_attr.update(fontsize=\"10\", style=\"filled\")\n",
        "A.edge_attr.update(color=\"black\", arrowsize=\"0.5\")\n",
        "\n",
        "# Rendu et affichage dans Jupyter\n",
        "#A.draw(\"graph.png\", format=\"png\", prog=\"dot\")  # Sauvegarder le graphe en image\n",
        "A.draw(\"graph.svg\", format=\"svg\", prog=\"dot\")  # Sauvegarder le graphe en SVG\n",
        "\n",
        "\n",
        "# Afficher l'image dans Jupyter\n",
        "img = plt.imread(\"graph.png\")\n",
        "plt.figure(figsize=(6, 6))\n",
        "plt.imshow(img)\n",
        "plt.axis(\"off\")\n",
        "plt.show()"
      ],
      "metadata": {
        "colab": {
          "base_uri": "https://localhost:8080/",
          "height": 127
        },
        "id": "qoZsSN7hNUXT",
        "outputId": "2d9a8359-f1e2-4ff2-ecef-571cba862e62"
      },
      "execution_count": 37,
      "outputs": [
        {
          "output_type": "display_data",
          "data": {
            "text/plain": [
              "<Figure size 600x600 with 1 Axes>"
            ],
            "image/png": "[encoded data removed]"
          },
          "metadata": {}
        }
      ]
    },
    {
      "cell_type": "code",
      "source": [
        "\n",
        "from IPython.display import SVG\n",
        "\n",
        "# Afficher le SVG dans Jupyter\n",
        "SVG(\"graph.svg\")"
      ],
      "metadata": {
        "colab": {
          "base_uri": "https://localhost:8080/",
          "height": 99
        },
        "id": "tNtd4EEnQcXO",
        "outputId": "4903a2c4-80f0-4241-92df-3f04aaafacda"
      },
      "execution_count": 38,
      "outputs": [
        {
          "output_type": "execute_result",
          "data": {
            "text/plain": [
              "<IPython.core.display.SVG object>"
            ],
            "image/svg+xml": "<svg xmlns=\"http://www.w3.org/2000/svg\" xmlns:xlink=\"http://www.w3.org/1999/xlink\" width=\"152pt\" height=\"58pt\" viewBox=\"0.00 0.00 152.00 58.00\">\n<g id=\"graph0\" class=\"graph\" transform=\"scale(1 1) rotate(0) translate(4 54)\">\n<polygon fill=\"white\" stroke=\"transparent\" points=\"-4,4 -4,-54 148,-54 148,4 -4,4\"/>\n<!-- A -->\n<g id=\"node1\" class=\"node\">\n<title>A</title>\n<ellipse fill=\"red\" stroke=\"red\" cx=\"18\" cy=\"-18\" rx=\"18\" ry=\"18\"/>\n<text text-anchor=\"middle\" x=\"18\" y=\"-15.5\" font-family=\"Times,serif\" font-size=\"10.00\">A</text>\n</g>\n<!-- B -->\n<g id=\"node2\" class=\"node\">\n<title>B</title>\n<polygon fill=\"blue\" stroke=\"blue\" points=\"144,-36 90,-36 90,0 144,0 144,-36\"/>\n<text text-anchor=\"middle\" x=\"117\" y=\"-15.5\" font-family=\"Times,serif\" font-size=\"10.00\">B</text>\n</g>\n<!-- A&#45;&gt;B -->\n<g id=\"edge1\" class=\"edge\">\n<title>A-&gt;B</title>\n<path fill=\"none\" stroke=\"black\" d=\"M34.18,-26.66C40.16,-29.6 47.21,-32.52 54,-34 64.08,-36.2 75,-34.7 84.83,-31.89\"/>\n<polygon fill=\"black\" stroke=\"black\" points=\"85.61,-33.48 89.86,-30.32 84.57,-30.14 85.61,-33.48\"/>\n<text text-anchor=\"middle\" x=\"63\" y=\"-38.8\" font-family=\"Times,serif\" font-size=\"14.00\">1.0</text>\n</g>\n<!-- B&#45;&gt;A -->\n<g id=\"edge2\" class=\"edge\">\n<title>B-&gt;A</title>\n<path fill=\"none\" stroke=\"black\" d=\"M89.76,-15.67C78.72,-14.97 65.74,-14.5 54,-15 49.89,-15.18 45.51,-15.47 41.29,-15.8\"/>\n<polygon fill=\"black\" stroke=\"black\" points=\"40.91,-14.08 36.07,-16.24 41.2,-17.57 40.91,-14.08\"/>\n<text text-anchor=\"middle\" x=\"63\" y=\"-18.8\" font-family=\"Times,serif\" font-size=\"14.00\">2.0</text>\n</g>\n</g>\n</svg>"
          },
          "metadata": {},
          "execution_count": 38
        }
      ]
    },
    {
      "cell_type": "code",
      "source": [
        "\n",
        "G.add_nodes_from([(4, {\"color\": \"red\"}), (5, {\"color\": \"green\"})])"
      ],
      "metadata": {
        "id": "yanPDxftL1SE"
      },
      "execution_count": 29,
      "outputs": []
    },
    {
      "cell_type": "code",
      "source": [],
      "metadata": {
        "id": "pGS6uSNyUMZ9"
      },
      "execution_count": null,
      "outputs": []
    },
    {
      "cell_type": "code",
      "source": [
        "G.add_edges_from([(4, 5)])"
      ],
      "metadata": {
        "id": "e6Z4qwFTMUL1"
      },
      "execution_count": 30,
      "outputs": []
    },
    {
      "cell_type": "code",
      "source": [
        "PG = nx.nx_pydot.to_pydot(G)\n",
        "#A = nx.nx_agraph.to_agraph(G)"
      ],
      "metadata": {
        "id": "byh18vZ4MzmI"
      },
      "execution_count": 31,
      "outputs": []
    },
    {
      "cell_type": "code",
      "source": [
        "# Render the graph\n",
        "PG.render('graph', format='png', cleanup=True)  # Saves the graph to a file\n",
        "PG.view()  # Displays the graph"
      ],
      "metadata": {
        "colab": {
          "base_uri": "https://localhost:8080/",
          "height": 332
        },
        "id": "ZD04LSsCN24L",
        "outputId": "4b11d617-bf3b-4190-dfc4-371108c02b47"
      },
      "execution_count": 32,
      "outputs": [
        {
          "output_type": "error",
          "ename": "AttributeError",
          "evalue": "'Dot' object has no attribute 'render'",
          "traceback": [
            "\u001b[0;31m---------------------------------------------------------------------------\u001b[0m",
            "\u001b[0;31mAttributeError\u001b[0m                            Traceback (most recent call last)",
            "\u001b[0;32m<ipython-input-32-3b84cce29497>\u001b[0m in \u001b[0;36m<cell line: 2>\u001b[0;34m()\u001b[0m\n\u001b[1;32m      1\u001b[0m \u001b[0;31m# Render the graph\u001b[0m\u001b[0;34m\u001b[0m\u001b[0;34m\u001b[0m\u001b[0m\n\u001b[0;32m----> 2\u001b[0;31m \u001b[0mPG\u001b[0m\u001b[0;34m.\u001b[0m\u001b[0mrender\u001b[0m\u001b[0;34m(\u001b[0m\u001b[0;34m'graph'\u001b[0m\u001b[0;34m,\u001b[0m \u001b[0mformat\u001b[0m\u001b[0;34m=\u001b[0m\u001b[0;34m'png'\u001b[0m\u001b[0;34m,\u001b[0m \u001b[0mcleanup\u001b[0m\u001b[0;34m=\u001b[0m\u001b[0;32mTrue\u001b[0m\u001b[0;34m)\u001b[0m  \u001b[0;31m# Saves the graph to a file\u001b[0m\u001b[0;34m\u001b[0m\u001b[0;34m\u001b[0m\u001b[0m\n\u001b[0m\u001b[1;32m      3\u001b[0m \u001b[0mPG\u001b[0m\u001b[0;34m.\u001b[0m\u001b[0mview\u001b[0m\u001b[0;34m(\u001b[0m\u001b[0;34m)\u001b[0m  \u001b[0;31m# Displays the graph\u001b[0m\u001b[0;34m\u001b[0m\u001b[0;34m\u001b[0m\u001b[0m\n",
            "\u001b[0;31mAttributeError\u001b[0m: 'Dot' object has no attribute 'render'"
          ]
        }
      ]
    },
    {
      "cell_type": "code",
      "source": [
        "\n",
        "# Create a directed graph\n",
        "PG2 = Digraph(PG)"
      ],
      "metadata": {
        "id": "MKhAHzLiOCYD"
      },
      "execution_count": 33,
      "outputs": []
    },
    {
      "cell_type": "code",
      "source": [
        "\n",
        "\n",
        "# Render the graph\n",
        "PG2.render('graph', format='png', cleanup=True)  # Saves the graph to a file\n",
        "PG2.view()"
      ],
      "metadata": {
        "colab": {
          "base_uri": "https://localhost:8080/",
          "height": 689
        },
        "id": "o3ruiYxvM-Y2",
        "outputId": "69330d79-2f99-4ba4-99b5-813f70f14422"
      },
      "execution_count": 34,
      "outputs": [
        {
          "output_type": "error",
          "ename": "TypeError",
          "evalue": "expected string or bytes-like object",
          "traceback": [
            "\u001b[0;31m---------------------------------------------------------------------------\u001b[0m",
            "\u001b[0;31mTypeError\u001b[0m                                 Traceback (most recent call last)",
            "\u001b[0;32m<ipython-input-34-2e4c029ad076>\u001b[0m in \u001b[0;36m<cell line: 2>\u001b[0;34m()\u001b[0m\n\u001b[1;32m      1\u001b[0m \u001b[0;31m# Render the graph\u001b[0m\u001b[0;34m\u001b[0m\u001b[0;34m\u001b[0m\u001b[0m\n\u001b[0;32m----> 2\u001b[0;31m \u001b[0mPG2\u001b[0m\u001b[0;34m.\u001b[0m\u001b[0mrender\u001b[0m\u001b[0;34m(\u001b[0m\u001b[0;34m'graph'\u001b[0m\u001b[0;34m,\u001b[0m \u001b[0mformat\u001b[0m\u001b[0;34m=\u001b[0m\u001b[0;34m'png'\u001b[0m\u001b[0;34m,\u001b[0m \u001b[0mcleanup\u001b[0m\u001b[0;34m=\u001b[0m\u001b[0;32mTrue\u001b[0m\u001b[0;34m)\u001b[0m  \u001b[0;31m# Saves the graph to a file\u001b[0m\u001b[0;34m\u001b[0m\u001b[0;34m\u001b[0m\u001b[0m\n\u001b[0m\u001b[1;32m      3\u001b[0m \u001b[0mPG2\u001b[0m\u001b[0;34m.\u001b[0m\u001b[0mview\u001b[0m\u001b[0;34m(\u001b[0m\u001b[0;34m)\u001b[0m\u001b[0;34m\u001b[0m\u001b[0;34m\u001b[0m\u001b[0m\n",
            "\u001b[0;32m/usr/local/lib/python3.10/dist-packages/graphviz/_tools.py\u001b[0m in \u001b[0;36mwrapper\u001b[0;34m(*args, **kwargs)\u001b[0m\n\u001b[1;32m    169\u001b[0m                               category=category)\n\u001b[1;32m    170\u001b[0m \u001b[0;34m\u001b[0m\u001b[0m\n\u001b[0;32m--> 171\u001b[0;31m             \u001b[0;32mreturn\u001b[0m \u001b[0mfunc\u001b[0m\u001b[0;34m(\u001b[0m\u001b[0;34m*\u001b[0m\u001b[0margs\u001b[0m\u001b[0;34m,\u001b[0m \u001b[0;34m**\u001b[0m\u001b[0mkwargs\u001b[0m\u001b[0;34m)\u001b[0m\u001b[0;34m\u001b[0m\u001b[0;34m\u001b[0m\u001b[0m\n\u001b[0m\u001b[1;32m    172\u001b[0m \u001b[0;34m\u001b[0m\u001b[0m\n\u001b[1;32m    173\u001b[0m         \u001b[0;32mreturn\u001b[0m \u001b[0mwrapper\u001b[0m\u001b[0;34m\u001b[0m\u001b[0;34m\u001b[0m\u001b[0m\n",
            "\u001b[0;32m/usr/local/lib/python3.10/dist-packages/graphviz/rendering.py\u001b[0m in \u001b[0;36mrender\u001b[0;34m(self, filename, directory, view, cleanup, format, renderer, formatter, neato_no_op, quiet, quiet_view, outfile, engine, raise_if_result_exists, overwrite_source)\u001b[0m\n\u001b[1;32m    116\u001b[0m             \u001b[0mfilename\u001b[0m \u001b[0;34m=\u001b[0m \u001b[0mself\u001b[0m\u001b[0;34m.\u001b[0m\u001b[0m_get_filepath\u001b[0m\u001b[0;34m(\u001b[0m\u001b[0moutfile\u001b[0m\u001b[0;34m)\u001b[0m\u001b[0;34m\u001b[0m\u001b[0;34m\u001b[0m\u001b[0m\n\u001b[1;32m    117\u001b[0m \u001b[0;34m\u001b[0m\u001b[0m\n\u001b[0;32m--> 118\u001b[0;31m         \u001b[0mfilepath\u001b[0m \u001b[0;34m=\u001b[0m \u001b[0mself\u001b[0m\u001b[0;34m.\u001b[0m\u001b[0msave\u001b[0m\u001b[0;34m(\u001b[0m\u001b[0mfilename\u001b[0m\u001b[0;34m,\u001b[0m \u001b[0mdirectory\u001b[0m\u001b[0;34m=\u001b[0m\u001b[0mdirectory\u001b[0m\u001b[0;34m,\u001b[0m \u001b[0mskip_existing\u001b[0m\u001b[0;34m=\u001b[0m\u001b[0;32mNone\u001b[0m\u001b[0;34m)\u001b[0m\u001b[0;34m\u001b[0m\u001b[0;34m\u001b[0m\u001b[0m\n\u001b[0m\u001b[1;32m    119\u001b[0m \u001b[0;34m\u001b[0m\u001b[0m\n\u001b[1;32m    120\u001b[0m         \u001b[0margs\u001b[0m\u001b[0;34m.\u001b[0m\u001b[0mappend\u001b[0m\u001b[0;34m(\u001b[0m\u001b[0mfilepath\u001b[0m\u001b[0;34m)\u001b[0m\u001b[0;34m\u001b[0m\u001b[0;34m\u001b[0m\u001b[0m\n",
            "\u001b[0;32m/usr/local/lib/python3.10/dist-packages/graphviz/_tools.py\u001b[0m in \u001b[0;36mwrapper\u001b[0;34m(*args, **kwargs)\u001b[0m\n\u001b[1;32m    169\u001b[0m                               category=category)\n\u001b[1;32m    170\u001b[0m \u001b[0;34m\u001b[0m\u001b[0m\n\u001b[0;32m--> 171\u001b[0;31m             \u001b[0;32mreturn\u001b[0m \u001b[0mfunc\u001b[0m\u001b[0;34m(\u001b[0m\u001b[0;34m*\u001b[0m\u001b[0margs\u001b[0m\u001b[0;34m,\u001b[0m \u001b[0;34m**\u001b[0m\u001b[0mkwargs\u001b[0m\u001b[0;34m)\u001b[0m\u001b[0;34m\u001b[0m\u001b[0;34m\u001b[0m\u001b[0m\n\u001b[0m\u001b[1;32m    172\u001b[0m \u001b[0;34m\u001b[0m\u001b[0m\n\u001b[1;32m    173\u001b[0m         \u001b[0;32mreturn\u001b[0m \u001b[0mwrapper\u001b[0m\u001b[0;34m\u001b[0m\u001b[0;34m\u001b[0m\u001b[0m\n",
            "\u001b[0;32m/usr/local/lib/python3.10/dist-packages/graphviz/saving.py\u001b[0m in \u001b[0;36msave\u001b[0;34m(self, filename, directory, skip_existing)\u001b[0m\n\u001b[1;32m     78\u001b[0m         \u001b[0mlog\u001b[0m\u001b[0;34m.\u001b[0m\u001b[0mdebug\u001b[0m\u001b[0;34m(\u001b[0m\u001b[0;34m'write lines to %r'\u001b[0m\u001b[0;34m,\u001b[0m \u001b[0mfilepath\u001b[0m\u001b[0;34m)\u001b[0m\u001b[0;34m\u001b[0m\u001b[0;34m\u001b[0m\u001b[0m\n\u001b[1;32m     79\u001b[0m         \u001b[0;32mwith\u001b[0m \u001b[0mopen\u001b[0m\u001b[0;34m(\u001b[0m\u001b[0mfilepath\u001b[0m\u001b[0;34m,\u001b[0m \u001b[0;34m'w'\u001b[0m\u001b[0;34m,\u001b[0m \u001b[0mencoding\u001b[0m\u001b[0;34m=\u001b[0m\u001b[0mself\u001b[0m\u001b[0;34m.\u001b[0m\u001b[0mencoding\u001b[0m\u001b[0;34m)\u001b[0m \u001b[0;32mas\u001b[0m \u001b[0mfd\u001b[0m\u001b[0;34m:\u001b[0m\u001b[0;34m\u001b[0m\u001b[0;34m\u001b[0m\u001b[0m\n\u001b[0;32m---> 80\u001b[0;31m             \u001b[0;32mfor\u001b[0m \u001b[0muline\u001b[0m \u001b[0;32min\u001b[0m \u001b[0mself\u001b[0m\u001b[0;34m:\u001b[0m\u001b[0;34m\u001b[0m\u001b[0;34m\u001b[0m\u001b[0m\n\u001b[0m\u001b[1;32m     81\u001b[0m                 \u001b[0mfd\u001b[0m\u001b[0;34m.\u001b[0m\u001b[0mwrite\u001b[0m\u001b[0;34m(\u001b[0m\u001b[0muline\u001b[0m\u001b[0;34m)\u001b[0m\u001b[0;34m\u001b[0m\u001b[0;34m\u001b[0m\u001b[0m\n\u001b[1;32m     82\u001b[0m \u001b[0;34m\u001b[0m\u001b[0m\n",
            "\u001b[0;32m/usr/local/lib/python3.10/dist-packages/graphviz/dot.py\u001b[0m in \u001b[0;36m__iter__\u001b[0;34m(self, subgraph)\u001b[0m\n\u001b[1;32m    171\u001b[0m         \u001b[0;32melse\u001b[0m\u001b[0;34m:\u001b[0m\u001b[0;34m\u001b[0m\u001b[0;34m\u001b[0m\u001b[0m\n\u001b[1;32m    172\u001b[0m             \u001b[0mhead\u001b[0m \u001b[0;34m=\u001b[0m \u001b[0mself\u001b[0m\u001b[0;34m.\u001b[0m\u001b[0m_head_strict\u001b[0m \u001b[0;32mif\u001b[0m \u001b[0mself\u001b[0m\u001b[0;34m.\u001b[0m\u001b[0mstrict\u001b[0m \u001b[0;32melse\u001b[0m \u001b[0mself\u001b[0m\u001b[0;34m.\u001b[0m\u001b[0m_head\u001b[0m\u001b[0;34m\u001b[0m\u001b[0;34m\u001b[0m\u001b[0m\n\u001b[0;32m--> 173\u001b[0;31m         \u001b[0;32myield\u001b[0m \u001b[0mhead\u001b[0m\u001b[0;34m(\u001b[0m\u001b[0mself\u001b[0m\u001b[0;34m.\u001b[0m\u001b[0m_quote\u001b[0m\u001b[0;34m(\u001b[0m\u001b[0mself\u001b[0m\u001b[0;34m.\u001b[0m\u001b[0mname\u001b[0m\u001b[0;34m)\u001b[0m \u001b[0;34m+\u001b[0m \u001b[0;34m' '\u001b[0m \u001b[0;32mif\u001b[0m \u001b[0mself\u001b[0m\u001b[0;34m.\u001b[0m\u001b[0mname\u001b[0m \u001b[0;32melse\u001b[0m \u001b[0;34m''\u001b[0m\u001b[0;34m)\u001b[0m\u001b[0;34m\u001b[0m\u001b[0;34m\u001b[0m\u001b[0m\n\u001b[0m\u001b[1;32m    174\u001b[0m \u001b[0;34m\u001b[0m\u001b[0m\n\u001b[1;32m    175\u001b[0m         \u001b[0;32mfor\u001b[0m \u001b[0mkw\u001b[0m \u001b[0;32min\u001b[0m \u001b[0;34m(\u001b[0m\u001b[0;34m'graph'\u001b[0m\u001b[0;34m,\u001b[0m \u001b[0;34m'node'\u001b[0m\u001b[0;34m,\u001b[0m \u001b[0;34m'edge'\u001b[0m\u001b[0;34m)\u001b[0m\u001b[0;34m:\u001b[0m\u001b[0;34m\u001b[0m\u001b[0;34m\u001b[0m\u001b[0m\n",
            "\u001b[0;32m/usr/local/lib/python3.10/dist-packages/graphviz/_tools.py\u001b[0m in \u001b[0;36mwrapper\u001b[0;34m(*args, **kwargs)\u001b[0m\n\u001b[1;32m    169\u001b[0m                               category=category)\n\u001b[1;32m    170\u001b[0m \u001b[0;34m\u001b[0m\u001b[0m\n\u001b[0;32m--> 171\u001b[0;31m             \u001b[0;32mreturn\u001b[0m \u001b[0mfunc\u001b[0m\u001b[0;34m(\u001b[0m\u001b[0;34m*\u001b[0m\u001b[0margs\u001b[0m\u001b[0;34m,\u001b[0m \u001b[0;34m**\u001b[0m\u001b[0mkwargs\u001b[0m\u001b[0;34m)\u001b[0m\u001b[0;34m\u001b[0m\u001b[0;34m\u001b[0m\u001b[0m\n\u001b[0m\u001b[1;32m    172\u001b[0m \u001b[0;34m\u001b[0m\u001b[0m\n\u001b[1;32m    173\u001b[0m         \u001b[0;32mreturn\u001b[0m \u001b[0mwrapper\u001b[0m\u001b[0;34m\u001b[0m\u001b[0;34m\u001b[0m\u001b[0m\n",
            "\u001b[0;32m/usr/local/lib/python3.10/dist-packages/graphviz/quoting.py\u001b[0m in \u001b[0;36mquote\u001b[0;34m(identifier, is_html_string, is_valid_id, dot_keywords, endswith_odd_number_of_backslashes, escape_unescaped_quotes)\u001b[0m\n\u001b[1;32m     80\u001b[0m     \u001b[0;34m\"\\\\\\\"\"\u001b[0m\u001b[0;34m\u001b[0m\u001b[0;34m\u001b[0m\u001b[0m\n\u001b[1;32m     81\u001b[0m     \"\"\"\n\u001b[0;32m---> 82\u001b[0;31m     \u001b[0;32mif\u001b[0m \u001b[0mis_html_string\u001b[0m\u001b[0;34m(\u001b[0m\u001b[0midentifier\u001b[0m\u001b[0;34m)\u001b[0m \u001b[0;32mand\u001b[0m \u001b[0;32mnot\u001b[0m \u001b[0misinstance\u001b[0m\u001b[0;34m(\u001b[0m\u001b[0midentifier\u001b[0m\u001b[0;34m,\u001b[0m \u001b[0mNoHtml\u001b[0m\u001b[0;34m)\u001b[0m\u001b[0;34m:\u001b[0m\u001b[0;34m\u001b[0m\u001b[0;34m\u001b[0m\u001b[0m\n\u001b[0m\u001b[1;32m     83\u001b[0m         \u001b[0;32mpass\u001b[0m\u001b[0;34m\u001b[0m\u001b[0;34m\u001b[0m\u001b[0m\n\u001b[1;32m     84\u001b[0m     \u001b[0;32melif\u001b[0m \u001b[0;32mnot\u001b[0m \u001b[0mis_valid_id\u001b[0m\u001b[0;34m(\u001b[0m\u001b[0midentifier\u001b[0m\u001b[0;34m)\u001b[0m \u001b[0;32mor\u001b[0m \u001b[0midentifier\u001b[0m\u001b[0;34m.\u001b[0m\u001b[0mlower\u001b[0m\u001b[0;34m(\u001b[0m\u001b[0;34m)\u001b[0m \u001b[0;32min\u001b[0m \u001b[0mdot_keywords\u001b[0m\u001b[0;34m:\u001b[0m\u001b[0;34m\u001b[0m\u001b[0;34m\u001b[0m\u001b[0m\n",
            "\u001b[0;31mTypeError\u001b[0m: expected string or bytes-like object"
          ]
        }
      ]
    },
    {
      "cell_type": "code",
      "source": [
        "\n",
        "import csv\n",
        "from io import StringIO\n",
        "import pandas as pd\n",
        "\n",
        "# Contenu des données CSV sous forme de chaîne\n",
        "csv_data = \"\"\"source,target,label,style\n",
        "éq. déc.,déc.,3.1.23\n",
        "éq. irr.,irr.,3.1.24\n",
        "éq. comp. réd.,comp. réd.,3.1.25\n",
        "unit.,irr.,3.2.3,dashed\n",
        "éq. unit.,éq. irr.,éq. 3.2.3,dashed\n",
        "unit.,déc.,3.2.3,dashed\n",
        "éq. unit.,éq. déc.,éq. 3.2.3,dashed\n",
        "fini,éq. unit.,3.2.4\n",
        "fini,irr.,3.2.5,dashed\n",
        "fini,déc.,3.2.5,dashed\n",
        "irr.,indéc.,3.2.7 pas la réciproque\n",
        "fini,comp. réd.,3.2.8 Maschke\n",
        "\"$\\\\phi \\\\nsim \\\\rho$\",\"$\\\\frac{\\\\gamma}{x^2}$\",test\n",
        "\"\"\"\n",
        "\n",
        "# Charger les données depuis la chaîne\n",
        "csv_file = StringIO(csv_data)\n",
        "\n",
        "# Lire et afficher les données\n",
        "reader = csv.reader(csv_file)\n",
        "for row in reader:\n",
        "    print(row)\n",
        "\n",
        "# Réinitialiser le pointeur du fichier en mémoire\n",
        "csv_file.seek(0)\n",
        "\n",
        "# Créer un graphe orienté\n",
        "G = nx.DiGraph()\n",
        "\n",
        "# Utiliser DictReader pour lire les colonnes avec des noms\n",
        "reader = csv.DictReader(csv_file)\n",
        "for row in reader:\n",
        "    # Ajouter une arête avec des attributs\n",
        "    G.add_edge(\n",
        "        row[\"source\"],\n",
        "        row[\"target\"],\n",
        "        style=row[\"style\"],\n",
        "        label=row[\"label\"]\n",
        "    )\n",
        "G.add_edge(\"$\\phi \\nsim \\rho$\",\"$\\\\frac{\\\\gamma}{x^2}$\",label=\"test\")\n",
        "# Afficher les arêtes et leurs attributs\n",
        "for u, v, data in G.edges(data=True):\n",
        "    print(f\"Edge from {u} to {v} with attributes {data}\")\n",
        "\n",
        "\n",
        "# Charger les données dans un DataFrame\n",
        "df = pd.read_csv(StringIO(csv_data))\n",
        "\n",
        "# Afficher le DataFrame\n",
        "display(df)\n",
        "\n",
        "# Convertir le graphe en pygraphviz AGraph\n",
        "A = to_agraph(G)\n",
        "\n",
        "# Personnaliser le style\n",
        "A.graph_attr.update(rankdir=\"LR\")  # Orientation de gauche à droite\n",
        "A.node_attr.update(fontsize=\"10\", style=\"filled\")\n",
        "A.edge_attr.update(color=\"black\", arrowsize=\"0.5\")\n",
        "\n",
        "\n",
        "\n",
        "# Rendu et affichage dans Jupyter\n",
        "#A.draw(\"graph.png\", format=\"png\", prog=\"dot\")  # Sauvegarder le graphe en image\n",
        "A.draw(\"graph.svg\", format=\"svg\", prog=\"dot\")  # Sauvegarder le graphe en SVG\n",
        "\n",
        "from IPython.display import SVG\n",
        "#comparer avec pydot\n",
        "#ne pas oublier formulaire/glossaire/produit scalaire\n",
        "# Afficher le SVG dans Jupyter\n",
        "SVG(\"graph.svg\")\n",
        "#display(A)"
      ],
      "metadata": {
        "colab": {
          "base_uri": "https://localhost:8080/",
          "height": 1000
        },
        "id": "8YBUby1SUNu9",
        "outputId": "9ccac23c-d8c9-4b60-d721-5a92fe7f2e21"
      },
      "execution_count": 120,
      "outputs": [
        {
          "output_type": "stream",
          "name": "stdout",
          "text": [
            "['source', 'target', 'label', 'style']\n",
            "['éq. déc.', 'déc.', '3.1.23']\n",
            "['éq. irr.', 'irr.', '3.1.24']\n",
            "['éq. comp. réd.', 'comp. réd.', '3.1.25']\n",
            "['unit.', 'irr.', '3.2.3', 'dashed']\n",
            "['éq. unit.', 'éq. irr.', 'éq. 3.2.3', 'dashed']\n",
            "['unit.', 'déc.', '3.2.3', 'dashed']\n",
            "['éq. unit.', 'éq. déc.', 'éq. 3.2.3', 'dashed']\n",
            "['fini', 'éq. unit.', '3.2.4']\n",
            "['fini', 'irr.', '3.2.5', 'dashed']\n",
            "['fini', 'déc.', '3.2.5', 'dashed']\n",
            "['irr.', 'indéc.', '3.2.7 pas la réciproque']\n",
            "['fini', 'comp. réd.', '3.2.8 Maschke']\n",
            "['$\\\\phi \\\\nsim \\\\rho$', '$\\\\frac{\\\\gamma}{x^2}$', 'test']\n",
            "Edge from éq. déc. to déc. with attributes {'style': None, 'label': '3.1.23'}\n",
            "Edge from éq. irr. to irr. with attributes {'style': None, 'label': '3.1.24'}\n",
            "Edge from irr. to indéc. with attributes {'style': None, 'label': '3.2.7 pas la réciproque'}\n",
            "Edge from éq. comp. réd. to comp. réd. with attributes {'style': None, 'label': '3.1.25'}\n",
            "Edge from unit. to irr. with attributes {'style': 'dashed', 'label': '3.2.3'}\n",
            "Edge from unit. to déc. with attributes {'style': 'dashed', 'label': '3.2.3'}\n",
            "Edge from éq. unit. to éq. irr. with attributes {'style': 'dashed', 'label': 'éq. 3.2.3'}\n",
            "Edge from éq. unit. to éq. déc. with attributes {'style': 'dashed', 'label': 'éq. 3.2.3'}\n",
            "Edge from fini to éq. unit. with attributes {'style': None, 'label': '3.2.4'}\n",
            "Edge from fini to irr. with attributes {'style': 'dashed', 'label': '3.2.5'}\n",
            "Edge from fini to déc. with attributes {'style': 'dashed', 'label': '3.2.5'}\n",
            "Edge from fini to comp. réd. with attributes {'style': None, 'label': '3.2.8 Maschke'}\n",
            "Edge from $\\phi \\nsim \\rho$ to $\\frac{\\gamma}{x^2}$ with attributes {'style': None, 'label': 'test'}\n",
            "Edge from $\\phi \n",
            "sim \rho$ to $\\frac{\\gamma}{x^2}$ with attributes {'label': 'test'}\n"
          ]
        },
        {
          "output_type": "display_data",
          "data": {
            "text/plain": [
              "               source                target                    label   style\n",
              "0            éq. déc.                  déc.                   3.1.23     NaN\n",
              "1            éq. irr.                  irr.                   3.1.24     NaN\n",
              "2      éq. comp. réd.            comp. réd.                   3.1.25     NaN\n",
              "3               unit.                  irr.                    3.2.3  dashed\n",
              "4           éq. unit.              éq. irr.                éq. 3.2.3  dashed\n",
              "5               unit.                  déc.                    3.2.3  dashed\n",
              "6           éq. unit.              éq. déc.                éq. 3.2.3  dashed\n",
              "7                fini             éq. unit.                    3.2.4     NaN\n",
              "8                fini                  irr.                    3.2.5  dashed\n",
              "9                fini                  déc.                    3.2.5  dashed\n",
              "10               irr.                indéc.  3.2.7 pas la réciproque     NaN\n",
              "11               fini            comp. réd.            3.2.8 Maschke     NaN\n",
              "12  $\\phi \\nsim \\rho$  $\\frac{\\gamma}{x^2}$                     test     NaN"
            ],
            "text/html": [
              "\n",
              "  <div id=\"df-9e5cf973-bbb3-44ea-8744-d5cf05d3dbbb\" class=\"colab-df-container\">\n",
              "    <div>\n",
              "<style scoped>\n",
              "    .dataframe tbody tr th:only-of-type {\n",
              "        vertical-align: middle;\n",
              "    }\n",
              "\n",
              "    .dataframe tbody tr th {\n",
              "        vertical-align: top;\n",
              "    }\n",
              "\n",
              "    .dataframe thead th {\n",
              "        text-align: right;\n",
              "    }\n",
              "</style>\n",
              "<table border=\"1\" class=\"dataframe\">\n",
              "  <thead>\n",
              "    <tr style=\"text-align: right;\">\n",
              "      <th></th>\n",
              "      <th>source</th>\n",
              "      <th>target</th>\n",
              "      <th>label</th>\n",
              "      <th>style</th>\n",
              "    </tr>\n",
              "  </thead>\n",
              "  <tbody>\n",
              "    <tr>\n",
              "      <th>0</th>\n",
              "      <td>éq. déc.</td>\n",
              "      <td>déc.</td>\n",
              "      <td>3.1.23</td>\n",
              "      <td>NaN</td>\n",
              "    </tr>\n",
              "    <tr>\n",
              "      <th>1</th>\n",
              "      <td>éq. irr.</td>\n",
              "      <td>irr.</td>\n",
              "      <td>3.1.24</td>\n",
              "      <td>NaN</td>\n",
              "    </tr>\n",
              "    <tr>\n",
              "      <th>2</th>\n",
              "      <td>éq. comp. réd.</td>\n",
              "      <td>comp. réd.</td>\n",
              "      <td>3.1.25</td>\n",
              "      <td>NaN</td>\n",
              "    </tr>\n",
              "    <tr>\n",
              "      <th>3</th>\n",
              "      <td>unit.</td>\n",
              "      <td>irr.</td>\n",
              "      <td>3.2.3</td>\n",
              "      <td>dashed</td>\n",
              "    </tr>\n",
              "    <tr>\n",
              "      <th>4</th>\n",
              "      <td>éq. unit.</td>\n",
              "      <td>éq. irr.</td>\n",
              "      <td>éq. 3.2.3</td>\n",
              "      <td>dashed</td>\n",
              "    </tr>\n",
              "    <tr>\n",
              "      <th>5</th>\n",
              "      <td>unit.</td>\n",
              "      <td>déc.</td>\n",
              "      <td>3.2.3</td>\n",
              "      <td>dashed</td>\n",
              "    </tr>\n",
              "    <tr>\n",
              "      <th>6</th>\n",
              "      <td>éq. unit.</td>\n",
              "      <td>éq. déc.</td>\n",
              "      <td>éq. 3.2.3</td>\n",
              "      <td>dashed</td>\n",
              "    </tr>\n",
              "    <tr>\n",
              "      <th>7</th>\n",
              "      <td>fini</td>\n",
              "      <td>éq. unit.</td>\n",
              "      <td>3.2.4</td>\n",
              "      <td>NaN</td>\n",
              "    </tr>\n",
              "    <tr>\n",
              "      <th>8</th>\n",
              "      <td>fini</td>\n",
              "      <td>irr.</td>\n",
              "      <td>3.2.5</td>\n",
              "      <td>dashed</td>\n",
              "    </tr>\n",
              "    <tr>\n",
              "      <th>9</th>\n",
              "      <td>fini</td>\n",
              "      <td>déc.</td>\n",
              "      <td>3.2.5</td>\n",
              "      <td>dashed</td>\n",
              "    </tr>\n",
              "    <tr>\n",
              "      <th>10</th>\n",
              "      <td>irr.</td>\n",
              "      <td>indéc.</td>\n",
              "      <td>3.2.7 pas la réciproque</td>\n",
              "      <td>NaN</td>\n",
              "    </tr>\n",
              "    <tr>\n",
              "      <th>11</th>\n",
              "      <td>fini</td>\n",
              "      <td>comp. réd.</td>\n",
              "      <td>3.2.8 Maschke</td>\n",
              "      <td>NaN</td>\n",
              "    </tr>\n",
              "    <tr>\n",
              "      <th>12</th>\n",
              "      <td>$\\phi \\nsim \\rho$</td>\n",
              "      <td>$\\frac{\\gamma}{x^2}$</td>\n",
              "      <td>test</td>\n",
              "      <td>NaN</td>\n",
              "    </tr>\n",
              "  </tbody>\n",
              "</table>\n",
              "</div>\n",
              "    <div class=\"colab-df-buttons\">\n",
              "\n",
              "  <div class=\"colab-df-container\">\n",
              "    <button class=\"colab-df-convert\" onclick=\"convertToInteractive('df-9e5cf973-bbb3-44ea-8744-d5cf05d3dbbb')\"\n",
              "            title=\"Convert this dataframe to an interactive table.\"\n",
              "            style=\"display:none;\">\n",
              "\n",
              "  <svg xmlns=\"http://www.w3.org/2000/svg\" height=\"24px\" viewBox=\"0 -960 960 960\">\n",
              "    <path d=\"M120-120v-720h720v720H120Zm60-500h600v-160H180v160Zm220 220h160v-160H400v160Zm0 220h160v-160H400v160ZM180-400h160v-160H180v160Zm440 0h160v-160H620v160ZM180-180h160v-160H180v160Zm440 0h160v-160H620v160Z\"/>\n",
              "  </svg>\n",
              "    </button>\n",
              "\n",
              "  <style>\n",
              "    .colab-df-container {\n",
              "      display:flex;\n",
              "      gap: 12px;\n",
              "    }\n",
              "\n",
              "    .colab-df-convert {\n",
              "      background-color: #E8F0FE;\n",
              "      border: none;\n",
              "      border-radius: 50%;\n",
              "      cursor: pointer;\n",
              "      display: none;\n",
              "      fill: #1967D2;\n",
              "      height: 32px;\n",
              "      padding: 0 0 0 0;\n",
              "      width: 32px;\n",
              "    }\n",
              "\n",
              "    .colab-df-convert:hover {\n",
              "      background-color: #E2EBFA;\n",
              "      box-shadow: 0px 1px 2px rgba(60, 64, 67, 0.3), 0px 1px 3px 1px rgba(60, 64, 67, 0.15);\n",
              "      fill: #174EA6;\n",
              "    }\n",
              "\n",
              "    .colab-df-buttons div {\n",
              "      margin-bottom: 4px;\n",
              "    }\n",
              "\n",
              "    [theme=dark] .colab-df-convert {\n",
              "      background-color: #3B4455;\n",
              "      fill: #D2E3FC;\n",
              "    }\n",
              "\n",
              "    [theme=dark] .colab-df-convert:hover {\n",
              "      background-color: #434B5C;\n",
              "      box-shadow: 0px 1px 3px 1px rgba(0, 0, 0, 0.15);\n",
              "      filter: drop-shadow(0px 1px 2px rgba(0, 0, 0, 0.3));\n",
              "      fill: #FFFFFF;\n",
              "    }\n",
              "  </style>\n",
              "\n",
              "    <script>\n",
              "      const buttonEl =\n",
              "        document.querySelector('#df-9e5cf973-bbb3-44ea-8744-d5cf05d3dbbb button.colab-df-convert');\n",
              "      buttonEl.style.display =\n",
              "        google.colab.kernel.accessAllowed ? 'block' : 'none';\n",
              "\n",
              "      async function convertToInteractive(key) {\n",
              "        const element = document.querySelector('#df-9e5cf973-bbb3-44ea-8744-d5cf05d3dbbb');\n",
              "        const dataTable =\n",
              "          await google.colab.kernel.invokeFunction('convertToInteractive',\n",
              "                                                    [key], {});\n",
              "        if (!dataTable) return;\n",
              "\n",
              "        const docLinkHtml = 'Like what you see? Visit the ' +\n",
              "          '<a target=\"_blank\" href=https://colab.research.google.com/notebooks/data_table.ipynb>data table notebook</a>'\n",
              "          + ' to learn more about interactive tables.';\n",
              "        element.innerHTML = '';\n",
              "        dataTable['output_type'] = 'display_data';\n",
              "        await google.colab.output.renderOutput(dataTable, element);\n",
              "        const docLink = document.createElement('div');\n",
              "        docLink.innerHTML = docLinkHtml;\n",
              "        element.appendChild(docLink);\n",
              "      }\n",
              "    </script>\n",
              "  </div>\n",
              "\n",
              "\n",
              "<div id=\"df-de06d96f-6b12-42e0-90c4-1ef458063ac6\">\n",
              "  <button class=\"colab-df-quickchart\" onclick=\"quickchart('df-de06d96f-6b12-42e0-90c4-1ef458063ac6')\"\n",
              "            title=\"Suggest charts\"\n",
              "            style=\"display:none;\">\n",
              "\n",
              "<svg xmlns=\"http://www.w3.org/2000/svg\" height=\"24px\"viewBox=\"0 0 24 24\"\n",
              "     width=\"24px\">\n",
              "    <g>\n",
              "        <path d=\"M19 3H5c-1.1 0-2 .9-2 2v14c0 1.1.9 2 2 2h14c1.1 0 2-.9 2-2V5c0-1.1-.9-2-2-2zM9 17H7v-7h2v7zm4 0h-2V7h2v10zm4 0h-2v-4h2v4z\"/>\n",
              "    </g>\n",
              "</svg>\n",
              "  </button>\n",
              "\n",
              "<style>\n",
              "  .colab-df-quickchart {\n",
              "      --bg-color: #E8F0FE;\n",
              "      --fill-color: #1967D2;\n",
              "      --hover-bg-color: #E2EBFA;\n",
              "      --hover-fill-color: #174EA6;\n",
              "      --disabled-fill-color: #AAA;\n",
              "      --disabled-bg-color: #DDD;\n",
              "  }\n",
              "\n",
              "  [theme=dark] .colab-df-quickchart {\n",
              "      --bg-color: #3B4455;\n",
              "      --fill-color: #D2E3FC;\n",
              "      --hover-bg-color: #434B5C;\n",
              "      --hover-fill-color: #FFFFFF;\n",
              "      --disabled-bg-color: #3B4455;\n",
              "      --disabled-fill-color: #666;\n",
              "  }\n",
              "\n",
              "  .colab-df-quickchart {\n",
              "    background-color: var(--bg-color);\n",
              "    border: none;\n",
              "    border-radius: 50%;\n",
              "    cursor: pointer;\n",
              "    display: none;\n",
              "    fill: var(--fill-color);\n",
              "    height: 32px;\n",
              "    padding: 0;\n",
              "    width: 32px;\n",
              "  }\n",
              "\n",
              "  .colab-df-quickchart:hover {\n",
              "    background-color: var(--hover-bg-color);\n",
              "    box-shadow: 0 1px 2px rgba(60, 64, 67, 0.3), 0 1px 3px 1px rgba(60, 64, 67, 0.15);\n",
              "    fill: var(--button-hover-fill-color);\n",
              "  }\n",
              "\n",
              "  .colab-df-quickchart-complete:disabled,\n",
              "  .colab-df-quickchart-complete:disabled:hover {\n",
              "    background-color: var(--disabled-bg-color);\n",
              "    fill: var(--disabled-fill-color);\n",
              "    box-shadow: none;\n",
              "  }\n",
              "\n",
              "  .colab-df-spinner {\n",
              "    border: 2px solid var(--fill-color);\n",
              "    border-color: transparent;\n",
              "    border-bottom-color: var(--fill-color);\n",
              "    animation:\n",
              "      spin 1s steps(1) infinite;\n",
              "  }\n",
              "\n",
              "  @keyframes spin {\n",
              "    0% {\n",
              "      border-color: transparent;\n",
              "      border-bottom-color: var(--fill-color);\n",
              "      border-left-color: var(--fill-color);\n",
              "    }\n",
              "    20% {\n",
              "      border-color: transparent;\n",
              "      border-left-color: var(--fill-color);\n",
              "      border-top-color: var(--fill-color);\n",
              "    }\n",
              "    30% {\n",
              "      border-color: transparent;\n",
              "      border-left-color: var(--fill-color);\n",
              "      border-top-color: var(--fill-color);\n",
              "      border-right-color: var(--fill-color);\n",
              "    }\n",
              "    40% {\n",
              "      border-color: transparent;\n",
              "      border-right-color: var(--fill-color);\n",
              "      border-top-color: var(--fill-color);\n",
              "    }\n",
              "    60% {\n",
              "      border-color: transparent;\n",
              "      border-right-color: var(--fill-color);\n",
              "    }\n",
              "    80% {\n",
              "      border-color: transparent;\n",
              "      border-right-color: var(--fill-color);\n",
              "      border-bottom-color: var(--fill-color);\n",
              "    }\n",
              "    90% {\n",
              "      border-color: transparent;\n",
              "      border-bottom-color: var(--fill-color);\n",
              "    }\n",
              "  }\n",
              "</style>\n",
              "\n",
              "  <script>\n",
              "    async function quickchart(key) {\n",
              "      const quickchartButtonEl =\n",
              "        document.querySelector('#' + key + ' button');\n",
              "      quickchartButtonEl.disabled = true;  // To prevent multiple clicks.\n",
              "      quickchartButtonEl.classList.add('colab-df-spinner');\n",
              "      try {\n",
              "        const charts = await google.colab.kernel.invokeFunction(\n",
              "            'suggestCharts', [key], {});\n",
              "      } catch (error) {\n",
              "        console.error('Error during call to suggestCharts:', error);\n",
              "      }\n",
              "      quickchartButtonEl.classList.remove('colab-df-spinner');\n",
              "      quickchartButtonEl.classList.add('colab-df-quickchart-complete');\n",
              "    }\n",
              "    (() => {\n",
              "      let quickchartButtonEl =\n",
              "        document.querySelector('#df-de06d96f-6b12-42e0-90c4-1ef458063ac6 button');\n",
              "      quickchartButtonEl.style.display =\n",
              "        google.colab.kernel.accessAllowed ? 'block' : 'none';\n",
              "    })();\n",
              "  </script>\n",
              "</div>\n",
              "\n",
              "  <div id=\"id_14dede0d-df41-475a-9979-c53e3d3abc17\">\n",
              "    <style>\n",
              "      .colab-df-generate {\n",
              "        background-color: #E8F0FE;\n",
              "        border: none;\n",
              "        border-radius: 50%;\n",
              "        cursor: pointer;\n",
              "        display: none;\n",
              "        fill: #1967D2;\n",
              "        height: 32px;\n",
              "        padding: 0 0 0 0;\n",
              "        width: 32px;\n",
              "      }\n",
              "\n",
              "      .colab-df-generate:hover {\n",
              "        background-color: #E2EBFA;\n",
              "        box-shadow: 0px 1px 2px rgba(60, 64, 67, 0.3), 0px 1px 3px 1px rgba(60, 64, 67, 0.15);\n",
              "        fill: #174EA6;\n",
              "      }\n",
              "\n",
              "      [theme=dark] .colab-df-generate {\n",
              "        background-color: #3B4455;\n",
              "        fill: #D2E3FC;\n",
              "      }\n",
              "\n",
              "      [theme=dark] .colab-df-generate:hover {\n",
              "        background-color: #434B5C;\n",
              "        box-shadow: 0px 1px 3px 1px rgba(0, 0, 0, 0.15);\n",
              "        filter: drop-shadow(0px 1px 2px rgba(0, 0, 0, 0.3));\n",
              "        fill: #FFFFFF;\n",
              "      }\n",
              "    </style>\n",
              "    <button class=\"colab-df-generate\" onclick=\"generateWithVariable('df')\"\n",
              "            title=\"Generate code using this dataframe.\"\n",
              "            style=\"display:none;\">\n",
              "\n",
              "  <svg xmlns=\"http://www.w3.org/2000/svg\" height=\"24px\"viewBox=\"0 0 24 24\"\n",
              "       width=\"24px\">\n",
              "    <path d=\"M7,19H8.4L18.45,9,17,7.55,7,17.6ZM5,21V16.75L18.45,3.32a2,2,0,0,1,2.83,0l1.4,1.43a1.91,1.91,0,0,1,.58,1.4,1.91,1.91,0,0,1-.58,1.4L9.25,21ZM18.45,9,17,7.55Zm-12,3A5.31,5.31,0,0,0,4.9,8.1,5.31,5.31,0,0,0,1,6.5,5.31,5.31,0,0,0,4.9,4.9,5.31,5.31,0,0,0,6.5,1,5.31,5.31,0,0,0,8.1,4.9,5.31,5.31,0,0,0,12,6.5,5.46,5.46,0,0,0,6.5,12Z\"/>\n",
              "  </svg>\n",
              "    </button>\n",
              "    <script>\n",
              "      (() => {\n",
              "      const buttonEl =\n",
              "        document.querySelector('#id_14dede0d-df41-475a-9979-c53e3d3abc17 button.colab-df-generate');\n",
              "      buttonEl.style.display =\n",
              "        google.colab.kernel.accessAllowed ? 'block' : 'none';\n",
              "\n",
              "      buttonEl.onclick = () => {\n",
              "        google.colab.notebook.generateWithVariable('df');\n",
              "      }\n",
              "      })();\n",
              "    </script>\n",
              "  </div>\n",
              "\n",
              "    </div>\n",
              "  </div>\n"
            ],
            "application/vnd.google.colaboratory.intrinsic+json": {
              "type": "dataframe",
              "variable_name": "df",
              "summary": "{\n  \"name\": \"df\",\n  \"rows\": 13,\n  \"fields\": [\n    {\n      \"column\": \"source\",\n      \"properties\": {\n        \"dtype\": \"string\",\n        \"num_unique_values\": 8,\n        \"samples\": [\n          \"\\u00e9q. irr.\",\n          \"fini\",\n          \"\\u00e9q. d\\u00e9c.\"\n        ],\n        \"semantic_type\": \"\",\n        \"description\": \"\"\n      }\n    },\n    {\n      \"column\": \"target\",\n      \"properties\": {\n        \"dtype\": \"string\",\n        \"num_unique_values\": 8,\n        \"samples\": [\n          \"irr.\",\n          \"\\u00e9q. unit.\",\n          \"d\\u00e9c.\"\n        ],\n        \"semantic_type\": \"\",\n        \"description\": \"\"\n      }\n    },\n    {\n      \"column\": \"label\",\n      \"properties\": {\n        \"dtype\": \"string\",\n        \"num_unique_values\": 10,\n        \"samples\": [\n          \"3.2.8 Maschke\",\n          \"3.1.24\",\n          \"3.2.4\"\n        ],\n        \"semantic_type\": \"\",\n        \"description\": \"\"\n      }\n    },\n    {\n      \"column\": \"style\",\n      \"properties\": {\n        \"dtype\": \"category\",\n        \"num_unique_values\": 1,\n        \"samples\": [\n          \"dashed\"\n        ],\n        \"semantic_type\": \"\",\n        \"description\": \"\"\n      }\n    }\n  ]\n}"
            }
          },
          "metadata": {}
        },
        {
          "output_type": "stream",
          "name": "stderr",
          "text": [
            "/usr/local/lib/python3.10/dist-packages/pygraphviz/agraph.py:1403: RuntimeWarning: Warning: gvrender_set_style: unsupported style None - ignoring\n",
            "Warning: gvrender_set_style: unsupported style None - ignoring\n",
            "Warning: gvrender_set_style: unsupported style None - ignoring\n",
            "Warning: gvrender_set_style: unsupported style None - ignoring\n",
            "Warning: gvrender_set_style: unsupported style None - ignoring\n",
            "Warning: gvrender_set_style: unsupported style None - ignoring\n",
            "Warning: gvrender_set_style: unsupported style None - ignoring\n",
            "\n",
            "  warnings.warn(b\"\".join(errors).decode(self.encoding), RuntimeWarning)\n"
          ]
        },
        {
          "output_type": "execute_result",
          "data": {
            "text/plain": [
              "<IPython.core.display.SVG object>"
            ],
            "image/svg+xml": "<svg xmlns=\"http://www.w3.org/2000/svg\" xmlns:xlink=\"http://www.w3.org/1999/xlink\" width=\"815pt\" height=\"444pt\" viewBox=\"0.00 0.00 814.72 443.99\">\n<g id=\"graph0\" class=\"graph\" transform=\"scale(1 1) rotate(0) translate(4 439.99)\">\n<polygon fill=\"white\" stroke=\"transparent\" points=\"-4,4 -4,-439.99 810.72,-439.99 810.72,4 -4,4\"/>\n<!-- éq. déc. -->\n<g id=\"node1\" class=\"node\">\n<title>éq. déc.</title>\n<ellipse fill=\"lightgrey\" stroke=\"black\" cx=\"439.05\" cy=\"-132\" rx=\"27.84\" ry=\"18\"/>\n<text text-anchor=\"middle\" x=\"439.05\" y=\"-129.5\" font-family=\"Times,serif\" font-size=\"10.00\">éq. déc.</text>\n</g>\n<!-- déc. -->\n<g id=\"node2\" class=\"node\">\n<title>déc.</title>\n<ellipse fill=\"lightgrey\" stroke=\"black\" cx=\"564.72\" cy=\"-129\" rx=\"27\" ry=\"18\"/>\n<text text-anchor=\"middle\" x=\"564.72\" y=\"-126.5\" font-family=\"Times,serif\" font-size=\"10.00\">déc.</text>\n</g>\n<!-- éq. déc.&#45;&gt;déc. -->\n<g id=\"edge1\" class=\"edge\">\n<title>éq. déc.-&gt;déc.</title>\n<path fill=\"none\" stroke=\"black\" d=\"M466.98,-130.65C472.82,-130.4 478.98,-130.16 484.72,-130 500.35,-129.55 517.73,-129.3 532.19,-129.17\"/>\n<polygon fill=\"black\" stroke=\"black\" points=\"532.4,-130.92 537.38,-129.12 532.37,-127.42 532.4,-130.92\"/>\n<text text-anchor=\"middle\" x=\"502.22\" y=\"-133.8\" font-family=\"Times,serif\" font-size=\"14.00\">3.1.23</text>\n</g>\n<!-- éq. irr. -->\n<g id=\"node3\" class=\"node\">\n<title>éq. irr.</title>\n<ellipse fill=\"lightgrey\" stroke=\"black\" cx=\"439.05\" cy=\"-240\" rx=\"27\" ry=\"18\"/>\n<text text-anchor=\"middle\" x=\"439.05\" y=\"-237.5\" font-family=\"Times,serif\" font-size=\"10.00\">éq. irr.</text>\n</g>\n<!-- irr. -->\n<g id=\"node4\" class=\"node\">\n<title>irr.</title>\n<ellipse fill=\"lightgrey\" stroke=\"black\" cx=\"564.72\" cy=\"-243\" rx=\"27\" ry=\"18\"/>\n<text text-anchor=\"middle\" x=\"564.72\" y=\"-240.5\" font-family=\"Times,serif\" font-size=\"10.00\">irr.</text>\n</g>\n<!-- éq. irr.&#45;&gt;irr. -->\n<g id=\"edge2\" class=\"edge\">\n<title>éq. irr.-&gt;irr.</title>\n<path fill=\"none\" stroke=\"black\" d=\"M466.28,-240.64C485.63,-241.11 512.03,-241.75 532.47,-242.24\"/>\n<polygon fill=\"black\" stroke=\"black\" points=\"532.49,-243.99 537.53,-242.36 532.58,-240.49 532.49,-243.99\"/>\n<text text-anchor=\"middle\" x=\"502.22\" y=\"-245.8\" font-family=\"Times,serif\" font-size=\"14.00\">3.1.24</text>\n</g>\n<!-- indéc. -->\n<g id=\"node5\" class=\"node\">\n<title>indéc.</title>\n<ellipse fill=\"lightgrey\" stroke=\"black\" cx=\"779.72\" cy=\"-243\" rx=\"27\" ry=\"18\"/>\n<text text-anchor=\"middle\" x=\"779.72\" y=\"-240.5\" font-family=\"Times,serif\" font-size=\"10.00\">indéc.</text>\n</g>\n<!-- irr.&#45;&gt;indéc. -->\n<g id=\"edge3\" class=\"edge\">\n<title>irr.-&gt;indéc.</title>\n<path fill=\"none\" stroke=\"black\" d=\"M591.84,-243C631.04,-243 704.99,-243 747.16,-243\"/>\n<polygon fill=\"black\" stroke=\"black\" points=\"747.39,-244.75 752.39,-243 747.39,-241.25 747.39,-244.75\"/>\n<text text-anchor=\"middle\" x=\"672.22\" y=\"-246.8\" font-family=\"Times,serif\" font-size=\"14.00\">3.2.7 pas la réciproque</text>\n</g>\n<!-- éq. comp. réd. -->\n<g id=\"node6\" class=\"node\">\n<title>éq. comp. réd.</title>\n<ellipse fill=\"lightgrey\" stroke=\"black\" cx=\"42.97\" cy=\"-18\" rx=\"42.94\" ry=\"18\"/>\n<text text-anchor=\"middle\" x=\"42.97\" y=\"-15.5\" font-family=\"Times,serif\" font-size=\"10.00\">éq. comp. réd.</text>\n</g>\n<!-- comp. réd. -->\n<g id=\"node7\" class=\"node\">\n<title>comp. réd.</title>\n<ellipse fill=\"lightgrey\" stroke=\"black\" cx=\"265.17\" cy=\"-29\" rx=\"34.96\" ry=\"18\"/>\n<text text-anchor=\"middle\" x=\"265.17\" y=\"-26.5\" font-family=\"Times,serif\" font-size=\"10.00\">comp. réd.</text>\n</g>\n<!-- éq. comp. réd.&#45;&gt;comp. réd. -->\n<g id=\"edge4\" class=\"edge\">\n<title>éq. comp. réd.-&gt;comp. réd.</title>\n<path fill=\"none\" stroke=\"black\" d=\"M85.95,-16.98C114.24,-16.61 152.38,-16.74 185.94,-19 199.21,-19.89 213.67,-21.55 226.5,-23.26\"/>\n<polygon fill=\"black\" stroke=\"black\" points=\"226.33,-25 231.52,-23.94 226.8,-21.53 226.33,-25\"/>\n<text text-anchor=\"middle\" x=\"144.94\" y=\"-22.8\" font-family=\"Times,serif\" font-size=\"14.00\">3.1.25</text>\n</g>\n<!-- unit. -->\n<g id=\"node8\" class=\"node\">\n<title>unit.</title>\n<ellipse fill=\"lightgrey\" stroke=\"black\" cx=\"439.05\" cy=\"-186\" rx=\"27\" ry=\"18\"/>\n<text text-anchor=\"middle\" x=\"439.05\" y=\"-183.5\" font-family=\"Times,serif\" font-size=\"10.00\">unit.</text>\n</g>\n<!-- unit.&#45;&gt;déc. -->\n<g id=\"edge5\" class=\"edge\">\n<title>unit.-&gt;déc.</title>\n<path fill=\"none\" stroke=\"black\" stroke-dasharray=\"5,2\" d=\"M461.6,-176.07C482.66,-166.36 514.77,-151.56 537.35,-141.16\"/>\n<polygon fill=\"black\" stroke=\"black\" points=\"538.2,-142.69 542.01,-139.01 536.74,-139.51 538.2,-142.69\"/>\n<text text-anchor=\"middle\" x=\"502.22\" y=\"-168.8\" font-family=\"Times,serif\" font-size=\"14.00\">3.2.3</text>\n</g>\n<!-- unit.&#45;&gt;irr. -->\n<g id=\"edge6\" class=\"edge\">\n<title>unit.-&gt;irr.</title>\n<path fill=\"none\" stroke=\"black\" stroke-dasharray=\"5,2\" d=\"M461.6,-195.93C482.66,-205.64 514.77,-220.44 537.35,-230.84\"/>\n<polygon fill=\"black\" stroke=\"black\" points=\"536.74,-232.49 542.01,-232.99 538.2,-229.31 536.74,-232.49\"/>\n<text text-anchor=\"middle\" x=\"502.22\" y=\"-225.8\" font-family=\"Times,serif\" font-size=\"14.00\">3.2.3</text>\n</g>\n<!-- éq. unit. -->\n<g id=\"node9\" class=\"node\">\n<title>éq. unit.</title>\n<ellipse fill=\"lightgrey\" stroke=\"black\" cx=\"265.17\" cy=\"-132\" rx=\"29.37\" ry=\"18\"/>\n<text text-anchor=\"middle\" x=\"265.17\" y=\"-129.5\" font-family=\"Times,serif\" font-size=\"10.00\">éq. unit.</text>\n</g>\n<!-- éq. unit.&#45;&gt;éq. déc. -->\n<g id=\"edge7\" class=\"edge\">\n<title>éq. unit.-&gt;éq. déc.</title>\n<path fill=\"none\" stroke=\"black\" stroke-dasharray=\"5,2\" d=\"M294.94,-132C325.56,-132 373.92,-132 405.81,-132\"/>\n<polygon fill=\"black\" stroke=\"black\" points=\"406.17,-133.75 411.17,-132 406.17,-130.25 406.17,-133.75\"/>\n<text text-anchor=\"middle\" x=\"368.89\" y=\"-135.8\" font-family=\"Times,serif\" font-size=\"14.00\">éq. 3.2.3</text>\n</g>\n<!-- éq. unit.&#45;&gt;éq. irr. -->\n<g id=\"edge8\" class=\"edge\">\n<title>éq. unit.-&gt;éq. irr.</title>\n<path fill=\"none\" stroke=\"black\" stroke-dasharray=\"5,2\" d=\"M286.22,-144.6C318.17,-164.68 380.49,-203.83 414.51,-225.21\"/>\n<polygon fill=\"black\" stroke=\"black\" points=\"413.75,-226.8 418.92,-227.98 415.61,-223.83 413.75,-226.8\"/>\n<text text-anchor=\"middle\" x=\"368.89\" y=\"-215.8\" font-family=\"Times,serif\" font-size=\"14.00\">éq. 3.2.3</text>\n</g>\n<!-- fini -->\n<g id=\"node10\" class=\"node\">\n<title>fini</title>\n<ellipse fill=\"lightgrey\" stroke=\"black\" cx=\"42.97\" cy=\"-105\" rx=\"27\" ry=\"18\"/>\n<text text-anchor=\"middle\" x=\"42.97\" y=\"-102.5\" font-family=\"Times,serif\" font-size=\"10.00\">fini</text>\n</g>\n<!-- fini&#45;&gt;déc. -->\n<g id=\"edge9\" class=\"edge\">\n<title>fini-&gt;déc.</title>\n<path fill=\"none\" stroke=\"black\" stroke-dasharray=\"5,2\" d=\"M69.84,-102.83C136.13,-97.75 317.37,-86.8 466.72,-105 490.02,-107.84 515.78,-114.38 534.9,-119.92\"/>\n<polygon fill=\"black\" stroke=\"black\" points=\"534.81,-121.72 540.1,-121.45 535.8,-118.36 534.81,-121.72\"/>\n<text text-anchor=\"middle\" x=\"368.89\" y=\"-102.8\" font-family=\"Times,serif\" font-size=\"14.00\">3.2.5</text>\n</g>\n<!-- fini&#45;&gt;irr. -->\n<g id=\"edge10\" class=\"edge\">\n<title>fini-&gt;irr.</title>\n<path fill=\"none\" stroke=\"black\" stroke-dasharray=\"5,2\" d=\"M63.26,-117.23C116.22,-149.98 269.46,-239.05 411.39,-267 458.7,-276.32 473,-272.95 519.72,-261 525.59,-259.5 531.72,-257.38 537.46,-255.11\"/>\n<polygon fill=\"black\" stroke=\"black\" points=\"538.22,-256.7 542.19,-253.19 536.9,-253.45 538.22,-256.7\"/>\n<text text-anchor=\"middle\" x=\"368.89\" y=\"-265.8\" font-family=\"Times,serif\" font-size=\"14.00\">3.2.5</text>\n</g>\n<!-- fini&#45;&gt;comp. réd. -->\n<g id=\"edge11\" class=\"edge\">\n<title>fini-&gt;comp. réd.</title>\n<path fill=\"none\" stroke=\"black\" d=\"M58.31,-90.01C69.65,-79.1 86.44,-64.9 103.94,-57 142.79,-39.47 191.52,-32.88 224.98,-30.42\"/>\n<polygon fill=\"black\" stroke=\"black\" points=\"225.35,-32.15 230.21,-30.06 225.11,-28.66 225.35,-32.15\"/>\n<text text-anchor=\"middle\" x=\"144.94\" y=\"-60.8\" font-family=\"Times,serif\" font-size=\"14.00\">3.2.8 Maschke</text>\n</g>\n<!-- fini&#45;&gt;éq. unit. -->\n<g id=\"edge12\" class=\"edge\">\n<title>fini-&gt;éq. unit.</title>\n<path fill=\"none\" stroke=\"black\" d=\"M69.66,-108.15C109.67,-113.06 186.84,-122.52 231,-127.93\"/>\n<polygon fill=\"black\" stroke=\"black\" points=\"231.04,-129.7 236.22,-128.57 231.47,-126.23 231.04,-129.7\"/>\n<text text-anchor=\"middle\" x=\"144.94\" y=\"-125.8\" font-family=\"Times,serif\" font-size=\"14.00\">3.2.4</text>\n</g>\n<!-- $\\phi \\nsim \\rho$ -->\n<g id=\"node11\" class=\"node\">\n<title>$\\phi \\nsim \\rho$</title>\n<ellipse fill=\"lightgrey\" stroke=\"black\" cx=\"42.97\" cy=\"-407\" rx=\"27\" ry=\"28.98\"/>\n<text text-anchor=\"middle\" x=\"42.97\" y=\"-415.5\" font-family=\"Times,serif\" font-size=\"10.00\">$phi </text>\n<text text-anchor=\"end\" x=\"54.06\" y=\"-404.5\" font-family=\"Times,serif\" font-size=\"10.00\">sim </text>\n<text text-anchor=\"middle\" x=\"42.97\" y=\"-393.5\" font-family=\"Times,serif\" font-size=\"10.00\">ho$</text>\n</g>\n<!-- $\\frac{\\gamma}{x^2}$ -->\n<g id=\"node12\" class=\"node\">\n<title>$\\frac{\\gamma}{x^2}$</title>\n<ellipse fill=\"lightgrey\" stroke=\"black\" cx=\"265.17\" cy=\"-359\" rx=\"61.44\" ry=\"18\"/>\n<text text-anchor=\"middle\" x=\"265.17\" y=\"-356.5\" font-family=\"Times,serif\" font-size=\"10.00\">$frac{gamma}{x^2}$</text>\n</g>\n<!-- $\\phi \\nsim \\rho$&#45;&gt;$\\frac{\\gamma}{x^2}$ -->\n<g id=\"edge13\" class=\"edge\">\n<title>$\\phi \\nsim \\rho$-&gt;$\\frac{\\gamma}{x^2}$</title>\n<path fill=\"none\" stroke=\"black\" d=\"M69.66,-401.4C103.96,-393.92 165.58,-380.49 210.29,-370.74\"/>\n<polygon fill=\"black\" stroke=\"black\" points=\"210.87,-372.41 215.38,-369.63 210.12,-368.99 210.87,-372.41\"/>\n<text text-anchor=\"middle\" x=\"144.94\" y=\"-395.8\" font-family=\"Times,serif\" font-size=\"14.00\">test</text>\n</g>\n<!-- $\\phi \nsim \nho$ -->\n<g id=\"node13\" class=\"node\">\n<title>$\\phi \nsim \nho$</title>\n<ellipse fill=\"lightgrey\" stroke=\"black\" cx=\"42.97\" cy=\"-339\" rx=\"27\" ry=\"21.43\"/>\n<text text-anchor=\"middle\" x=\"42.97\" y=\"-342\" font-family=\"Times,serif\" font-size=\"10.00\">$phi </text>\n<text text-anchor=\"middle\" x=\"42.97\" y=\"-331\" font-family=\"Times,serif\" font-size=\"10.00\">sim \rho$</text>\n</g>\n<!-- $\\phi \nsim \nho$&#45;&gt;$\\frac{\\gamma}{x^2}$ -->\n<g id=\"edge14\" class=\"edge\">\n<title>$\\phi \nsim \nho$-&gt;$\\frac{\\gamma}{x^2}$</title>\n<path fill=\"none\" stroke=\"black\" d=\"M70.1,-341.37C102.17,-344.29 157.66,-349.33 201.11,-353.27\"/>\n<polygon fill=\"black\" stroke=\"black\" points=\"201.2,-355.04 206.34,-353.75 201.52,-351.55 201.2,-355.04\"/>\n<text text-anchor=\"middle\" x=\"144.94\" y=\"-354.8\" font-family=\"Times,serif\" font-size=\"14.00\">test</text>\n</g>\n</g>\n</svg>"
          },
          "metadata": {},
          "execution_count": 120
        }
      ]
    },
    {
      "cell_type": "code",
      "source": [
        "import networkx as nx\n",
        "\n",
        "from networkx.drawing.nx_agraph import to_agraph\n",
        "\n",
        "G=nx.DiGraph()\n",
        "G.add_node(1,color='blue',style='filled',\n",
        "             fillcolor='white',shape='square', label=\"$x^1$\")\n",
        "G.add_node(2)\n",
        "G.add_node(3)\n",
        "G.add_edge(1, 2)\n",
        "G.add_edge(1, 3)\n",
        "G.add_edge(3, 4)\n",
        "display(G)\n",
        "A = to_agraph(G)\n",
        "display(A)\n",
        "A.layout('dot')\n",
        "A.draw('test1.png')\n",
        "display(A)\n",
        "PG = nx.nx_pydot.to_pydot(G)\n",
        "display(PG)"
      ],
      "metadata": {
        "colab": {
          "base_uri": "https://localhost:8080/",
          "height": 415
        },
        "id": "t7oirq6D-g2V",
        "outputId": "7b0faee3-2d88-4beb-d7cd-dd92c3166c6f"
      },
      "execution_count": 135,
      "outputs": [
        {
          "output_type": "display_data",
          "data": {
            "text/plain": [
              "<networkx.classes.digraph.DiGraph at 0x7f1a6e203550>"
            ]
          },
          "metadata": {}
        },
        {
          "output_type": "display_data",
          "data": {
            "text/plain": [
              "<AGraph <Swig Object of type 'Agraph_t *' at 0x7f1a6e200720>>"
            ]
          },
          "metadata": {}
        },
        {
          "output_type": "display_data",
          "data": {
            "image/svg+xml": "<?xml version=\"1.0\" encoding=\"UTF-8\" standalone=\"no\"?>\n<!DOCTYPE svg PUBLIC \"-//W3C//DTD SVG 1.1//EN\"\n \"http://www.w3.org/Graphics/SVG/1.1/DTD/svg11.dtd\">\n<!-- Generated by graphviz version 2.43.0 (0)\n -->\n<!-- Pages: 1 -->\n<svg width=\"134pt\" height=\"202pt\"\n viewBox=\"0.00 0.00 134.00 202.00\" xmlns=\"http://www.w3.org/2000/svg\" xmlns:xlink=\"http://www.w3.org/1999/xlink\">\n<g id=\"graph0\" class=\"graph\" transform=\"scale(1 1) rotate(0) translate(4 198)\">\n<polygon fill=\"white\" stroke=\"transparent\" points=\"-4,4 -4,-198 130,-198 130,4 -4,4\"/>\n<!-- 1 -->\n<g id=\"node1\" class=\"node\">\n<title>1</title>\n<polygon fill=\"white\" stroke=\"blue\" points=\"88,-194 38,-194 38,-144 88,-144 88,-194\"/>\n<text text-anchor=\"middle\" x=\"63\" y=\"-165.3\" font-family=\"Times,serif\" font-size=\"14.00\">$x^1$</text>\n</g>\n<!-- 2 -->\n<g id=\"node2\" class=\"node\">\n<title>2</title>\n<ellipse fill=\"none\" stroke=\"black\" cx=\"27\" cy=\"-90\" rx=\"27\" ry=\"18\"/>\n<text text-anchor=\"middle\" x=\"27\" y=\"-86.3\" font-family=\"Times,serif\" font-size=\"14.00\">2</text>\n</g>\n<!-- 1&#45;&gt;2 -->\n<g id=\"edge1\" class=\"edge\">\n<title>1&#45;&gt;2</title>\n<path fill=\"none\" stroke=\"black\" d=\"M51.61,-143.64C47.6,-135.06 43.08,-125.39 39.02,-116.7\"/>\n<polygon fill=\"black\" stroke=\"black\" points=\"42.09,-115 34.68,-107.42 35.74,-117.96 42.09,-115\"/>\n</g>\n<!-- 3 -->\n<g id=\"node3\" class=\"node\">\n<title>3</title>\n<ellipse fill=\"none\" stroke=\"black\" cx=\"99\" cy=\"-90\" rx=\"27\" ry=\"18\"/>\n<text text-anchor=\"middle\" x=\"99\" y=\"-86.3\" font-family=\"Times,serif\" font-size=\"14.00\">3</text>\n</g>\n<!-- 1&#45;&gt;3 -->\n<g id=\"edge2\" class=\"edge\">\n<title>1&#45;&gt;3</title>\n<path fill=\"none\" stroke=\"black\" d=\"M74.39,-143.64C78.4,-135.06 82.92,-125.39 86.98,-116.7\"/>\n<polygon fill=\"black\" stroke=\"black\" points=\"90.26,-117.96 91.32,-107.42 83.91,-115 90.26,-117.96\"/>\n</g>\n<!-- 4 -->\n<g id=\"node4\" class=\"node\">\n<title>4</title>\n<ellipse fill=\"none\" stroke=\"black\" cx=\"99\" cy=\"-18\" rx=\"27\" ry=\"18\"/>\n<text text-anchor=\"middle\" x=\"99\" y=\"-14.3\" font-family=\"Times,serif\" font-size=\"14.00\">4</text>\n</g>\n<!-- 3&#45;&gt;4 -->\n<g id=\"edge3\" class=\"edge\">\n<title>3&#45;&gt;4</title>\n<path fill=\"none\" stroke=\"black\" d=\"M99,-71.7C99,-63.98 99,-54.71 99,-46.11\"/>\n<polygon fill=\"black\" stroke=\"black\" points=\"102.5,-46.1 99,-36.1 95.5,-46.1 102.5,-46.1\"/>\n</g>\n</g>\n</svg>\n",
            "text/plain": [
              "<AGraph <Swig Object of type 'Agraph_t *' at 0x7f1a6e200060>>"
            ]
          },
          "metadata": {}
        },
        {
          "output_type": "display_data",
          "data": {
            "text/plain": [
              "<pydot.core.Dot at 0x7f1a6e202770>"
            ]
          },
          "metadata": {}
        }
      ]
    },
    {
      "cell_type": "code",
      "source": [
        "-G.add_node(1,color='blue',style='filled',\n",
        "             fillcolor='white',shape='square', label=\"$x^1$\")\n",
        "G.add_node(2)\n",
        "G.add_node(3)\n",
        "G.add_edge(1, 2)\n",
        "G.add_edge(1, 3)\n",
        "G.add_edge(3, 4)\n",
        "G"
      ],
      "metadata": {
        "colab": {
          "base_uri": "https://localhost:8080/"
        },
        "id": "nJoHDACmVHGO",
        "outputId": "70c0d394-2a51-48c6-872f-5f581a435ad2"
      },
      "execution_count": 159,
      "outputs": [
        {
          "output_type": "execute_result",
          "data": {
            "text/plain": [
              "<networkx.classes.digraph.DiGraph at 0x7f1a6e203550>"
            ]
          },
          "metadata": {},
          "execution_count": 159
        }
      ]
    },
    {
      "cell_type": "code",
      "source": [
        "!pip install dot2tex"
      ],
      "metadata": {
        "colab": {
          "base_uri": "https://localhost:8080/"
        },
        "id": "VUFsUDwIA6RJ",
        "outputId": "d062ed2c-6433-42fb-d685-bd244309f629"
      },
      "execution_count": 127,
      "outputs": [
        {
          "output_type": "stream",
          "name": "stdout",
          "text": [
            "Collecting dot2tex\n",
            "  Downloading dot2tex-2.11.3-py2.py3-none-any.whl.metadata (1.5 kB)\n",
            "Requirement already satisfied: pyparsing in /usr/local/lib/python3.10/dist-packages (from dot2tex) (3.2.0)\n",
            "Downloading dot2tex-2.11.3-py2.py3-none-any.whl (36 kB)\n",
            "Installing collected packages: dot2tex\n",
            "Successfully installed dot2tex-2.11.3\n"
          ]
        }
      ]
    },
    {
      "cell_type": "code",
      "source": [
        "\n",
        "import dot2tex\n",
        "testgraph = \"\"\"\n",
        "digraph G {\n",
        "    a -> b -> c -> a;\n",
        "}\n",
        "\"\"\"\n",
        "texcode = dot2tex.dot2tex(testgraph, format='tikz', crop=True)\n",
        "display(texcode)"
      ],
      "metadata": {
        "colab": {
          "base_uri": "https://localhost:8080/",
          "height": 574
        },
        "id": "uZjy6xfeA12Z",
        "outputId": "1312cea6-387d-47ae-d322-e664f8978fb9"
      },
      "execution_count": 129,
      "outputs": [
        {
          "output_type": "display_data",
          "data": {
            "text/plain": [
              "\"\\\\documentclass{article}\\n\\\\usepackage[x11names, svgnames, rgb]{xcolor}\\n\\\\usepackage[utf8]{inputenc}\\n\\\\usepackage{tikz}\\n\\\\usetikzlibrary{snakes,arrows,shapes}\\n\\\\usepackage{amsmath}\\n%\\n%\\n\\n\\\\usepackage[active,tightpage]{preview}\\n\\\\PreviewEnvironment{tikzpicture}\\n\\\\setlength\\\\PreviewBorder{0pt}%\\n\\n%\\n\\n\\\\begin{document}\\n\\\\pagestyle{empty}\\n%\\n%\\n%\\n\\n\\\\enlargethispage{100cm}\\n% Start of code\\n\\\\begin{tikzpicture}[>=latex',line join=bevel,]\\n%%\\n\\\\node (a) at (54.0bp,162.0bp) [draw,ellipse] {a};\\n  \\\\node (b) at (27.0bp,90.0bp) [draw,ellipse] {b};\\n  \\\\node (c) at (54.0bp,18.0bp) [draw,ellipse] {c};\\n  \\\\draw [->] (a) ..controls (44.486bp,136.34bp) and (40.666bp,126.43bp)  .. (b);\\n  \\\\draw [->] (b) ..controls (36.514bp,64.335bp) and (40.334bp,54.431bp)  .. (c);\\n  \\\\draw [->] (c) ..controls (59.676bp,46.431bp) and (61.981bp,59.91bp)  .. (63.0bp,72.0bp) .. controls (64.344bp,87.943bp) and (64.344bp,92.057bp)  .. (63.0bp,108.0bp) .. controls (62.283bp,116.5bp) and (60.931bp,125.69bp)  .. (a);\\n%\\n\\\\end{tikzpicture}\\n% End of code\\n\\n%\\n\\\\end{document}\\n%\\n\\n\\n\""
            ],
            "application/vnd.google.colaboratory.intrinsic+json": {
              "type": "string"
            }
          },
          "metadata": {}
        }
      ]
    },
    {
      "cell_type": "code",
      "source": [
        "\n",
        "!sudo apt-get install texlive"
      ],
      "metadata": {
        "colab": {
          "base_uri": "https://localhost:8080/"
        },
        "id": "oE0g4cU8uUEb",
        "outputId": "271e72ce-dede-46d4-86df-9dbd16529870"
      },
      "execution_count": 100,
      "outputs": [
        {
          "output_type": "stream",
          "name": "stdout",
          "text": [
            "Reading package lists... Done\n",
            "Building dependency tree... Done\n",
            "Reading state information... Done\n",
            "The following additional packages will be installed:\n",
            "  dvisvgm fonts-droid-fallback fonts-lmodern fonts-noto-mono fonts-texgyre\n",
            "  fonts-urw-base35 libfontenc1 libgs9 libgs9-common libidn12 libijs-0.35\n",
            "  libjbig2dec0 libkpathsea6 libptexenc1 libsynctex2 libteckit0 libtexlua53\n",
            "  libtexluajit2 libwoff1 libzzip-0-13 lmodern poppler-data t1utils tex-common\n",
            "  tex-gyre texlive-base texlive-binaries texlive-fonts-recommended\n",
            "  texlive-latex-base texlive-latex-recommended tipa xfonts-encodings\n",
            "  xfonts-utils\n",
            "Suggested packages:\n",
            "  fonts-noto fonts-freefont-otf | fonts-freefont-ttf poppler-utils ghostscript\n",
            "  fonts-japanese-mincho | fonts-ipafont-mincho fonts-japanese-gothic\n",
            "  | fonts-ipafont-gothic fonts-arphic-ukai fonts-arphic-uming fonts-nanum\n",
            "  debhelper gv | postscript-viewer perl-tk xpdf | pdf-viewer xzdec\n",
            "  texlive-fonts-recommended-doc texlive-latex-base-doc\n",
            "  texlive-latex-recommended-doc texlive-luatex texlive-pstricks tipa-doc\n",
            "The following NEW packages will be installed:\n",
            "  dvisvgm fonts-droid-fallback fonts-lmodern fonts-noto-mono fonts-texgyre\n",
            "  fonts-urw-base35 libfontenc1 libgs9 libgs9-common libidn12 libijs-0.35\n",
            "  libjbig2dec0 libkpathsea6 libptexenc1 libsynctex2 libteckit0 libtexlua53\n",
            "  libtexluajit2 libwoff1 libzzip-0-13 lmodern poppler-data t1utils tex-common\n",
            "  tex-gyre texlive texlive-base texlive-binaries texlive-fonts-recommended\n",
            "  texlive-latex-base texlive-latex-recommended tipa xfonts-encodings\n",
            "  xfonts-utils\n",
            "0 upgraded, 34 newly installed, 0 to remove and 57 not upgraded.\n",
            "Need to get 104 MB of archives.\n",
            "After this operation, 317 MB of additional disk space will be used.\n",
            "Get:1 http://archive.ubuntu.com/ubuntu jammy/main amd64 fonts-droid-fallback all 1:6.0.1r16-1.1build1 [1,805 kB]\n",
            "Get:2 http://archive.ubuntu.com/ubuntu jammy/main amd64 poppler-data all 0.4.11-1 [2,171 kB]\n",
            "Get:3 http://archive.ubuntu.com/ubuntu jammy/universe amd64 tex-common all 6.17 [33.7 kB]\n",
            "Get:4 http://archive.ubuntu.com/ubuntu jammy/main amd64 fonts-urw-base35 all 20200910-1 [6,367 kB]\n",
            "Get:5 http://archive.ubuntu.com/ubuntu jammy-updates/main amd64 libgs9-common all 9.55.0~dfsg1-0ubuntu5.10 [752 kB]\n",
            "Get:6 http://archive.ubuntu.com/ubuntu jammy-updates/main amd64 libidn12 amd64 1.38-4ubuntu1 [60.0 kB]\n",
            "Get:7 http://archive.ubuntu.com/ubuntu jammy/main amd64 libijs-0.35 amd64 0.35-15build2 [16.5 kB]\n",
            "Get:8 http://archive.ubuntu.com/ubuntu jammy/main amd64 libjbig2dec0 amd64 0.19-3build2 [64.7 kB]\n",
            "Get:9 http://archive.ubuntu.com/ubuntu jammy-updates/main amd64 libgs9 amd64 9.55.0~dfsg1-0ubuntu5.10 [5,031 kB]\n",
            "Get:10 http://archive.ubuntu.com/ubuntu jammy-updates/main amd64 libkpathsea6 amd64 2021.20210626.59705-1ubuntu0.2 [60.4 kB]\n",
            "Get:11 http://archive.ubuntu.com/ubuntu jammy/main amd64 libwoff1 amd64 1.0.2-1build4 [45.2 kB]\n",
            "Get:12 http://archive.ubuntu.com/ubuntu jammy/universe amd64 dvisvgm amd64 2.13.1-1 [1,221 kB]\n",
            "Get:13 http://archive.ubuntu.com/ubuntu jammy/universe amd64 fonts-lmodern all 2.004.5-6.1 [4,532 kB]\n",
            "Get:14 http://archive.ubuntu.com/ubuntu jammy/main amd64 fonts-noto-mono all 20201225-1build1 [397 kB]\n",
            "Get:15 http://archive.ubuntu.com/ubuntu jammy/universe amd64 fonts-texgyre all 20180621-3.1 [10.2 MB]\n",
            "Get:16 http://archive.ubuntu.com/ubuntu jammy/main amd64 libfontenc1 amd64 1:1.1.4-1build3 [14.7 kB]\n",
            "Get:17 http://archive.ubuntu.com/ubuntu jammy-updates/main amd64 libptexenc1 amd64 2021.20210626.59705-1ubuntu0.2 [39.1 kB]\n",
            "Get:18 http://archive.ubuntu.com/ubuntu jammy-updates/main amd64 libsynctex2 amd64 2021.20210626.59705-1ubuntu0.2 [55.6 kB]\n",
            "Get:19 http://archive.ubuntu.com/ubuntu jammy/universe amd64 libteckit0 amd64 2.5.11+ds1-1 [421 kB]\n",
            "Get:20 http://archive.ubuntu.com/ubuntu jammy-updates/main amd64 libtexlua53 amd64 2021.20210626.59705-1ubuntu0.2 [120 kB]\n",
            "Get:21 http://archive.ubuntu.com/ubuntu jammy-updates/main amd64 libtexluajit2 amd64 2021.20210626.59705-1ubuntu0.2 [267 kB]\n",
            "Get:22 http://archive.ubuntu.com/ubuntu jammy/universe amd64 libzzip-0-13 amd64 0.13.72+dfsg.1-1.1 [27.0 kB]\n",
            "Get:23 http://archive.ubuntu.com/ubuntu jammy/main amd64 xfonts-encodings all 1:1.0.5-0ubuntu2 [578 kB]\n",
            "Get:24 http://archive.ubuntu.com/ubuntu jammy/main amd64 xfonts-utils amd64 1:7.7+6build2 [94.6 kB]\n",
            "Get:25 http://archive.ubuntu.com/ubuntu jammy/universe amd64 lmodern all 2.004.5-6.1 [9,471 kB]\n",
            "Get:26 http://archive.ubuntu.com/ubuntu jammy/main amd64 t1utils amd64 1.41-4build2 [61.3 kB]\n",
            "Get:27 http://archive.ubuntu.com/ubuntu jammy/universe amd64 tex-gyre all 20180621-3.1 [6,209 kB]\n",
            "Get:28 http://archive.ubuntu.com/ubuntu jammy-updates/universe amd64 texlive-binaries amd64 2021.20210626.59705-1ubuntu0.2 [9,860 kB]\n",
            "Get:29 http://archive.ubuntu.com/ubuntu jammy/universe amd64 texlive-base all 2021.20220204-1 [21.0 MB]\n",
            "Get:30 http://archive.ubuntu.com/ubuntu jammy/universe amd64 texlive-fonts-recommended all 2021.20220204-1 [4,972 kB]\n",
            "Get:31 http://archive.ubuntu.com/ubuntu jammy/universe amd64 texlive-latex-base all 2021.20220204-1 [1,128 kB]\n",
            "Get:32 http://archive.ubuntu.com/ubuntu jammy/universe amd64 texlive-latex-recommended all 2021.20220204-1 [14.4 MB]\n",
            "Get:33 http://archive.ubuntu.com/ubuntu jammy/universe amd64 texlive all 2021.20220204-1 [14.3 kB]\n",
            "Get:34 http://archive.ubuntu.com/ubuntu jammy/universe amd64 tipa all 2:1.3-21 [2,967 kB]\n",
            "Fetched 104 MB in 3s (30.5 MB/s)\n",
            "debconf: unable to initialize frontend: Dialog\n",
            "debconf: (No usable dialog-like program is installed, so the dialog based frontend cannot be used. at /usr/share/perl5/Debconf/FrontEnd/Dialog.pm line 78, <> line 34.)\n",
            "debconf: falling back to frontend: Readline\n",
            "debconf: unable to initialize frontend: Readline\n",
            "debconf: (This frontend requires a controlling tty.)\n",
            "debconf: falling back to frontend: Teletype\n",
            "dpkg-preconfigure: unable to re-open stdin: \n",
            "Selecting previously unselected package fonts-droid-fallback.\n",
            "(Reading database ... 123781 files and directories currently installed.)\n",
            "Preparing to unpack .../00-fonts-droid-fallback_1%3a6.0.1r16-1.1build1_all.deb ...\n",
            "Unpacking fonts-droid-fallback (1:6.0.1r16-1.1build1) ...\n",
            "Selecting previously unselected package poppler-data.\n",
            "Preparing to unpack .../01-poppler-data_0.4.11-1_all.deb ...\n",
            "Unpacking poppler-data (0.4.11-1) ...\n",
            "Selecting previously unselected package tex-common.\n",
            "Preparing to unpack .../02-tex-common_6.17_all.deb ...\n",
            "Unpacking tex-common (6.17) ...\n",
            "Selecting previously unselected package fonts-urw-base35.\n",
            "Preparing to unpack .../03-fonts-urw-base35_20200910-1_all.deb ...\n",
            "Unpacking fonts-urw-base35 (20200910-1) ...\n",
            "Selecting previously unselected package libgs9-common.\n",
            "Preparing to unpack .../04-libgs9-common_9.55.0~dfsg1-0ubuntu5.10_all.deb ...\n",
            "Unpacking libgs9-common (9.55.0~dfsg1-0ubuntu5.10) ...\n",
            "Selecting previously unselected package libidn12:amd64.\n",
            "Preparing to unpack .../05-libidn12_1.38-4ubuntu1_amd64.deb ...\n",
            "Unpacking libidn12:amd64 (1.38-4ubuntu1) ...\n",
            "Selecting previously unselected package libijs-0.35:amd64.\n",
            "Preparing to unpack .../06-libijs-0.35_0.35-15build2_amd64.deb ...\n",
            "Unpacking libijs-0.35:amd64 (0.35-15build2) ...\n",
            "Selecting previously unselected package libjbig2dec0:amd64.\n",
            "Preparing to unpack .../07-libjbig2dec0_0.19-3build2_amd64.deb ...\n",
            "Unpacking libjbig2dec0:amd64 (0.19-3build2) ...\n",
            "Selecting previously unselected package libgs9:amd64.\n",
            "Preparing to unpack .../08-libgs9_9.55.0~dfsg1-0ubuntu5.10_amd64.deb ...\n",
            "Unpacking libgs9:amd64 (9.55.0~dfsg1-0ubuntu5.10) ...\n",
            "Selecting previously unselected package libkpathsea6:amd64.\n",
            "Preparing to unpack .../09-libkpathsea6_2021.20210626.59705-1ubuntu0.2_amd64.deb ...\n",
            "Unpacking libkpathsea6:amd64 (2021.20210626.59705-1ubuntu0.2) ...\n",
            "Selecting previously unselected package libwoff1:amd64.\n",
            "Preparing to unpack .../10-libwoff1_1.0.2-1build4_amd64.deb ...\n",
            "Unpacking libwoff1:amd64 (1.0.2-1build4) ...\n",
            "Selecting previously unselected package dvisvgm.\n",
            "Preparing to unpack .../11-dvisvgm_2.13.1-1_amd64.deb ...\n",
            "Unpacking dvisvgm (2.13.1-1) ...\n",
            "Selecting previously unselected package fonts-lmodern.\n",
            "Preparing to unpack .../12-fonts-lmodern_2.004.5-6.1_all.deb ...\n",
            "Unpacking fonts-lmodern (2.004.5-6.1) ...\n",
            "Selecting previously unselected package fonts-noto-mono.\n",
            "Preparing to unpack .../13-fonts-noto-mono_20201225-1build1_all.deb ...\n",
            "Unpacking fonts-noto-mono (20201225-1build1) ...\n",
            "Selecting previously unselected package fonts-texgyre.\n",
            "Preparing to unpack .../14-fonts-texgyre_20180621-3.1_all.deb ...\n",
            "Unpacking fonts-texgyre (20180621-3.1) ...\n",
            "Selecting previously unselected package libfontenc1:amd64.\n",
            "Preparing to unpack .../15-libfontenc1_1%3a1.1.4-1build3_amd64.deb ...\n",
            "Unpacking libfontenc1:amd64 (1:1.1.4-1build3) ...\n",
            "Selecting previously unselected package libptexenc1:amd64.\n",
            "Preparing to unpack .../16-libptexenc1_2021.20210626.59705-1ubuntu0.2_amd64.deb ...\n",
            "Unpacking libptexenc1:amd64 (2021.20210626.59705-1ubuntu0.2) ...\n",
            "Selecting previously unselected package libsynctex2:amd64.\n",
            "Preparing to unpack .../17-libsynctex2_2021.20210626.59705-1ubuntu0.2_amd64.deb ...\n",
            "Unpacking libsynctex2:amd64 (2021.20210626.59705-1ubuntu0.2) ...\n",
            "Selecting previously unselected package libteckit0:amd64.\n",
            "Preparing to unpack .../18-libteckit0_2.5.11+ds1-1_amd64.deb ...\n",
            "Unpacking libteckit0:amd64 (2.5.11+ds1-1) ...\n",
            "Selecting previously unselected package libtexlua53:amd64.\n",
            "Preparing to unpack .../19-libtexlua53_2021.20210626.59705-1ubuntu0.2_amd64.deb ...\n",
            "Unpacking libtexlua53:amd64 (2021.20210626.59705-1ubuntu0.2) ...\n",
            "Selecting previously unselected package libtexluajit2:amd64.\n",
            "Preparing to unpack .../20-libtexluajit2_2021.20210626.59705-1ubuntu0.2_amd64.deb ...\n",
            "Unpacking libtexluajit2:amd64 (2021.20210626.59705-1ubuntu0.2) ...\n",
            "Selecting previously unselected package libzzip-0-13:amd64.\n",
            "Preparing to unpack .../21-libzzip-0-13_0.13.72+dfsg.1-1.1_amd64.deb ...\n",
            "Unpacking libzzip-0-13:amd64 (0.13.72+dfsg.1-1.1) ...\n",
            "Selecting previously unselected package xfonts-encodings.\n",
            "Preparing to unpack .../22-xfonts-encodings_1%3a1.0.5-0ubuntu2_all.deb ...\n",
            "Unpacking xfonts-encodings (1:1.0.5-0ubuntu2) ...\n",
            "Selecting previously unselected package xfonts-utils.\n",
            "Preparing to unpack .../23-xfonts-utils_1%3a7.7+6build2_amd64.deb ...\n",
            "Unpacking xfonts-utils (1:7.7+6build2) ...\n",
            "Selecting previously unselected package lmodern.\n",
            "Preparing to unpack .../24-lmodern_2.004.5-6.1_all.deb ...\n",
            "Unpacking lmodern (2.004.5-6.1) ...\n",
            "Selecting previously unselected package t1utils.\n",
            "Preparing to unpack .../25-t1utils_1.41-4build2_amd64.deb ...\n",
            "Unpacking t1utils (1.41-4build2) ...\n",
            "Selecting previously unselected package tex-gyre.\n",
            "Preparing to unpack .../26-tex-gyre_20180621-3.1_all.deb ...\n",
            "Unpacking tex-gyre (20180621-3.1) ...\n",
            "Selecting previously unselected package texlive-binaries.\n",
            "Preparing to unpack .../27-texlive-binaries_2021.20210626.59705-1ubuntu0.2_amd64.deb ...\n",
            "Unpacking texlive-binaries (2021.20210626.59705-1ubuntu0.2) ...\n",
            "Selecting previously unselected package texlive-base.\n",
            "Preparing to unpack .../28-texlive-base_2021.20220204-1_all.deb ...\n",
            "Unpacking texlive-base (2021.20220204-1) ...\n",
            "Selecting previously unselected package texlive-fonts-recommended.\n",
            "Preparing to unpack .../29-texlive-fonts-recommended_2021.20220204-1_all.deb ...\n",
            "Unpacking texlive-fonts-recommended (2021.20220204-1) ...\n",
            "Selecting previously unselected package texlive-latex-base.\n",
            "Preparing to unpack .../30-texlive-latex-base_2021.20220204-1_all.deb ...\n",
            "Unpacking texlive-latex-base (2021.20220204-1) ...\n",
            "Selecting previously unselected package texlive-latex-recommended.\n",
            "Preparing to unpack .../31-texlive-latex-recommended_2021.20220204-1_all.deb ...\n",
            "Unpacking texlive-latex-recommended (2021.20220204-1) ...\n",
            "Selecting previously unselected package texlive.\n",
            "Preparing to unpack .../32-texlive_2021.20220204-1_all.deb ...\n",
            "Unpacking texlive (2021.20220204-1) ...\n",
            "Selecting previously unselected package tipa.\n",
            "Preparing to unpack .../33-tipa_2%3a1.3-21_all.deb ...\n",
            "Unpacking tipa (2:1.3-21) ...\n",
            "Setting up fonts-noto-mono (20201225-1build1) ...\n",
            "Setting up libwoff1:amd64 (1.0.2-1build4) ...\n",
            "Setting up libtexlua53:amd64 (2021.20210626.59705-1ubuntu0.2) ...\n",
            "Setting up libijs-0.35:amd64 (0.35-15build2) ...\n",
            "Setting up libtexluajit2:amd64 (2021.20210626.59705-1ubuntu0.2) ...\n",
            "Setting up libzzip-0-13:amd64 (0.13.72+dfsg.1-1.1) ...\n",
            "Setting up fonts-urw-base35 (20200910-1) ...\n",
            "Setting up poppler-data (0.4.11-1) ...\n",
            "Setting up tex-common (6.17) ...\n",
            "debconf: unable to initialize frontend: Dialog\n",
            "debconf: (No usable dialog-like program is installed, so the dialog based frontend cannot be used. at /usr/share/perl5/Debconf/FrontEnd/Dialog.pm line 78.)\n",
            "debconf: falling back to frontend: Readline\n",
            "update-language: texlive-base not installed and configured, doing nothing!\n",
            "Setting up libfontenc1:amd64 (1:1.1.4-1build3) ...\n",
            "Setting up libjbig2dec0:amd64 (0.19-3build2) ...\n",
            "Setting up libteckit0:amd64 (2.5.11+ds1-1) ...\n",
            "Setting up xfonts-encodings (1:1.0.5-0ubuntu2) ...\n",
            "Setting up t1utils (1.41-4build2) ...\n",
            "Setting up libidn12:amd64 (1.38-4ubuntu1) ...\n",
            "Setting up fonts-texgyre (20180621-3.1) ...\n",
            "Setting up libkpathsea6:amd64 (2021.20210626.59705-1ubuntu0.2) ...\n",
            "Setting up fonts-lmodern (2.004.5-6.1) ...\n",
            "Setting up fonts-droid-fallback (1:6.0.1r16-1.1build1) ...\n",
            "Setting up libsynctex2:amd64 (2021.20210626.59705-1ubuntu0.2) ...\n",
            "Setting up libgs9-common (9.55.0~dfsg1-0ubuntu5.10) ...\n",
            "Setting up libgs9:amd64 (9.55.0~dfsg1-0ubuntu5.10) ...\n",
            "Setting up dvisvgm (2.13.1-1) ...\n",
            "Setting up xfonts-utils (1:7.7+6build2) ...\n",
            "Setting up libptexenc1:amd64 (2021.20210626.59705-1ubuntu0.2) ...\n",
            "Setting up texlive-binaries (2021.20210626.59705-1ubuntu0.2) ...\n",
            "update-alternatives: using /usr/bin/xdvi-xaw to provide /usr/bin/xdvi.bin (xdvi.bin) in auto mode\n",
            "update-alternatives: using /usr/bin/bibtex.original to provide /usr/bin/bibtex (bibtex) in auto mode\n",
            "Setting up lmodern (2.004.5-6.1) ...\n",
            "Setting up texlive-base (2021.20220204-1) ...\n",
            "/usr/bin/ucfr\n",
            "/usr/bin/ucfr\n",
            "/usr/bin/ucfr\n",
            "/usr/bin/ucfr\n",
            "mktexlsr: Updating /var/lib/texmf/ls-R-TEXLIVEDIST... \n",
            "mktexlsr: Updating /var/lib/texmf/ls-R-TEXMFMAIN... \n",
            "mktexlsr: Updating /var/lib/texmf/ls-R... \n",
            "mktexlsr: Done.\n",
            "tl-paper: setting paper size for dvips to a4: /var/lib/texmf/dvips/config/config-paper.ps\n",
            "tl-paper: setting paper size for dvipdfmx to a4: /var/lib/texmf/dvipdfmx/dvipdfmx-paper.cfg\n",
            "tl-paper: setting paper size for xdvi to a4: /var/lib/texmf/xdvi/XDvi-paper\n",
            "tl-paper: setting paper size for pdftex to a4: /var/lib/texmf/tex/generic/tex-ini-files/pdftexconfig.tex\n",
            "debconf: unable to initialize frontend: Dialog\n",
            "debconf: (No usable dialog-like program is installed, so the dialog based frontend cannot be used. at /usr/share/perl5/Debconf/FrontEnd/Dialog.pm line 78.)\n",
            "debconf: falling back to frontend: Readline\n",
            "Setting up tex-gyre (20180621-3.1) ...\n",
            "Setting up texlive-latex-base (2021.20220204-1) ...\n",
            "Setting up texlive-latex-recommended (2021.20220204-1) ...\n",
            "Setting up texlive-fonts-recommended (2021.20220204-1) ...\n",
            "Setting up tipa (2:1.3-21) ...\n",
            "Setting up texlive (2021.20220204-1) ...\n",
            "Processing triggers for man-db (2.10.2-1) ...\n",
            "Processing triggers for fontconfig (2.13.1-4.2ubuntu5) ...\n",
            "Processing triggers for libc-bin (2.35-0ubuntu3.4) ...\n",
            "/sbin/ldconfig.real: /usr/local/lib/libur_loader.so.0 is not a symbolic link\n",
            "\n",
            "/sbin/ldconfig.real: /usr/local/lib/libtcm_debug.so.1 is not a symbolic link\n",
            "\n",
            "/sbin/ldconfig.real: /usr/local/lib/libtbbbind_2_5.so.3 is not a symbolic link\n",
            "\n",
            "/sbin/ldconfig.real: /usr/local/lib/libtbbmalloc_proxy.so.2 is not a symbolic link\n",
            "\n",
            "/sbin/ldconfig.real: /usr/local/lib/libur_adapter_opencl.so.0 is not a symbolic link\n",
            "\n",
            "/sbin/ldconfig.real: /usr/local/lib/libtbbbind_2_0.so.3 is not a symbolic link\n",
            "\n",
            "/sbin/ldconfig.real: /usr/local/lib/libtbbbind.so.3 is not a symbolic link\n",
            "\n",
            "/sbin/ldconfig.real: /usr/local/lib/libtbb.so.12 is not a symbolic link\n",
            "\n",
            "/sbin/ldconfig.real: /usr/local/lib/libtcm.so.1 is not a symbolic link\n",
            "\n",
            "/sbin/ldconfig.real: /usr/local/lib/libur_adapter_level_zero.so.0 is not a symbolic link\n",
            "\n",
            "/sbin/ldconfig.real: /usr/local/lib/libtbbmalloc.so.2 is not a symbolic link\n",
            "\n",
            "/sbin/ldconfig.real: /usr/local/lib/libhwloc.so.15 is not a symbolic link\n",
            "\n",
            "/sbin/ldconfig.real: /usr/local/lib/libumf.so.0 is not a symbolic link\n",
            "\n",
            "Processing triggers for tex-common (6.17) ...\n",
            "debconf: unable to initialize frontend: Dialog\n",
            "debconf: (No usable dialog-like program is installed, so the dialog based frontend cannot be used. at /usr/share/perl5/Debconf/FrontEnd/Dialog.pm line 78.)\n",
            "debconf: falling back to frontend: Readline\n",
            "Running updmap-sys. This may take some time... done.\n",
            "Running mktexlsr /var/lib/texmf ... done.\n",
            "Building format(s) --all.\n",
            "\tThis may take some time... done.\n"
          ]
        }
      ]
    },
    {
      "cell_type": "code",
      "source": [
        "\n",
        "import pygraphviz as pgv\n",
        "\n",
        "# Create a graph\n",
        "G = pgv.AGraph(strict=False, directed=True)\n",
        "\n",
        "# Add a node with LaTeX formatting\n",
        "G.add_node(1, label=r'$\\\\phi \\\\nsim \\\\rho$', shape='plaintext')\n",
        "\n",
        "# Render the graph to a file\n",
        "G.layout(prog='dot')  # or 'neato', depending on your graph style\n",
        "G.draw('graph.png')\n",
        "\n",
        "img = plt.imread(\"graph.png\")\n",
        "plt.figure(figsize=(6, 6))\n",
        "plt.imshow(img)\n",
        "plt.axis(\"off\")\n",
        "plt.show()"
      ],
      "metadata": {
        "colab": {
          "base_uri": "https://localhost:8080/",
          "height": 125
        },
        "id": "1jBNKIRKtxw_",
        "outputId": "a8114e51-0775-42db-e95e-f7130f563e15"
      },
      "execution_count": 106,
      "outputs": [
        {
          "output_type": "display_data",
          "data": {
            "text/plain": [
              "<Figure size 600x600 with 1 Axes>"
            ],
            "image/png": "[encoded data removed]"
          },
          "metadata": {}
        }
      ]
    },
    {
      "cell_type": "code",
      "source": [
        "\n",
        "import networkx as nx\n",
        "import pygraphviz as pgv\n",
        "import matplotlib.pyplot as plt\n",
        "\n",
        "# Method 1: Using PyGraphViz (Agraph)\n",
        "def render_with_pygraphviz(G):\n",
        "    A = nx.nx_agraph.to_agraph(G)\n",
        "    A.node_attr.update(shape='plaintext', fontname='DejaVu Sans')\n",
        "\n",
        "    # Attempt to use LaTeX rendering\n",
        "    for node in A.nodes():\n",
        "        node.attr['label'] = f'$\\\\phi \\\\nsim \\\\rho$'\n",
        "\n",
        "    A.layout(prog='dot')\n",
        "    A.draw('latex_graph_agraph.png')\n",
        "\n",
        "    # Display the image\n",
        "    img = plt.imread('latex_graph_agraph.png')\n",
        "    plt.figure(figsize=(6, 6))\n",
        "    plt.imshow(img)\n",
        "    plt.axis('off')\n",
        "    plt.show()\n",
        "\n",
        "# Method 2: Using Pydot\n",
        "def render_with_pydot(G):\n",
        "    # Convert NetworkX graph to Pydot\n",
        "    import pydot\n",
        "    P = nx.nx_pydot.to_pydot(G)\n",
        "\n",
        "    # Set node attributes\n",
        "    for node in P.get_nodes():\n",
        "        node.set_shape('plaintext')\n",
        "        node.set_label('$\\\\phi \\\\nsim \\\\rho$')\n",
        "\n",
        "    # Render and save\n",
        "    P.write_png('latex_graph_pydot.png')\n",
        "\n",
        "    # Display the image\n",
        "    img = plt.imread('latex_graph_pydot.png')\n",
        "    plt.figure(figsize=(6, 6))\n",
        "    plt.imshow(img)\n",
        "    plt.axis('off')\n",
        "    #plt.show()\n",
        "    return P\n",
        "\n",
        "# Create the graph\n",
        "G = nx.DiGraph()\n",
        "G.add_node(1)\n",
        "\n",
        "# Choose your method\n",
        "#render_with_pygraphviz(G)\n",
        "#render_with_pydot(G)\n",
        "display(render_with_pydot(G))"
      ],
      "metadata": {
        "colab": {
          "base_uri": "https://localhost:8080/",
          "height": 317
        },
        "id": "5gPQZ1tlwRHR",
        "outputId": "0c283c05-a8bc-42ef-cbbe-10d2271137c7"
      },
      "execution_count": 111,
      "outputs": [
        {
          "output_type": "display_data",
          "data": {
            "text/plain": [
              "<pydot.core.Dot at 0x7f1a6e3492d0>"
            ]
          },
          "metadata": {}
        },
        {
          "output_type": "display_data",
          "data": {
            "text/plain": [
              "<Figure size 600x600 with 1 Axes>"
            ],
            "image/png": "[encoded data removed]"
          },
          "metadata": {}
        }
      ]
    },
    {
      "cell_type": "code",
      "source": [
        "\n",
        "from graphviz import Digraph\n",
        "\n",
        "# Create the graph\n",
        "dot = Digraph()\n",
        "\n",
        "# Add nodes (representing different decisions)\n",
        "dot.node('A', label=r'$\\alpha$')\n",
        "dot.node('B', 'Condition A')\n",
        "dot.node('C', 'Condition B')\n",
        "dot.node('D', 'End')\n",
        "\n",
        "# Add decision node for OR\n",
        "dot.node('D1', 'A OR B?')  # OR decision node (diamond shape)\n",
        "\n",
        "# Add edges\n",
        "dot.edge('A', 'B', texlabel=\"$x^1$\")\n",
        "dot.edge('B', 'D1', label='Condition A')\n",
        "dot.edge('C', 'D1', label='Condition B')\n",
        "dot.edge('D1', 'D', label='End')\n",
        "\n",
        "# Render the graph\n",
        "dot.render('or_decision_graph', format='pdf', cleanup=True)\n",
        "from IPython.display import display\n",
        "\n",
        "# Path to your PDF file\n",
        "pdf_path = \"or_decision_graph.pdf\"\n",
        "\n",
        "# Display the PDF\n",
        "#display(PDF(pdf_path))\n",
        "from IPython.display import IFrame\n",
        "\n",
        "# Path to your PDF file\n",
        "#pdf_path = \"path_to_your_file.pdf\"\n",
        "\n",
        "# Display the PDF using an IFrame\n",
        "IFrame(pdf_path, width=800, height=600)"
      ],
      "metadata": {
        "colab": {
          "base_uri": "https://localhost:8080/",
          "height": 641
        },
        "id": "60OjZdo6V-zs",
        "outputId": "7d1ba285-946c-48ae-98b4-527722f02a96"
      },
      "execution_count": 158,
      "outputs": [
        {
          "output_type": "execute_result",
          "data": {
            "text/plain": [
              "<IPython.lib.display.IFrame at 0x7f1a6e201ed0>"
            ],
            "text/html": [
              "\n",
              "        <iframe\n",
              "            width=\"800\"\n",
              "            height=\"600\"\n",
              "            src=\"or_decision_graph.pdf\"\n",
              "            frameborder=\"0\"\n",
              "            allowfullscreen\n",
              "            \n",
              "        ></iframe>\n",
              "        "
            ]
          },
          "metadata": {},
          "execution_count": 158
        }
      ]
    },
    {
      "cell_type": "code",
      "source": [
        "\n",
        "import graphviz\n",
        "dot=graphviz.Digraph()\n",
        "dot.node('$x^1$')\n",
        "dot.node('2')\n",
        "dot.node('3')\n",
        "dot.node('4')\n",
        "dot.edges(['12','13','35'])\n",
        "dot"
      ],
      "metadata": {
        "colab": {
          "base_uri": "https://localhost:8080/",
          "height": 292
        },
        "id": "diQ8FYrPVQyS",
        "outputId": "d2a6b608-36e2-4309-bf0d-c30430f3abf2"
      },
      "execution_count": 162,
      "outputs": [
        {
          "output_type": "execute_result",
          "data": {
            "image/svg+xml": "<?xml version=\"1.0\" encoding=\"UTF-8\" standalone=\"no\"?>\n<!DOCTYPE svg PUBLIC \"-//W3C//DTD SVG 1.1//EN\"\n \"http://www.w3.org/Graphics/SVG/1.1/DTD/svg11.dtd\">\n<!-- Generated by graphviz version 2.43.0 (0)\n -->\n<!-- Title: %3 Pages: 1 -->\n<svg width=\"216pt\" height=\"188pt\"\n viewBox=\"0.00 0.00 216.50 188.00\" xmlns=\"http://www.w3.org/2000/svg\" xmlns:xlink=\"http://www.w3.org/1999/xlink\">\n<g id=\"graph0\" class=\"graph\" transform=\"scale(1 1) rotate(0) translate(4 184)\">\n<title>%3</title>\n<polygon fill=\"white\" stroke=\"transparent\" points=\"-4,4 -4,-184 212.5,-184 212.5,4 -4,4\"/>\n<!-- $x^1$ -->\n<g id=\"node1\" class=\"node\">\n<title>$x^1$</title>\n<ellipse fill=\"none\" stroke=\"black\" cx=\"32.5\" cy=\"-162\" rx=\"32.49\" ry=\"18\"/>\n<text text-anchor=\"middle\" x=\"32.5\" y=\"-158.3\" font-family=\"Times,serif\" font-size=\"14.00\">$x^1$</text>\n</g>\n<!-- 2 -->\n<g id=\"node2\" class=\"node\">\n<title>2</title>\n<ellipse fill=\"none\" stroke=\"black\" cx=\"73.5\" cy=\"-90\" rx=\"27\" ry=\"18\"/>\n<text text-anchor=\"middle\" x=\"73.5\" y=\"-86.3\" font-family=\"Times,serif\" font-size=\"14.00\">2</text>\n</g>\n<!-- 3 -->\n<g id=\"node3\" class=\"node\">\n<title>3</title>\n<ellipse fill=\"none\" stroke=\"black\" cx=\"145.5\" cy=\"-90\" rx=\"27\" ry=\"18\"/>\n<text text-anchor=\"middle\" x=\"145.5\" y=\"-86.3\" font-family=\"Times,serif\" font-size=\"14.00\">3</text>\n</g>\n<!-- 5 -->\n<g id=\"node6\" class=\"node\">\n<title>5</title>\n<ellipse fill=\"none\" stroke=\"black\" cx=\"145.5\" cy=\"-18\" rx=\"27\" ry=\"18\"/>\n<text text-anchor=\"middle\" x=\"145.5\" y=\"-14.3\" font-family=\"Times,serif\" font-size=\"14.00\">5</text>\n</g>\n<!-- 3&#45;&gt;5 -->\n<g id=\"edge3\" class=\"edge\">\n<title>3&#45;&gt;5</title>\n<path fill=\"none\" stroke=\"black\" d=\"M145.5,-71.7C145.5,-63.98 145.5,-54.71 145.5,-46.11\"/>\n<polygon fill=\"black\" stroke=\"black\" points=\"149,-46.1 145.5,-36.1 142,-46.1 149,-46.1\"/>\n</g>\n<!-- 4 -->\n<g id=\"node4\" class=\"node\">\n<title>4</title>\n<ellipse fill=\"none\" stroke=\"black\" cx=\"181.5\" cy=\"-162\" rx=\"27\" ry=\"18\"/>\n<text text-anchor=\"middle\" x=\"181.5\" y=\"-158.3\" font-family=\"Times,serif\" font-size=\"14.00\">4</text>\n</g>\n<!-- 1 -->\n<g id=\"node5\" class=\"node\">\n<title>1</title>\n<ellipse fill=\"none\" stroke=\"black\" cx=\"109.5\" cy=\"-162\" rx=\"27\" ry=\"18\"/>\n<text text-anchor=\"middle\" x=\"109.5\" y=\"-158.3\" font-family=\"Times,serif\" font-size=\"14.00\">1</text>\n</g>\n<!-- 1&#45;&gt;2 -->\n<g id=\"edge1\" class=\"edge\">\n<title>1&#45;&gt;2</title>\n<path fill=\"none\" stroke=\"black\" d=\"M101.15,-144.76C96.79,-136.28 91.35,-125.71 86.46,-116.2\"/>\n<polygon fill=\"black\" stroke=\"black\" points=\"89.49,-114.44 81.8,-107.15 83.26,-117.64 89.49,-114.44\"/>\n</g>\n<!-- 1&#45;&gt;3 -->\n<g id=\"edge2\" class=\"edge\">\n<title>1&#45;&gt;3</title>\n<path fill=\"none\" stroke=\"black\" d=\"M117.85,-144.76C122.21,-136.28 127.64,-125.71 132.54,-116.2\"/>\n<polygon fill=\"black\" stroke=\"black\" points=\"135.73,-117.64 137.19,-107.15 129.51,-114.44 135.73,-117.64\"/>\n</g>\n</g>\n</svg>\n",
            "text/plain": [
              "<graphviz.graphs.Digraph at 0x7f1a6e201270>"
            ]
          },
          "metadata": {},
          "execution_count": 162
        }
      ]
    },
    {
      "cell_type": "code",
      "source": [
        "\n",
        "from graphviz import Source\n",
        "A=nx.nx_agraph.to_agraph(G)\n",
        "A.write('fileA.dot')\n",
        "path='fileA.dot'\n",
        "s=Source.from_file(path)\n",
        "s"
      ],
      "metadata": {
        "colab": {
          "base_uri": "https://localhost:8080/",
          "height": 291
        },
        "id": "8F3WAmm1WQVJ",
        "outputId": "7ad71a55-2ddb-4dd9-b92a-ccb15d246a47"
      },
      "execution_count": 166,
      "outputs": [
        {
          "output_type": "execute_result",
          "data": {
            "image/svg+xml": "<?xml version=\"1.0\" encoding=\"UTF-8\" standalone=\"no\"?>\n<!DOCTYPE svg PUBLIC \"-//W3C//DTD SVG 1.1//EN\"\n \"http://www.w3.org/Graphics/SVG/1.1/DTD/svg11.dtd\">\n<!-- Generated by graphviz version 2.43.0 (0)\n -->\n<!-- Pages: 1 -->\n<svg width=\"134pt\" height=\"202pt\"\n viewBox=\"0.00 0.00 134.00 202.00\" xmlns=\"http://www.w3.org/2000/svg\" xmlns:xlink=\"http://www.w3.org/1999/xlink\">\n<g id=\"graph0\" class=\"graph\" transform=\"scale(1 1) rotate(0) translate(4 198)\">\n<polygon fill=\"white\" stroke=\"transparent\" points=\"-4,4 -4,-198 130,-198 130,4 -4,4\"/>\n<!-- 1 -->\n<g id=\"node1\" class=\"node\">\n<title>1</title>\n<polygon fill=\"white\" stroke=\"blue\" points=\"88,-194 38,-194 38,-144 88,-144 88,-194\"/>\n<text text-anchor=\"middle\" x=\"63\" y=\"-165.3\" font-family=\"Times,serif\" font-size=\"14.00\">$x^1$</text>\n</g>\n<!-- 2 -->\n<g id=\"node2\" class=\"node\">\n<title>2</title>\n<ellipse fill=\"none\" stroke=\"black\" cx=\"27\" cy=\"-90\" rx=\"27\" ry=\"18\"/>\n<text text-anchor=\"middle\" x=\"27\" y=\"-86.3\" font-family=\"Times,serif\" font-size=\"14.00\">2</text>\n</g>\n<!-- 1&#45;&gt;2 -->\n<g id=\"edge1\" class=\"edge\">\n<title>1&#45;&gt;2</title>\n<path fill=\"none\" stroke=\"black\" d=\"M51.61,-143.64C47.6,-135.06 43.08,-125.39 39.02,-116.7\"/>\n<polygon fill=\"black\" stroke=\"black\" points=\"42.08,-115 34.68,-107.42 35.74,-117.97 42.08,-115\"/>\n</g>\n<!-- 3 -->\n<g id=\"node3\" class=\"node\">\n<title>3</title>\n<ellipse fill=\"none\" stroke=\"black\" cx=\"99\" cy=\"-90\" rx=\"27\" ry=\"18\"/>\n<text text-anchor=\"middle\" x=\"99\" y=\"-86.3\" font-family=\"Times,serif\" font-size=\"14.00\">3</text>\n</g>\n<!-- 1&#45;&gt;3 -->\n<g id=\"edge2\" class=\"edge\">\n<title>1&#45;&gt;3</title>\n<path fill=\"none\" stroke=\"black\" d=\"M74.39,-143.64C78.4,-135.06 82.92,-125.39 86.98,-116.7\"/>\n<polygon fill=\"black\" stroke=\"black\" points=\"90.26,-117.97 91.32,-107.42 83.92,-115 90.26,-117.97\"/>\n</g>\n<!-- 4 -->\n<g id=\"node4\" class=\"node\">\n<title>4</title>\n<ellipse fill=\"none\" stroke=\"black\" cx=\"99\" cy=\"-18\" rx=\"27\" ry=\"18\"/>\n<text text-anchor=\"middle\" x=\"99\" y=\"-14.3\" font-family=\"Times,serif\" font-size=\"14.00\">4</text>\n</g>\n<!-- 3&#45;&gt;4 -->\n<g id=\"edge3\" class=\"edge\">\n<title>3&#45;&gt;4</title>\n<path fill=\"none\" stroke=\"black\" d=\"M99,-71.7C99,-63.98 99,-54.71 99,-46.11\"/>\n<polygon fill=\"black\" stroke=\"black\" points=\"102.5,-46.1 99,-36.1 95.5,-46.1 102.5,-46.1\"/>\n</g>\n</g>\n</svg>\n",
            "text/plain": [
              "<graphviz.sources.Source at 0x7f1a6e200d00>"
            ]
          },
          "metadata": {},
          "execution_count": 166
        }
      ]
    }
  ]
}